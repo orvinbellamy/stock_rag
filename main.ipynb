{
 "cells": [
  {
   "cell_type": "markdown",
   "metadata": {},
   "source": [
    "Stocks Rag\n",
    "\n",
    "Author: Orvin Bellamy (https://github.com/orvinbellamy)"
   ]
  },
  {
   "cell_type": "code",
   "execution_count": 1,
   "metadata": {},
   "outputs": [],
   "source": [
    "## Import libraries\n",
    "\n",
    "import yfinance as yf\n",
    "import pandas as pd\n",
    "import openai\n",
    "from openai import OpenAI\n",
    "import os\n",
    "import json\n",
    "import time\n",
    "from dotenv import load_dotenv\n",
    "import logging as log\n",
    "from filehandler import FileHandler\n",
    "from yfinancehandler import YFHandler\n",
    "from eventhandler import EventHandler, ThreadManager"
   ]
  },
  {
   "cell_type": "code",
   "execution_count": 2,
   "metadata": {},
   "outputs": [],
   "source": [
    "def check_run_status(client, thread_id: str, run_id: str, n_tries: int, wait_time):\n",
    "    \n",
    "    ## Wait until status is completed\n",
    "    for i in range(0, n_tries):\n",
    "\n",
    "        # Retrieve the latest run\n",
    "        run_retrieve = client.beta.threads.runs.retrieve(\n",
    "            thread_id=thread_id,\n",
    "            run_id=run_id\n",
    "        )\n",
    "\n",
    "        # Get the run status\n",
    "        run_status = run_retrieve.status\n",
    "\n",
    "        # Check run status\n",
    "        if run_status == 'completed':\n",
    "            print('Run is completed')\n",
    "            return f'Run is completed (run_id: {run_id}, thread_id {thread_id})'\n",
    "        elif run_status == 'in_progress':\n",
    "            print('Run is in progress')\n",
    "            pass\n",
    "        elif run_status == 'queued':\n",
    "            print('Run is queued')\n",
    "            pass\n",
    "        elif run_status == 'cancelling':\n",
    "            print('Run is cancelling')\n",
    "            pass\n",
    "        elif run_status == 'cancelled':\n",
    "            raise ValueError(f'Error: run is cancelled (run_id: {run_id}, thread_id {thread_id})')\n",
    "        elif run_status == 'failed':\n",
    "            raise ValueError(f'Error: run has failed (run_id: {run_id}, thread_id {thread_id})')\n",
    "        elif run_status == 'expired':\n",
    "            raise ValueError(f'Error: run has expired (run_id: {run_id}, thread_id {thread_id})')\n",
    "        elif run_status == 'requires_action':\n",
    "            print('Action is required')\n",
    "            return f'Action required (run_id: {run_id}, thread_id {thread_id})'\n",
    "\n",
    "        # Sleep to give time for the run to process\n",
    "        time.sleep(wait_time)"
   ]
  },
  {
   "cell_type": "code",
   "execution_count": 3,
   "metadata": {},
   "outputs": [],
   "source": [
    "## configruation\n",
    "\n",
    "# load_dotenv('config.env')\n",
    "# OPEN_API_KEY = os.getenv('OPEN_API_KEY')\n",
    "\n",
    "# List of JSON files\n",
    "# json_files = [('income_stmt', 'df_income_stmt_columns.json'), ('cashflow', 'df_cashflow_columns.json'), ('stocks', 'df_stocks_columns.json')]\n",
    "\n",
    "# Load schemas from JSON file\n",
    "with open('dataframe_schemas.json', 'r') as f:\n",
    "    schemas = json.load(f)\n",
    "\n",
    "with open('config/config.json', 'r') as f:\n",
    "    dic_config = json.load(f)\n",
    "    OPEN_API_KEY = dic_config['OPEN_API_KEY']\n",
    "    FIN_ANALYST_ID = dic_config['fin_analyst_assistant']\n",
    "\n",
    "# Set constants for loops\n",
    "NUM_TRIES = 12\n",
    "TIME_SLEEP = 5 # in seconds\n",
    "\n",
    "# Initialize an empty list to store the stocks\n",
    "stocks_list = []\n",
    "\n",
    "# Open the text file in read mode\n",
    "with open('stocks.txt', 'r') as file:\n",
    "    # Read each line of the file\n",
    "    for line in file:\n",
    "        # Strip any leading or trailing whitespace and append the line to the list\n",
    "        stocks_list.append(line.strip())\n",
    "\n",
    "df_portfolio = pd.read_csv('config/portfolio.csv')\n",
    "\n",
    "list_portfolio = list(df_portfolio['ticker'].unique())\n",
    "\n",
    "with open('openai_files.json', 'r') as f:\n",
    "    dic_files = json.load(f)\n",
    "\n",
    "FILE_PATH = 'openai_upload_files/'\n",
    "\n",
    "client = OpenAI(api_key=OPEN_API_KEY)"
   ]
  },
  {
   "cell_type": "markdown",
   "metadata": {},
   "source": [
    "### Stocks Data"
   ]
  },
  {
   "cell_type": "code",
   "execution_count": 4,
   "metadata": {},
   "outputs": [
    {
     "name": "stderr",
     "output_type": "stream",
     "text": [
      "c:\\Users\\Lenovo\\AppData\\Local\\Programs\\Python\\Python310\\lib\\site-packages\\yfinance\\utils.py:775: FutureWarning: The 'unit' keyword in TimedeltaIndex construction is deprecated and will be removed in a future version. Use pd.to_timedelta instead.\n",
      "  df.index += _pd.TimedeltaIndex(dst_error_hours, 'h')\n",
      "d:\\Documents\\Python Repo\\stock_rag\\yfinancehandler.py:20: FutureWarning: The behavior of DataFrame concatenation with empty or all-NA entries is deprecated. In a future version, this will no longer exclude empty or all-NA columns when determining the result dtypes. To retain the old behavior, exclude the relevant entries before the concat operation.\n",
      "  df = pd.concat([df, df_plc], ignore_index=True)\n",
      "c:\\Users\\Lenovo\\AppData\\Local\\Programs\\Python\\Python310\\lib\\site-packages\\yfinance\\utils.py:775: FutureWarning: The 'unit' keyword in TimedeltaIndex construction is deprecated and will be removed in a future version. Use pd.to_timedelta instead.\n",
      "  df.index += _pd.TimedeltaIndex(dst_error_hours, 'h')\n",
      "c:\\Users\\Lenovo\\AppData\\Local\\Programs\\Python\\Python310\\lib\\site-packages\\yfinance\\utils.py:775: FutureWarning: The 'unit' keyword in TimedeltaIndex construction is deprecated and will be removed in a future version. Use pd.to_timedelta instead.\n",
      "  df.index += _pd.TimedeltaIndex(dst_error_hours, 'h')\n",
      "c:\\Users\\Lenovo\\AppData\\Local\\Programs\\Python\\Python310\\lib\\site-packages\\yfinance\\utils.py:775: FutureWarning: The 'unit' keyword in TimedeltaIndex construction is deprecated and will be removed in a future version. Use pd.to_timedelta instead.\n",
      "  df.index += _pd.TimedeltaIndex(dst_error_hours, 'h')\n",
      "c:\\Users\\Lenovo\\AppData\\Local\\Programs\\Python\\Python310\\lib\\site-packages\\yfinance\\utils.py:775: FutureWarning: The 'unit' keyword in TimedeltaIndex construction is deprecated and will be removed in a future version. Use pd.to_timedelta instead.\n",
      "  df.index += _pd.TimedeltaIndex(dst_error_hours, 'h')\n",
      "c:\\Users\\Lenovo\\AppData\\Local\\Programs\\Python\\Python310\\lib\\site-packages\\yfinance\\utils.py:775: FutureWarning: The 'unit' keyword in TimedeltaIndex construction is deprecated and will be removed in a future version. Use pd.to_timedelta instead.\n",
      "  df.index += _pd.TimedeltaIndex(dst_error_hours, 'h')\n",
      "c:\\Users\\Lenovo\\AppData\\Local\\Programs\\Python\\Python310\\lib\\site-packages\\yfinance\\utils.py:775: FutureWarning: The 'unit' keyword in TimedeltaIndex construction is deprecated and will be removed in a future version. Use pd.to_timedelta instead.\n",
      "  df.index += _pd.TimedeltaIndex(dst_error_hours, 'h')\n",
      "c:\\Users\\Lenovo\\AppData\\Local\\Programs\\Python\\Python310\\lib\\site-packages\\yfinance\\utils.py:775: FutureWarning: The 'unit' keyword in TimedeltaIndex construction is deprecated and will be removed in a future version. Use pd.to_timedelta instead.\n",
      "  df.index += _pd.TimedeltaIndex(dst_error_hours, 'h')\n",
      "c:\\Users\\Lenovo\\AppData\\Local\\Programs\\Python\\Python310\\lib\\site-packages\\yfinance\\utils.py:775: FutureWarning: The 'unit' keyword in TimedeltaIndex construction is deprecated and will be removed in a future version. Use pd.to_timedelta instead.\n",
      "  df.index += _pd.TimedeltaIndex(dst_error_hours, 'h')\n",
      "c:\\Users\\Lenovo\\AppData\\Local\\Programs\\Python\\Python310\\lib\\site-packages\\yfinance\\utils.py:775: FutureWarning: The 'unit' keyword in TimedeltaIndex construction is deprecated and will be removed in a future version. Use pd.to_timedelta instead.\n",
      "  df.index += _pd.TimedeltaIndex(dst_error_hours, 'h')\n",
      "c:\\Users\\Lenovo\\AppData\\Local\\Programs\\Python\\Python310\\lib\\site-packages\\yfinance\\utils.py:775: FutureWarning: The 'unit' keyword in TimedeltaIndex construction is deprecated and will be removed in a future version. Use pd.to_timedelta instead.\n",
      "  df.index += _pd.TimedeltaIndex(dst_error_hours, 'h')\n",
      "c:\\Users\\Lenovo\\AppData\\Local\\Programs\\Python\\Python310\\lib\\site-packages\\yfinance\\utils.py:775: FutureWarning: The 'unit' keyword in TimedeltaIndex construction is deprecated and will be removed in a future version. Use pd.to_timedelta instead.\n",
      "  df.index += _pd.TimedeltaIndex(dst_error_hours, 'h')\n",
      "c:\\Users\\Lenovo\\AppData\\Local\\Programs\\Python\\Python310\\lib\\site-packages\\yfinance\\utils.py:775: FutureWarning: The 'unit' keyword in TimedeltaIndex construction is deprecated and will be removed in a future version. Use pd.to_timedelta instead.\n",
      "  df.index += _pd.TimedeltaIndex(dst_error_hours, 'h')\n",
      "c:\\Users\\Lenovo\\AppData\\Local\\Programs\\Python\\Python310\\lib\\site-packages\\yfinance\\utils.py:775: FutureWarning: The 'unit' keyword in TimedeltaIndex construction is deprecated and will be removed in a future version. Use pd.to_timedelta instead.\n",
      "  df.index += _pd.TimedeltaIndex(dst_error_hours, 'h')\n",
      "c:\\Users\\Lenovo\\AppData\\Local\\Programs\\Python\\Python310\\lib\\site-packages\\yfinance\\utils.py:775: FutureWarning: The 'unit' keyword in TimedeltaIndex construction is deprecated and will be removed in a future version. Use pd.to_timedelta instead.\n",
      "  df.index += _pd.TimedeltaIndex(dst_error_hours, 'h')\n",
      "c:\\Users\\Lenovo\\AppData\\Local\\Programs\\Python\\Python310\\lib\\site-packages\\yfinance\\utils.py:775: FutureWarning: The 'unit' keyword in TimedeltaIndex construction is deprecated and will be removed in a future version. Use pd.to_timedelta instead.\n",
      "  df.index += _pd.TimedeltaIndex(dst_error_hours, 'h')\n",
      "c:\\Users\\Lenovo\\AppData\\Local\\Programs\\Python\\Python310\\lib\\site-packages\\yfinance\\utils.py:775: FutureWarning: The 'unit' keyword in TimedeltaIndex construction is deprecated and will be removed in a future version. Use pd.to_timedelta instead.\n",
      "  df.index += _pd.TimedeltaIndex(dst_error_hours, 'h')\n",
      "c:\\Users\\Lenovo\\AppData\\Local\\Programs\\Python\\Python310\\lib\\site-packages\\yfinance\\utils.py:775: FutureWarning: The 'unit' keyword in TimedeltaIndex construction is deprecated and will be removed in a future version. Use pd.to_timedelta instead.\n",
      "  df.index += _pd.TimedeltaIndex(dst_error_hours, 'h')\n",
      "c:\\Users\\Lenovo\\AppData\\Local\\Programs\\Python\\Python310\\lib\\site-packages\\yfinance\\utils.py:775: FutureWarning: The 'unit' keyword in TimedeltaIndex construction is deprecated and will be removed in a future version. Use pd.to_timedelta instead.\n",
      "  df.index += _pd.TimedeltaIndex(dst_error_hours, 'h')\n",
      "d:\\Documents\\Python Repo\\stock_rag\\yfinancehandler.py:34: FutureWarning: The behavior of DataFrame concatenation with empty or all-NA entries is deprecated. In a future version, this will no longer exclude empty or all-NA columns when determining the result dtypes. To retain the old behavior, exclude the relevant entries before the concat operation.\n",
      "  df = pd.concat([df, df_plc], ignore_index=True)\n",
      "d:\\Documents\\Python Repo\\stock_rag\\yfinancehandler.py:48: FutureWarning: The behavior of DataFrame concatenation with empty or all-NA entries is deprecated. In a future version, this will no longer exclude empty or all-NA columns when determining the result dtypes. To retain the old behavior, exclude the relevant entries before the concat operation.\n",
      "  df = pd.concat([df, df_plc], ignore_index=True)\n"
     ]
    }
   ],
   "source": [
    "stocks_list = ['MSFT', 'SHOP', 'AMD', 'NVDA', 'AAPL', 'OKTA', 'SHOP', 'AMAT', 'TTWO', 'SNOW', 'SOXX', 'BA', 'DOCN', 'MCD', 'LULU', 'CSCO', 'ORCL', 'AMZN', 'ASML']\n",
    "\n",
    "yf_handler = YFHandler(stock_list=stocks_list, schemas=schemas)\n",
    "\n",
    "df_stocks = yf_handler.import_stocks()\n",
    "df_cashflow = yf_handler.import_cashflow()\n",
    "df_income_stmt = yf_handler.import_income_stmt()\n",
    "\n",
    "# Write to CSV\n",
    "# Technically this will be done by the FileHandler but just to be safe\n",
    "df_stocks.to_csv('openai_upload_files/df_stocks.csv', index=False)\n",
    "df_cashflow.to_csv('openai_upload_files/df_cashflow.csv', index=False)\n",
    "df_income_stmt.to_csv('openai_upload_files/df_income_stmt.csv', index=False)\n",
    "\n",
    "file_stocks = FileHandler(\n",
    "    df=df_stocks,\n",
    "    dic_file=dic_files,\n",
    "    file_name='df_stocks.csv',\n",
    "    file_path=FILE_PATH,\n",
    "    client=client\n",
    ")\n",
    "\n",
    "file_cashflow = FileHandler(\n",
    "    df=df_cashflow,\n",
    "    dic_file=dic_files,\n",
    "    file_name='df_cashflow.csv',\n",
    "    file_path=FILE_PATH,\n",
    "    client=client\n",
    ")\n",
    "\n",
    "file_income_stmt = FileHandler(\n",
    "    df=df_income_stmt,\n",
    "    dic_file=dic_files,\n",
    "    file_name='df_income_stmt.csv',\n",
    "    file_path=FILE_PATH,\n",
    "    client=client\n",
    ")"
   ]
  },
  {
   "cell_type": "code",
   "execution_count": 5,
   "metadata": {},
   "outputs": [
    {
     "name": "stdout",
     "output_type": "stream",
     "text": [
      "file name: df_stocks.csv, file id: file-SypaC7KPWQTRmonLIFVb1BnS doesn't exist or is already deleted\n"
     ]
    }
   ],
   "source": [
    "# Update files\n",
    "file_stocks.update_openai_file()\n",
    "file_cashflow.update_openai_file()\n",
    "file_income_stmt.update_openai_file()"
   ]
  },
  {
   "cell_type": "code",
   "execution_count": 6,
   "metadata": {},
   "outputs": [],
   "source": [
    "with open('config/assistants.json', 'r') as f:\n",
    "    dic_assistants= json.load(f)"
   ]
  },
  {
   "cell_type": "code",
   "execution_count": 10,
   "metadata": {},
   "outputs": [
    {
     "data": {
      "text/plain": [
       "Assistant(id='asst_Mqf9cO1sDTOd4UMYwcFfIQrA', created_at=1719539721, description=None, instructions='You are a financial assistant. Your task is to analyze the stock market and provide an analysis on the market or performance of specific stocks. The objective is to identify whether the specific stocks would make a good investment for a 6 months period. Use the income statement knowledge base you have.', metadata={}, model='gpt-4o', name='fin_analyst', object='assistant', tools=[CodeInterpreterTool(type='code_interpreter')], response_format='auto', temperature=1.0, tool_resources=ToolResources(code_interpreter=ToolResourcesCodeInterpreter(file_ids=['file-RFDn3ItudTsuyQwDM8zavKiM']), file_search=None), top_p=1.0)"
      ]
     },
     "execution_count": 10,
     "metadata": {},
     "output_type": "execute_result"
    }
   ],
   "source": [
    "# Assistant id asst_I4lFSi5mtU5OYoeivxOc4piG\n",
    "\n",
    "client.beta.assistants.update(\n",
    "    assistant_id=dic_assistants['fin_analyst']['id'], \n",
    "    instructions=dic_assistants['fin_analyst']['instructions'],\n",
    "    model=dic_assistants['fin_analyst']['model'],\n",
    "    tools=dic_assistants['fin_analyst']['tools'],\n",
    "    tool_resources={\n",
    "        'code_interpreter': {\n",
    "            'file_ids': [file_stocks.file_id]\n",
    "        }\n",
    "    }\n",
    ")\n",
    "# file_stocks.id"
   ]
  },
  {
   "cell_type": "code",
   "execution_count": 22,
   "metadata": {},
   "outputs": [
    {
     "ename": "KeyError",
     "evalue": "'0'",
     "output_type": "error",
     "traceback": [
      "\u001b[1;31m---------------------------------------------------------------------------\u001b[0m",
      "\u001b[1;31mKeyError\u001b[0m                                  Traceback (most recent call last)",
      "Cell \u001b[1;32mIn[22], line 32\u001b[0m\n\u001b[0;32m      1\u001b[0m \u001b[38;5;66;03m# # Set dictionary for tracking messages\u001b[39;00m\n\u001b[0;32m      2\u001b[0m \u001b[38;5;66;03m# dic_messages = {}\u001b[39;00m\n\u001b[0;32m      3\u001b[0m \n\u001b[1;32m   (...)\u001b[0m\n\u001b[0;32m     30\u001b[0m \u001b[38;5;66;03m# ) as stream:\u001b[39;00m\n\u001b[0;32m     31\u001b[0m \u001b[38;5;66;03m#     stream.until_done()\u001b[39;00m\n\u001b[1;32m---> 32\u001b[0m \u001b[43mdic\u001b[49m\u001b[43m[\u001b[49m\u001b[38;5;124;43m'\u001b[39;49m\u001b[38;5;124;43m0\u001b[39;49m\u001b[38;5;124;43m'\u001b[39;49m\u001b[43m]\u001b[49m\n",
      "\u001b[1;31mKeyError\u001b[0m: '0'"
     ]
    }
   ],
   "source": [
    "# # Set dictionary for tracking messages\n",
    "# dic_messages = {}\n",
    "\n",
    "# ## Create thread\n",
    "# thread = client.beta.threads.create(\n",
    "#     messages=[\n",
    "#         {\n",
    "#             'role': 'user',\n",
    "#             'content': 'Can you explain to me what the file I have attached is.',\n",
    "#             'attachments': [\n",
    "#                 {\n",
    "#                     'file_id': file_stocks.file_id,\n",
    "#                     'tools': [{'type': 'code_interpreter'}]\n",
    "#                 }\n",
    "#             ]\n",
    "#         }\n",
    "#     ]\n",
    "# )\n",
    "\n",
    "# # Get thread id\n",
    "# thread_id = thread.id\n",
    "\n",
    "# # Record first message\n",
    "# dic_messages['0'] = get_last_message(client=client, thread_id=thread_id)\n",
    "\n",
    "with client.beta.threads.runs.stream(\n",
    "    thread_id=thread.id,\n",
    "    assistant_id=FIN_ANALYST_ID,\n",
    "    event_handler=EventHandler(),\n",
    ") as stream:\n",
    "    stream.until_done()"
   ]
  },
  {
   "cell_type": "code",
   "execution_count": null,
   "metadata": {},
   "outputs": [],
   "source": [
    "## Create thread\n",
    "thread = client.beta.threads.create(\n",
    "    messages=[\n",
    "        {\n",
    "            'role': 'user',\n",
    "            'content': 'Can you explain to me what the file I have attached is.',\n",
    "            'attachments': [\n",
    "                {\n",
    "                    'file_id': file_stocks.file_id,\n",
    "                    'tools': [{'type': 'code_interpreter'}]\n",
    "                }\n",
    "            ]\n",
    "        }\n",
    "    ]\n",
    ")\n",
    "\n",
    "# Get thread id\n",
    "thread_id = thread.id\n",
    "\n",
    "# Set ThreadManager to easily track messages in a single thread\n",
    "thread_fin_analyst = ThreadManager(client=client, thread_id=thread_id)\n",
    "\n",
    "# # Run assistants\n",
    "# # Run should use stream now instaed of create\n",
    "# run = client.beta.threads.runs.create(\n",
    "#     thread_id = thread.id,\n",
    "#     assistant_id=FIN_ANALYST_ID\n",
    "# )\n",
    "\n",
    "# run_id = run.id\n",
    "\n",
    "# NUM_TRIES = 10\n",
    "# TIME_SLEEP = 5\n",
    "\n",
    "# check_run_status = check_run_status(client=client, thread_id=thread_id, run_id=run_id, wait_time=TIME_SLEEP, n_tries=NUM_TRIES)\n",
    "\n",
    "# # final step is to delete the thread\n",
    "# # client.beta.threads.delete(thread_id=THREAD_ID)\n",
    "\n",
    "with client.beta.threads.runs.stream(\n",
    "    thread_id=thread.id,\n",
    "    assistant_id=FIN_ANALYST_ID,\n",
    "    event_handler=EventHandler(),\n",
    ") as stream:\n",
    "    stream.until_done()\n",
    "\n",
    "thread_fin_analyst.get_last_message()"
   ]
  },
  {
   "cell_type": "code",
   "execution_count": 34,
   "metadata": {},
   "outputs": [
    {
     "data": {
      "text/plain": [
       "{'0': {'message_id': 'msg_Bfqeyo0fYvm3HGRhtblsva6m',\n",
       "  'assistant_id': None,\n",
       "  'created_at': 1719539977,\n",
       "  'file_ids': [Attachment(file_id='file-ol5IZhuwtOCZiKKMrafdDQKz', tools=[CodeInterpreterTool(type='code_interpreter')])],\n",
       "  'role': 'user',\n",
       "  'run_id': None,\n",
       "  'message_text': 'Can you explain to me what the file I have attached is.'},\n",
       " '1': {'message_id': 'msg_TwHsVXFRaa0WmbMVLSGrybO1',\n",
       "  'assistant_id': 'asst_Mqf9cO1sDTOd4UMYwcFfIQrA',\n",
       "  'created_at': 1719540461,\n",
       "  'file_ids': [],\n",
       "  'role': 'assistant',\n",
       "  'run_id': 'run_rhLE8SeKrSEr11tqkqkvXXCj',\n",
       "  'message_text': 'The uploaded file appears to contain historical stock market data for various tickers. Here is an overview of the columns present in the dataset:\\n\\n1. **Date**: The date of the stock market data entry.\\n2. **Open**: The opening price of the stock on that date.\\n3. **High**: The highest price of the stock on that date.\\n4. **Low**: The lowest price of the stock on that date.\\n5. **Close**: The closing price of the stock on that date.\\n6. **Volume**: The number of shares traded on that date.\\n7. **Dividends**: The dividend paid by the stock on that date (if any).\\n8. **Stock Splits**: The stock split ratio (if any stock split happened on that date).\\n9. **Ticker**: The ticker symbol of the stock, e.g., MSFT (Microsoft), ASML.\\n10. **Capital Gains**: Any capital gains related to the stock on that date (this column appears to have NaN values, indicating no data).\\n\\nWith this information, you can analyze the stock performance over time, compute moving averages, and look for patterns or trends.\\n\\nTo help you make an informed investment decision for the next 6 months, could you please specify which particular stocks (tickers) you are interested in analyzing?'}}"
      ]
     },
     "execution_count": 34,
     "metadata": {},
     "output_type": "execute_result"
    }
   ],
   "source": [
    "dic_messages"
   ]
  },
  {
   "cell_type": "code",
   "execution_count": null,
   "metadata": {},
   "outputs": [],
   "source": [
    "SyncCursorPage[ThreadMessage](\n",
    "    data=[ThreadMessage(id='msg_8LAgBdoruiq7qExZkbXyWlq4', assistant_id='asst_I4lFSi5mtU5OYoeivxOc4piG', content=[MessageContentText(text=Text(annotations=[], value=\"I am an AI developed by OpenAI, designed to assist you with a wide range of tasks. My capabilities include processing and analyzing text-based information, providing explanations, summaries, or insights on various topics, answering questions, and offering guidance or advice within the constraints of my programming. Specifically, in this context, I can help analyze financial documents, interpret data, and provide an analysis of the stock market or the performance of specific stocks based on the information available in documents you've provided or based on general finance principles. My goal is to support you in making informed decisions or gaining a better understanding of complex subjects.\"), type='text')], created_at=1711229792, file_ids=[], metadata={}, object='thread.message', role='assistant', run_id='run_TFbiUQc8B52YFXGsuQ3E7aPn', thread_id='thread_Vfn67f8h7LIwzba52KDpYFFk'), \n",
    "          ThreadMessage(id='msg_6dDKDzhRD09Ksjb0TNMHdJB9', assistant_id=None, content=[MessageContentText(text=Text(annotations=[], value='Can you tell me what you are and what do you do?'), type='text')], created_at=1711229119, file_ids=[], metadata={}, object='thread.message', role='user', run_id=None, thread_id='thread_Vfn67f8h7LIwzba52KDpYFFk')], \n",
    "          object='list', \n",
    "          first_id='msg_8LAgBdoruiq7qExZkbXyWlq4', \n",
    "          last_id='msg_6dDKDzhRD09Ksjb0TNMHdJB9', \n",
    "          has_more=False)"
   ]
  },
  {
   "cell_type": "code",
   "execution_count": 44,
   "metadata": {},
   "outputs": [
    {
     "data": {
      "text/plain": [
       "ThreadMessage(id='msg_Bp1EXNpq7dv2jAZa7TpCqS8S', assistant_id=None, content=[MessageContentText(text=Text(annotations=[], value='This is another test message, please ignore'), type='text')], created_at=1711434209, file_ids=[], metadata={}, object='thread.message', role='user', run_id=None, thread_id='thread_FGDsn9Jx8j5SjpgDKUZbo7ql')"
      ]
     },
     "execution_count": 44,
     "metadata": {},
     "output_type": "execute_result"
    }
   ],
   "source": [
    "client.beta.threads.messages.create(\n",
    "    thread_id=thread.id,\n",
    "    role=\"user\",\n",
    "    content=\"This is another test message, please ignore\"\n",
    "    # file_ids=[file_income_stmt_test.id]\n",
    ")"
   ]
  },
  {
   "cell_type": "code",
   "execution_count": 137,
   "metadata": {},
   "outputs": [],
   "source": [
    "run = client.beta.threads.runs.create(\n",
    "  thread_id=thread.id,\n",
    "  assistant_id=fin_analyst.id\n",
    ")"
   ]
  },
  {
   "cell_type": "code",
   "execution_count": null,
   "metadata": {},
   "outputs": [],
   "source": [
    "run = client.beta.threads.runs.retrieve(\n",
    "  thread_id=thread.id,\n",
    "  run_id=run.id\n",
    ")"
   ]
  },
  {
   "cell_type": "code",
   "execution_count": 147,
   "metadata": {},
   "outputs": [],
   "source": [
    "messages = client.beta.threads.messages.list(\n",
    "  thread_id=thread.id\n",
    ")"
   ]
  },
  {
   "cell_type": "code",
   "execution_count": 172,
   "metadata": {},
   "outputs": [
    {
     "name": "stdout",
     "output_type": "stream",
     "text": [
      "Based on the financial data provided in the document for Microsoft Corporation (MSFT) as of June 30, 2023, here is an analysis that may help in evaluating its stock for a potential investment over the next 6 months:\n",
      "\n",
      "1. **Strong Financial Performance**: Microsoft has shown a robust financial performance. Key highlights include:\n",
      "   - **Total Revenue**: $211.915 billion, indicating a strong top-line growth.\n",
      "   - **Gross Profit**: $146.052 billion, demonstrating a healthy margin that reflects efficient management and strong pricing power.\n",
      "   - **Net Income**: $72.361 billion, illustrating a solid bottom line that provides room for future investments and returns to shareholders.\n",
      "\n",
      "2. **Healthy EBITDA and EPS**: Microsoft reported an EBITDA (Earnings Before Interest, Taxes, Depreciation, and Amortization) of $105.140 billion and a normalized EBITDA of $105.155 billion, suggesting strong operational effectiveness. The Diluted Earnings Per Share (EPS) is $9.68, and the Basic EPS is $9.72, both of which are positive indicators for investors as they reflect the company's profitability on a per-share basis.\n",
      "\n",
      "3. **Investment in R&D and Marketing**: The data shows significant investment in Research and Development ($27.195 billion) and Selling and Marketing Expenses ($22.759 billion). These investments are key to long-term growth, as they reflect Microsoft's commitment to innovation and market expansion.\n",
      "\n",
      "4. **Interest Income/Expense and Taxations**: Microsoft has managed its finances wisely with net non-operating interest income of $1.026 billion despite having an interest expense of $1.968 billion. The company reported a tax provision of $16.950 billion, reflecting its tax obligations.\n",
      "\n",
      "Considering these financial metrics, Microsoft's stock shows promising signs for potential investors. Its strong revenue growth, profitability, and strategic investments in research and development and marketing indicate a robust business with the potential for sustained growth. Additionally, the company's healthy balance sheet positions it well for future opportunities and challenges.\n",
      "\n",
      "However, keep in mind that stock market investments should consider various factors including market conditions, industry trends, and broader economic indicators. It's also prudent to consider Microsoft's competitive position, product pipeline, and any potential regulatory or market risks.\n",
      "\n",
      "For a 6-month investment horizon, it's essential to stay informed about any upcoming product launches, earnings reports, or market changes that could impact Microsoft's stock. Given the solid financial performance and strategic positioning, MSFT may present a sound investment opportunity, but careful monitoring of both the company's performance and broader market trends is advised.\n"
     ]
    }
   ],
   "source": [
    "print(messages.data[0].content[0].text.value)"
   ]
  },
  {
   "cell_type": "code",
   "execution_count": 112,
   "metadata": {},
   "outputs": [
    {
     "data": {
      "text/plain": [
       "index                                                         datetime64[ns]\n",
       "Tax Effect Of Unusual Items                                           object\n",
       "Tax Rate For Calcs                                                    object\n",
       "Normalized EBITDA                                                     object\n",
       "Total Unusual Items                                                   object\n",
       "Total Unusual Items Excluding Goodwill                                object\n",
       "Net Income From Continuing Operation Net Minority Interest            object\n",
       "Reconciled Depreciation                                               object\n",
       "Reconciled Cost Of Revenue                                            object\n",
       "EBITDA                                                                object\n",
       "EBIT                                                                  object\n",
       "Net Interest Income                                                   object\n",
       "Interest Expense                                                      object\n",
       "Interest Income                                                       object\n",
       "Normalized Income                                                     object\n",
       "Net Income From Continuing And Discontinued Operation                 object\n",
       "Total Expenses                                                        object\n",
       "Total Operating Income As Reported                                    object\n",
       "Diluted Average Shares                                                object\n",
       "Basic Average Shares                                                  object\n",
       "Diluted EPS                                                           object\n",
       "Basic EPS                                                             object\n",
       "Diluted NI Availto Com Stockholders                                   object\n",
       "Average Dilution Earnings                                             object\n",
       "Net Income Common Stockholders                                        object\n",
       "Net Income                                                            object\n",
       "Net Income Including Noncontrolling Interests                         object\n",
       "Net Income Continuous Operations                                      object\n",
       "Tax Provision                                                         object\n",
       "Pretax Income                                                         object\n",
       "Other Income Expense                                                  object\n",
       "Special Income Charges                                                object\n",
       "Write Off                                                             object\n",
       "Earnings From Equity Interest                                         object\n",
       "Gain On Sale Of Security                                              object\n",
       "Net Non Operating Interest Income Expense                             object\n",
       "Total Other Finance Cost                                              object\n",
       "Interest Expense Non Operating                                        object\n",
       "Interest Income Non Operating                                         object\n",
       "Operating Income                                                      object\n",
       "Operating Expense                                                     object\n",
       "Other Operating Expenses                                              object\n",
       "Research And Development                                              object\n",
       "Selling General And Administration                                    object\n",
       "Selling And Marketing Expense                                         object\n",
       "General And Administrative Expense                                    object\n",
       "Other Gand A                                                          object\n",
       "Gross Profit                                                          object\n",
       "Cost Of Revenue                                                       object\n",
       "Total Revenue                                                         object\n",
       "Operating Revenue                                                     object\n",
       "dtype: object"
      ]
     },
     "execution_count": 112,
     "metadata": {},
     "output_type": "execute_result"
    }
   ],
   "source": [
    "# get historical market data\n",
    "# hist = msft.history(period=\"1mo\")\n",
    "stocks.tickers['SHOP'].income_stmt.T.reset_index().dtypes\n",
    "# df = stocks.tickers['SHOP'].cashflow.T.reset_index()\n",
    "# df.rename(columns={'index': 'Date'},inplace=True)\n",
    "# df"
   ]
  }
 ],
 "metadata": {
  "kernelspec": {
   "display_name": "Python 3",
   "language": "python",
   "name": "python3"
  },
  "language_info": {
   "codemirror_mode": {
    "name": "ipython",
    "version": 3
   },
   "file_extension": ".py",
   "mimetype": "text/x-python",
   "name": "python",
   "nbconvert_exporter": "python",
   "pygments_lexer": "ipython3",
   "version": "3.10.11"
  }
 },
 "nbformat": 4,
 "nbformat_minor": 2
}
