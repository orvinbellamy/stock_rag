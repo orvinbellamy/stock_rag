{
 "cells": [
  {
   "cell_type": "markdown",
   "metadata": {},
   "source": [
    "Stocks Rag\n",
    "\n",
    "Author: Orvin Bellamy (https://github.com/orvinbellamy)"
   ]
  },
  {
   "cell_type": "code",
   "execution_count": 8,
   "metadata": {},
   "outputs": [],
   "source": [
    "## Import libraries\n",
    "\n",
    "import yfinance as yf\n",
    "import pandas as pd\n",
    "import openai\n",
    "from openai import OpenAI\n",
    "import os\n",
    "import json\n",
    "import fs\n",
    "import time\n",
    "from dotenv import load_dotenv\n",
    "import logging as log\n",
    "from matplotlib import pyplot as plt\n",
    "from matplotlib import image as mpimg\n",
    "from filehandler import FileHandler\n",
    "from yfinancehandler import YFHandler\n",
    "from eventhandler import EventHandler, ThreadManager\n",
    "from agenthandler import AgentHandler\n",
    "from stockanalyzer import analyze_stock, stock_data_setup\n",
    "import importlib"
   ]
  },
  {
   "cell_type": "code",
   "execution_count": 9,
   "metadata": {},
   "outputs": [],
   "source": [
    "## configruation\n",
    "\n",
    "FILE_PATH = 'openai_upload_files/'\n",
    "OPENAI_DIC_FILE_NAME = 'openai_files.json'\n",
    "\n",
    "# Load schemas from JSON file\n",
    "with open('config/dataframe_schemas.json', 'r') as f:\n",
    "    schemas = json.load(f)\n",
    "\n",
    "# Initialize an empty list to store the stocks\n",
    "stocks_list = []\n",
    "\n",
    "# Open the text file in read mode\n",
    "with open('stocks.txt', 'r') as file:\n",
    "    # Read each line of the file\n",
    "    for line in file:\n",
    "        # Strip any leading or trailing whitespace and append the line to the list\n",
    "        stocks_list.append(line.strip())\n",
    "\n",
    "df_portfolio = pd.read_csv('config/portfolio.csv')\n",
    "\n",
    "list_portfolio = list(df_portfolio['ticker'].unique())\n",
    "\n",
    "# Open dic_files\n",
    "with open(f'{FILE_PATH}{OPENAI_DIC_FILE_NAME}', 'r') as f:\n",
    "    dic_files = json.load(f)\n",
    "\n",
    "with open('config/assistants.json', 'r') as json_file:\n",
    "    dic_assistants= json.load(json_file)"
   ]
  },
  {
   "cell_type": "markdown",
   "metadata": {},
   "source": [
    "### Stocks Data"
   ]
  },
  {
   "cell_type": "code",
   "execution_count": 7,
   "metadata": {},
   "outputs": [
    {
     "data": {
      "text/plain": [
       "2385"
      ]
     },
     "execution_count": 7,
     "metadata": {},
     "output_type": "execute_result"
    }
   ],
   "source": [
    "# client = OpenAI()\n",
    "len(client.files.list().data)"
   ]
  },
  {
   "cell_type": "code",
   "execution_count": null,
   "metadata": {},
   "outputs": [],
   "source": [
    "analysis = analyze_stock(\n",
    "\tticker= ['MSFT'], \n",
    "\tdic_files=dic_files,\n",
    "\tdic_assistants=dic_assistants\n",
    ")"
   ]
  },
  {
   "cell_type": "code",
   "execution_count": null,
   "metadata": {},
   "outputs": [],
   "source": [
    "print(analysis)"
   ]
  },
  {
   "cell_type": "code",
   "execution_count": 10,
   "metadata": {},
   "outputs": [
    {
     "name": "stderr",
     "output_type": "stream",
     "text": [
      "d:\\Documents\\Python Repo\\stock_rag\\yfinancehandler.py:20: FutureWarning: The behavior of DataFrame concatenation with empty or all-NA entries is deprecated. In a future version, this will no longer exclude empty or all-NA columns when determining the result dtypes. To retain the old behavior, exclude the relevant entries before the concat operation.\n",
      "  df = pd.concat([df, df_plc], ignore_index=True)\n"
     ]
    },
    {
     "name": "stdout",
     "output_type": "stream",
     "text": [
      "file name: df_stocks.csv, file id: file-DeTnJqQ1YLv3k9eIwtDM2gyF has been deleted\n",
      "file name: df_stocks.csv is uploaded, new file id: file-2w0Q9LvtGXU1Z8n8qtxKAS2z\n",
      "openai_upload_files/openai_files.json file has been updated\n"
     ]
    },
    {
     "name": "stderr",
     "output_type": "stream",
     "text": [
      "d:\\Documents\\Python Repo\\stock_rag\\yfinancehandler.py:34: FutureWarning: The behavior of DataFrame concatenation with empty or all-NA entries is deprecated. In a future version, this will no longer exclude empty or all-NA columns when determining the result dtypes. To retain the old behavior, exclude the relevant entries before the concat operation.\n",
      "  df = pd.concat([df, df_plc], ignore_index=True)\n"
     ]
    },
    {
     "name": "stdout",
     "output_type": "stream",
     "text": [
      "file name: df_cashflow.csv, file id: file-S4Abs9yu7703O4krAD1u5uQh has been deleted\n",
      "file name: df_cashflow.csv is uploaded, new file id: file-Jf3TNXpTu0A8NfoTu4QjD03t\n",
      "openai_upload_files/openai_files.json file has been updated\n"
     ]
    },
    {
     "name": "stderr",
     "output_type": "stream",
     "text": [
      "d:\\Documents\\Python Repo\\stock_rag\\yfinancehandler.py:48: FutureWarning: The behavior of DataFrame concatenation with empty or all-NA entries is deprecated. In a future version, this will no longer exclude empty or all-NA columns when determining the result dtypes. To retain the old behavior, exclude the relevant entries before the concat operation.\n",
      "  df = pd.concat([df, df_plc], ignore_index=True)\n"
     ]
    },
    {
     "name": "stdout",
     "output_type": "stream",
     "text": [
      "file name: df_income_stmt.csv, file id: file-Gg611EJjwibKJ49ZYcGAETTf has been deleted\n",
      "file name: df_income_stmt.csv is uploaded, new file id: file-DBuYMd4qpJhQV3xYzU7Igf7N\n",
      "openai_upload_files/openai_files.json file has been updated\n",
      "assistants.json file has been updated\n",
      "Assistant has been updated, name: fin_analyst, id: asst_Mqf9cO1sDTOd4UMYwcFfIQrA\n",
      "Assistant has been updated, name: fin_consultant, id: asst_mPlBQ4ZF8YIF238DWqWRhV4U\n"
     ]
    }
   ],
   "source": [
    "ticker = ['MSFT']\n",
    "\n",
    "client = OpenAI()\n",
    "\n",
    "file_stocks = stock_data_setup(client=client, ticker=ticker, type='price', dic_files=dic_files)\n",
    "file_cashflow = stock_data_setup(client=client, ticker=ticker, type='cash', dic_files=dic_files)\n",
    "file_income_stmt = stock_data_setup(client=client, ticker=ticker, type='income', dic_files=dic_files)\n",
    "\n",
    "# Have to manually update the tool_resources because the file_id can change\n",
    "dic_assistants['fin_analyst']['tool_resources'] = {\n",
    "\t'code_interpreter': {'file_ids': [dic_files['df_stocks.csv']]}\n",
    "}\n",
    "\n",
    "with open('config/assistants.json', 'w') as json_file:\n",
    "\tjson.dump(dic_assistants, json_file)\n",
    "\tprint(f'assistants.json file has been updated')\n",
    "\n",
    "fin_analyst = AgentHandler(\n",
    "\tclient = client, \n",
    "\tnew=False,\n",
    "\tassistant_name = 'fin_analyst',\n",
    "\tdic_file = dic_assistants,\n",
    "\tdic_file_name = 'assistants.json',\n",
    "\tdic_file_path='config/'\n",
    "\t)\n",
    "\n",
    "fin_consultant = AgentHandler(\n",
    "\tclient = client,\n",
    "\tnew=False,\n",
    "\tassistant_name = 'fin_consultant',\n",
    "\tdic_file = dic_assistants,\n",
    "\tdic_file_name = 'assistants.json',\n",
    "\tdic_file_path='config/'\n",
    "\t)\n",
    "\n",
    "# prompt_start = f\"This is your client. I want you to advice me on the stocks I list below.\\\n",
    "# \tI want to know the stocks' performance, if they're overvalued or undervalued, and whether or not they'll be a good investment.\\\n",
    "# \tI am looking for a long term (5+ years) investment and I have a relatively high risk tolerance.\\\n",
    "# \tStocks: {ticker}\""
   ]
  },
  {
   "cell_type": "code",
   "execution_count": 11,
   "metadata": {},
   "outputs": [
    {
     "name": "stdout",
     "output_type": "stream",
     "text": [
      "\n",
      "assistant > Here are the information gathered from the financial analyst: \n",
      "\n",
      "These are the stocks the client wants advice on: ['MSFT']\n",
      "\n",
      "I'll review the provided data to produce an analysis. Let me start by inspecting the contents of the uploaded files.\n",
      "assistant > code_interpreter\n",
      "\n",
      "import pandas as pd\n",
      "\n",
      "# Load the data from the uploaded files\n",
      "file_path_1 = '/mnt/data/file-Jf3TNXpTu0A8NfoTu4QjD03t'\n",
      "file_path_2 = '/mnt/data/file-2w0Q9LvtGXU1Z8n8qtxKAS2z'\n",
      "file_path_3 = '/mnt/data/file-DBuYMd4qpJhQV3xYzU7Igf7N'\n",
      "\n",
      "# Attempt to read the files and determine their content\n",
      "data1 = pd.read_csv(file_path_1)\n",
      "data2 = pd.read_csv(file_path_2)\n",
      "data3 = pd.read_csv(file_path_3)\n",
      "\n",
      "(data1.head(), data2.head(), data3.head())\n",
      "assistant > Here are the information gathered from the financial analyst: \n",
      "\n",
      "These are the stocks the client wants advice on: ['MSFT']\n",
      "\n",
      "### Data Description:\n",
      "\n",
      "1. **File 1**: Appears to contain financial data related to cash flow.\n",
      "2. **File 2**: Appears to contain historical stock prices or similar financial data.\n",
      "3. **File 3**: Appears to contain income statement data.\n",
      "\n",
      "Next, I will provide an analysis to offer insights into Microsoft's financial health based on this data.\n",
      "\n",
      "### Analysis of Microsoft's Financial Data:\n",
      "\n",
      "#### Cash Flow Analysis\n",
      "- **Free Cash Flow**: Observed substantial free cash flows; in 2023 and 2024, it was \\$59.475 billion and \\$74.071 billion respectively.\n",
      "- **Issuance of Debt and Capital Stock**: Significant issuance of debt in 2024 (\\$29.645 billion) and capital stock (\\$2.002 billion).\n",
      "- **Capital Expenditure**: Major expenditures observed with \\$44.477 billion in 2024.\n",
      "- **Beginning and End Cash Positions**: Demonstrates a strong end cash position of \\$18.315 billion in 2024.\n",
      "\n",
      "#### Income Statement Analysis\n",
      "- **Total Revenue**: Continuous growth noted; \\$245.122 billion in 2024.\n",
      "- **Net Income**: Significant profits; \\$88.136 billion in 2024 reflecting strong financial health.\n",
      "- **EBITDA**: Strong operating performance, with \\$133.009 billion in 2024.\n",
      "- **Selling General and Administration Expenses**: Increasing trend observed, which could impact net profitability if not managed.\n",
      "- **Gross Profit**: Consistent increase with \\$171.008 billion in 2024.\n",
      "\n",
      "Overall, Microsoft exhibits strong cash flow and income statement performance, indicating robust financial health and potential for growth. Trends in revenue, EBITDA, and net income are positive and show a steady upward trajectory. \n",
      "\n",
      "For precise recommendations or further details in specific areas, please let me know.get_last_message initiated\n",
      "\n",
      "assistant > ### Analysis and Recommendation for Microsoft (MSFT) Stock\n",
      "\n",
      "**1. Summary of Findings:**\n",
      "\n",
      "**Strengths:**\n",
      "- **Strong Cash Flows:** Microsoft has demonstrated substantial free cash flow growth, maintaining robust end cash positions. This ensures liquidity and the ability to fund new initiatives or withstand economic downturns.\n",
      "- **Consistent Revenue Growth:** Notable year-over-year increase in total revenue and gross profit, indicating a healthy and expanding business model.\n",
      "- **Profitability:** High net income figures showcase strong profitability, underlined by significant EBITDA, indicating effective cost management and operational efficiency.\n",
      "- **Low Debt Levels:** While there was significant debt issuance in 2024, the overall financial health suggests a conservative approach to leveraging, maintaining a balance between debt and equity financing.\n",
      "  \n",
      "**Weaknesses:**\n",
      "- **Increasing Operational Costs:** The selling, general, and administrative expenses are on the rise. Although growing revenues currently overshadow these costs, continuous increases could eventually impact net margins.\n",
      "- **Dependence on Global Market Conditions:** Similar to many tech giants, Microsoft’s performance can be influenced by global economic conditions, regulatory changes, and geopolitical risks.\n",
      "\n",
      "**2. Financial Metrics:**\n",
      "\n",
      "- **Free Cash Flow (2023-2024):**\n",
      "  - 2023: \\$59.475 billion\n",
      "  - 2024: \\$74.071 billion\n",
      "- **Net Income (2023-2024):**\n",
      "  - 2023: \\$72.361 billion\n",
      "  - 2024: \\$88.136 billion\n",
      "- **EBITDA (2023-2024):**\n",
      "  - 2023: \\$105.14 billion\n",
      "  - 2024: \\$133.009 billion\n",
      "- **Total Revenue (2023-2024):**\n",
      "  - 2023: \\$211.915 billion\n",
      "  - 2024: \\$245.122 billion\n",
      "\n",
      "**3. Investment Strategy Fit:**\n",
      "\n",
      "Given the strong financial health of Microsoft, it aligns well if the client's investment strategy includes:\n",
      "- **Long-term Growth:** With consistent revenue and profit growth, MSFT is suitable for a long-term growth portfolio.\n",
      "- **Stability and Dividend Income:** Known for its dividend payouts, MSFT also provides income potential alongside capital appreciation.\n",
      "- **Blue-chip Stock Allocation:** As one of the largest tech companies, Microsoft offers the stability and reliability expected from blue-chip stocks.\n",
      "\n",
      "**4. Recommendation:**\n",
      "\n",
      "Based on the analysis:\n",
      "**Buy Recommendation:** Microsoft (MSFT) demonstrates robust financial performance and growth potential, making it a solid addition to a diversified portfolio focusing on long-term growth and stability.\n",
      "\n",
      "If the client’s investment horizon is medium to long term with a focus on blue-chip, high-quality tech stocks, MSFT is a good fit. However, it would be wise to monitor operational costs and broader market conditions that may impact performance.get_last_message initiated\n",
      "No new message unrecorded.\n",
      "No new message unrecorded.\n",
      "No new message unrecorded.\n"
     ]
    }
   ],
   "source": [
    "prompt_start = f\"This is the financial consultant.\\\n",
    "\tThe client wants advice on the following stocks.\\\n",
    "\tI need you to provide me your analysis on these stocks so I can provide the appropriate recommendations.\\\n",
    "\tYou will be provided with the data of these stocks, use them as you see fit.\\\n",
    "\tStocks: {ticker}\"\n",
    "\n",
    "thread = ThreadManager(\n",
    "\tclient=client,\n",
    "\tprompt=prompt_start\n",
    ")\n",
    "\n",
    "thread.run_thread(\n",
    "\tassistant=fin_analyst,\n",
    "\tprompt=prompt_start,\n",
    "\tattachments=[file_stocks.file_id, file_cashflow.file_id, file_income_stmt.file_id]\n",
    ")\n",
    "\n",
    "next_prompt = thread.last_message\n",
    "\n",
    "thread.run_thread(\n",
    "\tassistant=fin_consultant,\n",
    "\tprompt=next_prompt\n",
    ")"
   ]
  },
  {
   "cell_type": "code",
   "execution_count": 48,
   "metadata": {},
   "outputs": [
    {
     "name": "stdout",
     "output_type": "stream",
     "text": [
      "\n",
      "assistant > Sure! Here is a short sample response:\n",
      "\n",
      "### Recommendation for MSFT\n",
      "**Buy**.\n",
      "\n",
      "### Summary:\n",
      "- **Strong Growth**: Significant revenue and net income growth.\n",
      "- **Robust Financials**: High free cash flow, substantial cash reserves.\n",
      "- **Market Leader**: Leading position and innovation in key tech sectors.\n",
      "\n",
      "### Key Metrics:\n",
      "- **P/E Ratio**: 25.53 (indicating strong investor confidence)\n",
      "\n",
      "Microsoft Corporation (MSFT) is a strong fit for a diversified, long-term growth portfolio.Image generated: file-x2DMkt5iGZYGudrpyGcdK3nA\n"
     ]
    }
   ],
   "source": [
    "next_prompt = 'This message is for testing. Can you give a short sample response.'\n",
    "\n",
    "thread.run_thread(\n",
    "\tassistant=fin_consultant,\n",
    "\tprompt=next_prompt\n",
    ")"
   ]
  },
  {
   "cell_type": "code",
   "execution_count": null,
   "metadata": {},
   "outputs": [],
   "source": [
    "# thread.messages\n",
    "type(client.beta.threads.messages.list(thread_id=thread.thread_id).data[0])\n",
    "\n",
    "# type(file_cashflow)"
   ]
  },
  {
   "cell_type": "code",
   "execution_count": 12,
   "metadata": {},
   "outputs": [
    {
     "data": {
      "text/plain": [
       "[{'message_id': 'msg_Aig5QLWhDSaLuwrnD1XXQ0k6',\n",
       "  'assistant_id': None,\n",
       "  'created_at': 1725748139,\n",
       "  'file_ids': [],\n",
       "  'role': 'user',\n",
       "  'run_id': None,\n",
       "  'message_text': \"This is the financial consultant.\\tThe client wants advice on the following stocks.\\tI need you to provide me your analysis on these stocks so I can provide the appropriate recommendations.\\tYou will be provided with the data of these stocks, use them as you see fit.\\tStocks: ['MSFT']\"},\n",
       " {'message_id': 'msg_FjiQYnqLSr6Ku0fSejuFkxp1',\n",
       "  'assistant_id': 'asst_Mqf9cO1sDTOd4UMYwcFfIQrA',\n",
       "  'created_at': 1725748142,\n",
       "  'file_ids': [],\n",
       "  'role': 'assistant',\n",
       "  'run_id': 'run_hIq6243g0epL19WXiYrx3FHD',\n",
       "  'message_text': \"Here are the information gathered from the financial analyst: \\n\\nThese are the stocks the client wants advice on: ['MSFT']\\n\\nI'll review the provided data to produce an analysis. Let me start by inspecting the contents of the uploaded files.\"},\n",
       " {'message_id': 'msg_tV8IGd3eFMvMk1m5VBCDzJBh',\n",
       "  'assistant_id': None,\n",
       "  'created_at': 1725748140,\n",
       "  'file_ids': [Attachment(file_id='file-DBuYMd4qpJhQV3xYzU7Igf7N', tools=[CodeInterpreterTool(type='code_interpreter')]),\n",
       "   Attachment(file_id='file-Jf3TNXpTu0A8NfoTu4QjD03t', tools=[CodeInterpreterTool(type='code_interpreter')]),\n",
       "   Attachment(file_id='file-2w0Q9LvtGXU1Z8n8qtxKAS2z', tools=[CodeInterpreterTool(type='code_interpreter')])],\n",
       "  'role': 'user',\n",
       "  'run_id': None,\n",
       "  'message_text': \"Here are the information gathered from the financial analyst: \\n\\nThese are the stocks the client wants advice on: ['MSFT']\\n\\nI'll review the provided data to produce an analysis. Let me start by inspecting the contents of the uploaded files.\\nThis is the financial consultant.\\tThe client wants advice on the following stocks.\\tI need you to provide me your analysis on these stocks so I can provide the appropriate recommendations.\\tYou will be provided with the data of these stocks, use them as you see fit.\\tStocks: ['MSFT']\"}]"
      ]
     },
     "execution_count": 12,
     "metadata": {},
     "output_type": "execute_result"
    }
   ],
   "source": [
    "# existing_message_id = [dic['message_id'] for dic in thread.messages]\n",
    "thread.messages"
   ]
  },
  {
   "cell_type": "code",
   "execution_count": 6,
   "metadata": {},
   "outputs": [
    {
     "name": "stdout",
     "output_type": "stream",
     "text": [
      "thread: thread_aLACFYn2LjezFmaC23UZlUAz has been deleted.\n"
     ]
    }
   ],
   "source": [
    "thread.delete_thread()"
   ]
  }
 ],
 "metadata": {
  "kernelspec": {
   "display_name": "Python 3",
   "language": "python",
   "name": "python3"
  },
  "language_info": {
   "codemirror_mode": {
    "name": "ipython",
    "version": 3
   },
   "file_extension": ".py",
   "mimetype": "text/x-python",
   "name": "python",
   "nbconvert_exporter": "python",
   "pygments_lexer": "ipython3",
   "version": "3.9.13"
  }
 },
 "nbformat": 4,
 "nbformat_minor": 2
}
