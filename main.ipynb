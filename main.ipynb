{
 "cells": [
  {
   "cell_type": "markdown",
   "metadata": {},
   "source": [
    "Stocks Rag\n",
    "\n",
    "Author: Orvin Bellamy (https://github.com/orvinbellamy)"
   ]
  },
  {
   "cell_type": "code",
   "execution_count": 1,
   "metadata": {},
   "outputs": [],
   "source": [
    "## Import libraries\n",
    "\n",
    "import yfinance as yf\n",
    "import pandas as pd\n",
    "import openai\n",
    "from openai import OpenAI\n",
    "import os\n",
    "import json\n",
    "from dotenv import load_dotenv"
   ]
  },
  {
   "cell_type": "code",
   "execution_count": 37,
   "metadata": {},
   "outputs": [],
   "source": [
    "## configruation\n",
    "\n",
    "load_dotenv('config.env')\n",
    "OPEN_API_KEY = os.getenv('OPEN_API_KEY')\n",
    "\n",
    "# List of JSON files\n",
    "# json_files = [('income_stmt', 'df_income_stmt_columns.json'), ('cashflow', 'df_cashflow_columns.json'), ('stocks', 'df_stocks_columns.json')]\n",
    "\n",
    "# Load schemas from JSON file\n",
    "with open('dataframe_schemas.json', 'r') as f:\n",
    "    schemas = json.load(f)\n",
    "\n",
    "# Initialize an empty list to store the stocks\n",
    "stocks_list = []\n",
    "\n",
    "# Open the text file in read mode\n",
    "with open('stocks.txt', 'r') as file:\n",
    "    # Read each line of the file\n",
    "    for line in file:\n",
    "        # Strip any leading or trailing whitespace and append the line to the list\n",
    "        stocks_list.append(line.strip())\n",
    "\n",
    "df_portfolio = pd.read_csv('portfolio.csv')\n",
    "\n",
    "list_portfolio = list(df_portfolio['ticker'].unique())\n",
    "\n",
    "client = OpenAI(api_key=OPEN_API_KEY)"
   ]
  },
  {
   "cell_type": "markdown",
   "metadata": {},
   "source": [
    "### Stocks Data"
   ]
  },
  {
   "cell_type": "code",
   "execution_count": 3,
   "metadata": {},
   "outputs": [],
   "source": [
    "stocks_list = ['MSFT', 'SHOP', 'AMD', 'NVDA', 'AAPL', 'OKTA', 'SHOP', 'AMAT', 'TTWO', 'SNOW', 'SOXX', 'BA', 'DOCN', 'MCD', 'LULU', 'CSCO', 'ORCL', 'AMZN', 'ASML']\n",
    "\n",
    "stocks_str = ' '.join(stocks_list)\n",
    "\n",
    "stocks = yf.Tickers(stocks_str)"
   ]
  },
  {
   "cell_type": "code",
   "execution_count": 40,
   "metadata": {},
   "outputs": [
    {
     "name": "stderr",
     "output_type": "stream",
     "text": [
      "c:\\Users\\Lenovo\\AppData\\Local\\Programs\\Python\\Python310\\lib\\site-packages\\yfinance\\utils.py:775: FutureWarning: The 'unit' keyword in TimedeltaIndex construction is deprecated and will be removed in a future version. Use pd.to_timedelta instead.\n",
      "  df.index += _pd.TimedeltaIndex(dst_error_hours, 'h')\n",
      "C:\\Users\\Lenovo\\AppData\\Local\\Temp\\ipykernel_29484\\4059506789.py:22: FutureWarning: The behavior of DataFrame concatenation with empty or all-NA entries is deprecated. In a future version, this will no longer exclude empty or all-NA columns when determining the result dtypes. To retain the old behavior, exclude the relevant entries before the concat operation.\n",
      "  df_stocks = pd.concat([df_stocks, df_plc])\n",
      "C:\\Users\\Lenovo\\AppData\\Local\\Temp\\ipykernel_29484\\4059506789.py:29: FutureWarning: The behavior of DataFrame concatenation with empty or all-NA entries is deprecated. In a future version, this will no longer exclude empty or all-NA columns when determining the result dtypes. To retain the old behavior, exclude the relevant entries before the concat operation.\n",
      "  df_cashflow = pd.concat([df_cashflow, df_plc])\n",
      "C:\\Users\\Lenovo\\AppData\\Local\\Temp\\ipykernel_29484\\4059506789.py:36: FutureWarning: The behavior of DataFrame concatenation with empty or all-NA entries is deprecated. In a future version, this will no longer exclude empty or all-NA columns when determining the result dtypes. To retain the old behavior, exclude the relevant entries before the concat operation.\n",
      "  df_income_stmt = pd.concat([df_income_stmt, df_plc])\n",
      "c:\\Users\\Lenovo\\AppData\\Local\\Programs\\Python\\Python310\\lib\\site-packages\\yfinance\\utils.py:775: FutureWarning: The 'unit' keyword in TimedeltaIndex construction is deprecated and will be removed in a future version. Use pd.to_timedelta instead.\n",
      "  df.index += _pd.TimedeltaIndex(dst_error_hours, 'h')\n",
      "c:\\Users\\Lenovo\\AppData\\Local\\Programs\\Python\\Python310\\lib\\site-packages\\yfinance\\utils.py:775: FutureWarning: The 'unit' keyword in TimedeltaIndex construction is deprecated and will be removed in a future version. Use pd.to_timedelta instead.\n",
      "  df.index += _pd.TimedeltaIndex(dst_error_hours, 'h')\n",
      "c:\\Users\\Lenovo\\AppData\\Local\\Programs\\Python\\Python310\\lib\\site-packages\\yfinance\\utils.py:775: FutureWarning: The 'unit' keyword in TimedeltaIndex construction is deprecated and will be removed in a future version. Use pd.to_timedelta instead.\n",
      "  df.index += _pd.TimedeltaIndex(dst_error_hours, 'h')\n",
      "c:\\Users\\Lenovo\\AppData\\Local\\Programs\\Python\\Python310\\lib\\site-packages\\yfinance\\utils.py:775: FutureWarning: The 'unit' keyword in TimedeltaIndex construction is deprecated and will be removed in a future version. Use pd.to_timedelta instead.\n",
      "  df.index += _pd.TimedeltaIndex(dst_error_hours, 'h')\n",
      "c:\\Users\\Lenovo\\AppData\\Local\\Programs\\Python\\Python310\\lib\\site-packages\\yfinance\\utils.py:775: FutureWarning: The 'unit' keyword in TimedeltaIndex construction is deprecated and will be removed in a future version. Use pd.to_timedelta instead.\n",
      "  df.index += _pd.TimedeltaIndex(dst_error_hours, 'h')\n",
      "c:\\Users\\Lenovo\\AppData\\Local\\Programs\\Python\\Python310\\lib\\site-packages\\yfinance\\utils.py:775: FutureWarning: The 'unit' keyword in TimedeltaIndex construction is deprecated and will be removed in a future version. Use pd.to_timedelta instead.\n",
      "  df.index += _pd.TimedeltaIndex(dst_error_hours, 'h')\n",
      "c:\\Users\\Lenovo\\AppData\\Local\\Programs\\Python\\Python310\\lib\\site-packages\\yfinance\\utils.py:775: FutureWarning: The 'unit' keyword in TimedeltaIndex construction is deprecated and will be removed in a future version. Use pd.to_timedelta instead.\n",
      "  df.index += _pd.TimedeltaIndex(dst_error_hours, 'h')\n",
      "c:\\Users\\Lenovo\\AppData\\Local\\Programs\\Python\\Python310\\lib\\site-packages\\yfinance\\utils.py:775: FutureWarning: The 'unit' keyword in TimedeltaIndex construction is deprecated and will be removed in a future version. Use pd.to_timedelta instead.\n",
      "  df.index += _pd.TimedeltaIndex(dst_error_hours, 'h')\n",
      "c:\\Users\\Lenovo\\AppData\\Local\\Programs\\Python\\Python310\\lib\\site-packages\\yfinance\\utils.py:775: FutureWarning: The 'unit' keyword in TimedeltaIndex construction is deprecated and will be removed in a future version. Use pd.to_timedelta instead.\n",
      "  df.index += _pd.TimedeltaIndex(dst_error_hours, 'h')\n",
      "c:\\Users\\Lenovo\\AppData\\Local\\Programs\\Python\\Python310\\lib\\site-packages\\yfinance\\utils.py:775: FutureWarning: The 'unit' keyword in TimedeltaIndex construction is deprecated and will be removed in a future version. Use pd.to_timedelta instead.\n",
      "  df.index += _pd.TimedeltaIndex(dst_error_hours, 'h')\n",
      "c:\\Users\\Lenovo\\AppData\\Local\\Programs\\Python\\Python310\\lib\\site-packages\\yfinance\\utils.py:775: FutureWarning: The 'unit' keyword in TimedeltaIndex construction is deprecated and will be removed in a future version. Use pd.to_timedelta instead.\n",
      "  df.index += _pd.TimedeltaIndex(dst_error_hours, 'h')\n",
      "c:\\Users\\Lenovo\\AppData\\Local\\Programs\\Python\\Python310\\lib\\site-packages\\yfinance\\utils.py:775: FutureWarning: The 'unit' keyword in TimedeltaIndex construction is deprecated and will be removed in a future version. Use pd.to_timedelta instead.\n",
      "  df.index += _pd.TimedeltaIndex(dst_error_hours, 'h')\n",
      "c:\\Users\\Lenovo\\AppData\\Local\\Programs\\Python\\Python310\\lib\\site-packages\\yfinance\\utils.py:775: FutureWarning: The 'unit' keyword in TimedeltaIndex construction is deprecated and will be removed in a future version. Use pd.to_timedelta instead.\n",
      "  df.index += _pd.TimedeltaIndex(dst_error_hours, 'h')\n",
      "c:\\Users\\Lenovo\\AppData\\Local\\Programs\\Python\\Python310\\lib\\site-packages\\yfinance\\utils.py:775: FutureWarning: The 'unit' keyword in TimedeltaIndex construction is deprecated and will be removed in a future version. Use pd.to_timedelta instead.\n",
      "  df.index += _pd.TimedeltaIndex(dst_error_hours, 'h')\n",
      "c:\\Users\\Lenovo\\AppData\\Local\\Programs\\Python\\Python310\\lib\\site-packages\\yfinance\\utils.py:775: FutureWarning: The 'unit' keyword in TimedeltaIndex construction is deprecated and will be removed in a future version. Use pd.to_timedelta instead.\n",
      "  df.index += _pd.TimedeltaIndex(dst_error_hours, 'h')\n",
      "c:\\Users\\Lenovo\\AppData\\Local\\Programs\\Python\\Python310\\lib\\site-packages\\yfinance\\utils.py:775: FutureWarning: The 'unit' keyword in TimedeltaIndex construction is deprecated and will be removed in a future version. Use pd.to_timedelta instead.\n",
      "  df.index += _pd.TimedeltaIndex(dst_error_hours, 'h')\n",
      "c:\\Users\\Lenovo\\AppData\\Local\\Programs\\Python\\Python310\\lib\\site-packages\\yfinance\\utils.py:775: FutureWarning: The 'unit' keyword in TimedeltaIndex construction is deprecated and will be removed in a future version. Use pd.to_timedelta instead.\n",
      "  df.index += _pd.TimedeltaIndex(dst_error_hours, 'h')\n",
      "c:\\Users\\Lenovo\\AppData\\Local\\Programs\\Python\\Python310\\lib\\site-packages\\yfinance\\utils.py:775: FutureWarning: The 'unit' keyword in TimedeltaIndex construction is deprecated and will be removed in a future version. Use pd.to_timedelta instead.\n",
      "  df.index += _pd.TimedeltaIndex(dst_error_hours, 'h')\n"
     ]
    }
   ],
   "source": [
    "# How to set period parameter:\n",
    "# week = wk\n",
    "# month = mo\n",
    "# year = y\n",
    "\n",
    "# Create an empty df_stocks dataframe\n",
    "df_stocks = pd.DataFrame(columns=dict(schemas['stocks']))\n",
    "\n",
    "# Create an empty df_cashflow dataframe\n",
    "df_cashflow = pd.DataFrame(columns=dict(schemas['cashflow']))\n",
    "\n",
    "# Create an empty df_income_stmt dataframe\n",
    "df_income_stmt = pd.DataFrame(columns=dict(schemas['income_stmt']))\n",
    "\n",
    "# Loop through each stock\n",
    "for stock in stocks_list:\n",
    "\n",
    "    # Append to df_stocks\n",
    "    df_plc = stocks.tickers[stock].history(period=\"max\").reset_index()\n",
    "    df_plc['Ticker'] = stock\n",
    "\n",
    "    df_stocks = pd.concat([df_stocks, df_plc])\n",
    "\n",
    "    # Append to df_cashflow\n",
    "    df_plc = stocks.tickers[stock].cashflow.T.reset_index()\n",
    "    df_plc.rename(columns={'index': 'Date'},inplace=True)\n",
    "    df_plc['Ticker'] = stock\n",
    "\n",
    "    df_cashflow = pd.concat([df_cashflow, df_plc])\n",
    "\n",
    "    # Append to df_income_stmt\n",
    "    df_plc = stocks.tickers[stock].income_stmt.T.reset_index()\n",
    "    df_plc.rename(columns={'index': 'Date'},inplace=True)\n",
    "    df_plc['Ticker'] = stock\n",
    "\n",
    "    df_income_stmt = pd.concat([df_income_stmt, df_plc])\n",
    "\n",
    "# Write to CSV\n",
    "df_stocks.to_csv('openai_upload_files/df_stocks.csv', index=False)\n",
    "df_cashflow.to_csv('openai_upload_files/df_cashflow.csv', index=False)\n",
    "df_income_stmt.to_csv('openai_upload_files/df_income_stmt.csv', index=False)"
   ]
  },
  {
   "cell_type": "code",
   "execution_count": 65,
   "metadata": {},
   "outputs": [],
   "source": [
    "dic_files = {}\n",
    "\n",
    "for key in dic_files:\n",
    "    try:\n",
    "        client.files.delete(dic_files[key])\n",
    "    except:\n",
    "        print('file id: ' + dic_files[key] + ' already deleted')\n",
    "\n",
    "for filename in os.listdir('openai_upload_files'):\n",
    "\n",
    "    # Upload a file with an \"assistants\" purpose\n",
    "    openai_file = client.files.create(\n",
    "        file=open(f'openai_upload_files/{filename}', \"rb\"),\n",
    "        purpose='assistants'\n",
    "    )\n",
    "    dic_files[filename] = openai_file.id\n",
    "\n",
    "    # file_income_stmt = client.files.create(\n",
    "    # file=open(\"df_income_stmt.csv\", \"rb\"),\n",
    "    # purpose='assistants'\n",
    "    # )\n",
    "    # dic_files['income_stmt'] = file_income_stmt.id\n",
    "\n",
    "    # file_cashflow = client.files.create(\n",
    "    # file=open(\"df_cashflow.csv\", \"rb\"),\n",
    "    # purpose='assistants'\n",
    "    # )\n",
    "    # dic_files['cashflow'] = file_cashflow.id\n",
    "\n",
    "with open('openai_files.json', 'w') as json_file:\n",
    "    json.dump(dic_files, json_file)"
   ]
  },
  {
   "cell_type": "code",
   "execution_count": 66,
   "metadata": {},
   "outputs": [],
   "source": [
    "for key in dic_files:\n",
    "    try:\n",
    "        client.files.delete(dic_files[key])\n",
    "    except:\n",
    "        print('file id: ' + dic_files[key] + ' already deleted')\n",
    "# for filename in os.listdir('openai_upload_files'):\n",
    "#     print(filename)"
   ]
  },
  {
   "cell_type": "code",
   "execution_count": 132,
   "metadata": {},
   "outputs": [],
   "source": [
    "# client.files.delete(file_id=file_income_stmt_test.id)\n",
    "\n",
    "file_income_stmt_test = client.files.create(\n",
    "  file=open(\"test.json\", \"rb\"),\n",
    "  purpose='assistants'\n",
    ")"
   ]
  },
  {
   "cell_type": "code",
   "execution_count": 135,
   "metadata": {},
   "outputs": [
    {
     "data": {
      "text/plain": [
       "Assistant(id='asst_I4lFSi5mtU5OYoeivxOc4piG', created_at=1708929718, description=None, file_ids=['file-gCVBXhVyflB0SvusXy4793Kz'], instructions='You are a financial assistant. Your task is to analyze the stock market and provide an analysis on the market or performance of specific stocks.         The objective is to identify whether the specific stocks would make a good investment for a 6 months period. Use the income statement knowledge base you have.', metadata={}, model='gpt-4-turbo-preview', name='Financial Assistant', object='assistant', tools=[ToolRetrieval(type='retrieval')])"
      ]
     },
     "execution_count": 135,
     "metadata": {},
     "output_type": "execute_result"
    }
   ],
   "source": [
    "# Assistant id asst_I4lFSi5mtU5OYoeivxOc4piG\n",
    "\n",
    "client.beta.assistants.update(assistant_id=fin_analyst.id, instructions='You are a financial assistant. Your task is to analyze the stock market and provide an analysis on the market or performance of specific stocks.\\\n",
    "         The objective is to identify whether the specific stocks would make a good investment for a 6 months period. Use the income statement knowledge base you have.')\n",
    "# file_stocks.id"
   ]
  },
  {
   "cell_type": "code",
   "execution_count": 40,
   "metadata": {},
   "outputs": [],
   "source": [
    "# I think financial analyst is too broad\n",
    "# Need to divide the work. Maybe one RAG studies the financial statements\n",
    "# One model evaluates the risk based on trends and sentiments\n",
    "\n",
    "fin_analyst = client.beta.assistants.create(\n",
    "    name='Financial Assistant',\n",
    "    instructions='You are a financial assistant. Your task is to analyze the stock market and provide an analysis on the market or performance of specific stocks.\\\n",
    "         The objective is to identify whether the specific stocks would make a good investment for a 6 months period.',\n",
    "    model='gpt-4-turbo-preview',\n",
    "    tools=[{'type': 'retrieval'}]\n",
    ")"
   ]
  },
  {
   "cell_type": "code",
   "execution_count": 136,
   "metadata": {},
   "outputs": [],
   "source": [
    "message = client.beta.threads.messages.create(\n",
    "    thread_id=thread.id,\n",
    "    role=\"user\",\n",
    "    content=\"Hi, what do you think of the Microsoft (MSFT) stock?\",\n",
    "    file_ids=[file_income_stmt_test.id]\n",
    ")"
   ]
  },
  {
   "cell_type": "code",
   "execution_count": 137,
   "metadata": {},
   "outputs": [],
   "source": [
    "run = client.beta.threads.runs.create(\n",
    "  thread_id=thread.id,\n",
    "  assistant_id=fin_analyst.id\n",
    ")"
   ]
  },
  {
   "cell_type": "code",
   "execution_count": 145,
   "metadata": {},
   "outputs": [],
   "source": [
    "run = client.beta.threads.runs.retrieve(\n",
    "  thread_id=thread.id,\n",
    "  run_id=run.id\n",
    ")"
   ]
  },
  {
   "cell_type": "code",
   "execution_count": 147,
   "metadata": {},
   "outputs": [],
   "source": [
    "messages = client.beta.threads.messages.list(\n",
    "  thread_id=thread.id\n",
    ")"
   ]
  },
  {
   "cell_type": "code",
   "execution_count": 172,
   "metadata": {},
   "outputs": [
    {
     "name": "stdout",
     "output_type": "stream",
     "text": [
      "Based on the financial data provided in the document for Microsoft Corporation (MSFT) as of June 30, 2023, here is an analysis that may help in evaluating its stock for a potential investment over the next 6 months:\n",
      "\n",
      "1. **Strong Financial Performance**: Microsoft has shown a robust financial performance. Key highlights include:\n",
      "   - **Total Revenue**: $211.915 billion, indicating a strong top-line growth.\n",
      "   - **Gross Profit**: $146.052 billion, demonstrating a healthy margin that reflects efficient management and strong pricing power.\n",
      "   - **Net Income**: $72.361 billion, illustrating a solid bottom line that provides room for future investments and returns to shareholders.\n",
      "\n",
      "2. **Healthy EBITDA and EPS**: Microsoft reported an EBITDA (Earnings Before Interest, Taxes, Depreciation, and Amortization) of $105.140 billion and a normalized EBITDA of $105.155 billion, suggesting strong operational effectiveness. The Diluted Earnings Per Share (EPS) is $9.68, and the Basic EPS is $9.72, both of which are positive indicators for investors as they reflect the company's profitability on a per-share basis.\n",
      "\n",
      "3. **Investment in R&D and Marketing**: The data shows significant investment in Research and Development ($27.195 billion) and Selling and Marketing Expenses ($22.759 billion). These investments are key to long-term growth, as they reflect Microsoft's commitment to innovation and market expansion.\n",
      "\n",
      "4. **Interest Income/Expense and Taxations**: Microsoft has managed its finances wisely with net non-operating interest income of $1.026 billion despite having an interest expense of $1.968 billion. The company reported a tax provision of $16.950 billion, reflecting its tax obligations.\n",
      "\n",
      "Considering these financial metrics, Microsoft's stock shows promising signs for potential investors. Its strong revenue growth, profitability, and strategic investments in research and development and marketing indicate a robust business with the potential for sustained growth. Additionally, the company's healthy balance sheet positions it well for future opportunities and challenges.\n",
      "\n",
      "However, keep in mind that stock market investments should consider various factors including market conditions, industry trends, and broader economic indicators. It's also prudent to consider Microsoft's competitive position, product pipeline, and any potential regulatory or market risks.\n",
      "\n",
      "For a 6-month investment horizon, it's essential to stay informed about any upcoming product launches, earnings reports, or market changes that could impact Microsoft's stock. Given the solid financial performance and strategic positioning, MSFT may present a sound investment opportunity, but careful monitoring of both the company's performance and broader market trends is advised.\n"
     ]
    }
   ],
   "source": [
    "print(messages.data[0].content[0].text.value)"
   ]
  },
  {
   "cell_type": "code",
   "execution_count": 112,
   "metadata": {},
   "outputs": [
    {
     "data": {
      "text/plain": [
       "index                                                         datetime64[ns]\n",
       "Tax Effect Of Unusual Items                                           object\n",
       "Tax Rate For Calcs                                                    object\n",
       "Normalized EBITDA                                                     object\n",
       "Total Unusual Items                                                   object\n",
       "Total Unusual Items Excluding Goodwill                                object\n",
       "Net Income From Continuing Operation Net Minority Interest            object\n",
       "Reconciled Depreciation                                               object\n",
       "Reconciled Cost Of Revenue                                            object\n",
       "EBITDA                                                                object\n",
       "EBIT                                                                  object\n",
       "Net Interest Income                                                   object\n",
       "Interest Expense                                                      object\n",
       "Interest Income                                                       object\n",
       "Normalized Income                                                     object\n",
       "Net Income From Continuing And Discontinued Operation                 object\n",
       "Total Expenses                                                        object\n",
       "Total Operating Income As Reported                                    object\n",
       "Diluted Average Shares                                                object\n",
       "Basic Average Shares                                                  object\n",
       "Diluted EPS                                                           object\n",
       "Basic EPS                                                             object\n",
       "Diluted NI Availto Com Stockholders                                   object\n",
       "Average Dilution Earnings                                             object\n",
       "Net Income Common Stockholders                                        object\n",
       "Net Income                                                            object\n",
       "Net Income Including Noncontrolling Interests                         object\n",
       "Net Income Continuous Operations                                      object\n",
       "Tax Provision                                                         object\n",
       "Pretax Income                                                         object\n",
       "Other Income Expense                                                  object\n",
       "Special Income Charges                                                object\n",
       "Write Off                                                             object\n",
       "Earnings From Equity Interest                                         object\n",
       "Gain On Sale Of Security                                              object\n",
       "Net Non Operating Interest Income Expense                             object\n",
       "Total Other Finance Cost                                              object\n",
       "Interest Expense Non Operating                                        object\n",
       "Interest Income Non Operating                                         object\n",
       "Operating Income                                                      object\n",
       "Operating Expense                                                     object\n",
       "Other Operating Expenses                                              object\n",
       "Research And Development                                              object\n",
       "Selling General And Administration                                    object\n",
       "Selling And Marketing Expense                                         object\n",
       "General And Administrative Expense                                    object\n",
       "Other Gand A                                                          object\n",
       "Gross Profit                                                          object\n",
       "Cost Of Revenue                                                       object\n",
       "Total Revenue                                                         object\n",
       "Operating Revenue                                                     object\n",
       "dtype: object"
      ]
     },
     "execution_count": 112,
     "metadata": {},
     "output_type": "execute_result"
    }
   ],
   "source": [
    "# get historical market data\n",
    "# hist = msft.history(period=\"1mo\")\n",
    "stocks.tickers['SHOP'].income_stmt.T.reset_index().dtypes\n",
    "# df = stocks.tickers['SHOP'].cashflow.T.reset_index()\n",
    "# df.rename(columns={'index': 'Date'},inplace=True)\n",
    "# df"
   ]
  }
 ],
 "metadata": {
  "kernelspec": {
   "display_name": "Python 3",
   "language": "python",
   "name": "python3"
  },
  "language_info": {
   "codemirror_mode": {
    "name": "ipython",
    "version": 3
   },
   "file_extension": ".py",
   "mimetype": "text/x-python",
   "name": "python",
   "nbconvert_exporter": "python",
   "pygments_lexer": "ipython3",
   "version": "3.10.11"
  }
 },
 "nbformat": 4,
 "nbformat_minor": 2
}
