{
 "cells": [
  {
   "cell_type": "markdown",
   "metadata": {},
   "source": [
    "Stocks Rag\n",
    "\n",
    "Author: Orvin Bellamy (https://github.com/orvinbellamy)"
   ]
  },
  {
   "cell_type": "code",
   "execution_count": 2,
   "metadata": {},
   "outputs": [],
   "source": [
    "## Import libraries\n",
    "\n",
    "import yfinance as yf\n",
    "import pandas as pd\n",
    "import openai\n",
    "from openai import OpenAI\n",
    "import os\n",
    "import json\n",
    "import fs\n",
    "import re\n",
    "import time\n",
    "from dotenv import load_dotenv\n",
    "import logging as log\n",
    "# from matplotlib import pyplot as plt\n",
    "# from matplotlib import image as mpimg\n",
    "from filehandler import FileHandler\n",
    "from yfinancehandler import YFHandler\n",
    "from eventhandler import EventHandler, ThreadManager\n",
    "from agenthandler import AgentHandler\n",
    "from stockanalyzer import analyze_stock, stock_data_setup\n",
    "from systemmanager import AgentThreadManager, SystemNode, MultiNodeManager\n",
    "import importlib"
   ]
  },
  {
   "cell_type": "code",
   "execution_count": 3,
   "metadata": {},
   "outputs": [],
   "source": [
    "## configruation\n",
    "\n",
    "FILE_PATH = 'openai_upload_files/'\n",
    "OPENAI_DIC_FILE_NAME = 'openai_files.json'\n",
    "\n",
    "# Load schemas from JSON file\n",
    "with open('config/dataframe_schemas.json', 'r') as f:\n",
    "    schemas = json.load(f)\n",
    "\n",
    "# Open dic_files\n",
    "with open(f'{FILE_PATH}{OPENAI_DIC_FILE_NAME}', 'r') as f:\n",
    "    dic_files = json.load(f)\n",
    "\n",
    "with open('config/assistants.json', 'r') as json_file:\n",
    "    dic_assistants= json.load(json_file)"
   ]
  },
  {
   "cell_type": "markdown",
   "metadata": {},
   "source": [
    "### Get Finance Data"
   ]
  },
  {
   "cell_type": "code",
   "execution_count": null,
   "metadata": {},
   "outputs": [
    {
     "name": "stderr",
     "output_type": "stream",
     "text": [
      "d:\\Documents\\Python Repo\\stock_rag\\yfinancehandler.py:35: FutureWarning: The behavior of DataFrame concatenation with empty or all-NA entries is deprecated. In a future version, this will no longer exclude empty or all-NA columns when determining the result dtypes. To retain the old behavior, exclude the relevant entries before the concat operation.\n",
      "  df = pd.concat([df, df_plc], ignore_index=True)\n"
     ]
    },
    {
     "name": "stdout",
     "output_type": "stream",
     "text": [
      "file name: df_stocks.csv, file id: file-9xCpSH4But6kxCnERJj5Fn has been deleted\n",
      "file name: df_stocks.csv is uploaded, new file id: file-HSv3ZdpTM5ptg1m99JihoT\n",
      "openai_upload_files/openai_files.json file has been updated\n"
     ]
    },
    {
     "name": "stderr",
     "output_type": "stream",
     "text": [
      "d:\\Documents\\Python Repo\\stock_rag\\yfinancehandler.py:58: FutureWarning: The behavior of DataFrame concatenation with empty or all-NA entries is deprecated. In a future version, this will no longer exclude empty or all-NA columns when determining the result dtypes. To retain the old behavior, exclude the relevant entries before the concat operation.\n",
      "  df = pd.concat([df, df_plc], ignore_index=True)\n"
     ]
    },
    {
     "name": "stdout",
     "output_type": "stream",
     "text": [
      "file name: df_cashflow.csv, file id: file-82wg4CdQSL9XgtD8SNQ7JJ has been deleted\n",
      "file name: df_cashflow.csv is uploaded, new file id: file-9MspPBXXKYkoFDE5mScQAv\n",
      "openai_upload_files/openai_files.json file has been updated\n"
     ]
    },
    {
     "name": "stderr",
     "output_type": "stream",
     "text": [
      "d:\\Documents\\Python Repo\\stock_rag\\yfinancehandler.py:84: FutureWarning: The behavior of DataFrame concatenation with empty or all-NA entries is deprecated. In a future version, this will no longer exclude empty or all-NA columns when determining the result dtypes. To retain the old behavior, exclude the relevant entries before the concat operation.\n",
      "  df = pd.concat([df, df_plc], ignore_index=True)\n"
     ]
    },
    {
     "name": "stdout",
     "output_type": "stream",
     "text": [
      "file name: df_income_stmt.csv, file id: file-9i5gretCJHtnWZbvTJAVjC has been deleted\n",
      "file name: df_income_stmt.csv is uploaded, new file id: file-WMM9tDAgeBpFPJc3VhkJ5E\n",
      "openai_upload_files/openai_files.json file has been updated\n"
     ]
    },
    {
     "name": "stderr",
     "output_type": "stream",
     "text": [
      "d:\\Documents\\Python Repo\\stock_rag\\yfinancehandler.py:110: FutureWarning: The behavior of DataFrame concatenation with empty or all-NA entries is deprecated. In a future version, this will no longer exclude empty or all-NA columns when determining the result dtypes. To retain the old behavior, exclude the relevant entries before the concat operation.\n",
      "  df = pd.concat([df, df_plc], ignore_index=True)\n"
     ]
    },
    {
     "name": "stdout",
     "output_type": "stream",
     "text": [
      "file name: df_balance_sheet.csv, file id: file-2TAXzmqfepMiTqZ4bqDp9g has been deleted\n",
      "file name: df_balance_sheet.csv is uploaded, new file id: file-G2y6oa93uDBSbF5MwhVxdi\n",
      "openai_upload_files/openai_files.json file has been updated\n"
     ]
    }
   ],
   "source": [
    "## Get data from Yahoo Finance API\n",
    "\n",
    "ticker = ['MSFT']\n",
    "\n",
    "client = OpenAI()\n",
    "\n",
    "stock_data_config = {\n",
    "\t'price': {'period': '5y'},\n",
    "\t'cashflow': {'period': 'quarter'},\n",
    "\t'income_statement': {'period': 'quarter'},\n",
    "\t'balance_sheet': {'period': 'quarter'}\n",
    "}\n",
    "\n",
    "dic_file_manager = stock_data_setup(\n",
    "\tclient=client, \n",
    "\tticker=ticker, \n",
    "\tconfig=stock_data_config,\n",
    "\tdic_files=dic_files)"
   ]
  },
  {
   "cell_type": "code",
   "execution_count": null,
   "metadata": {},
   "outputs": [
    {
     "name": "stdout",
     "output_type": "stream",
     "text": [
      "Assistant has been updated, name: ceo, id: asst_wvpcZU5aOJUalB1LXAqnOuyt\n",
      "Assistant has been updated, name: market_research_manager, id: asst_85Pyx79Nbjg4GS2df2PFKmja\n",
      "Assistant has been updated, name: industry_news_analyst, id: asst_tUtERZ4G8hR2a0vsgmvecDxE\n",
      "Assistant has been updated, name: company_news_analyst, id: asst_ZMTZ8KLdnwp1L06TRPRIk7b0\n",
      "Assistant has been updated, name: press_release_analyst, id: asst_cIorJMUDCSkafpRXXKLfhC3A\n",
      "Assistant has been updated, name: stock_price_manager, id: asst_Smga0Hhjx5zcYHPCSCTDK0F1\n",
      "Assistant has been updated, name: stock_price_analyst, id: asst_vmQ4udsZsVAgJv4OEXYxj72h\n",
      "assistant_id: asst_vmQ4udsZsVAgJv4OEXYxj72h has been updated.\n",
      "stock_price_analyst properties in main dictionary has been updated.\n",
      "config/assistants.json file has been updated\n",
      "Assistant has been updated, name: financial_data_manager, id: asst_z0EwtpwaTg2VIzd0puFaF5Ax\n",
      "Assistant has been updated, name: income_statement_analyst, id: asst_WnNOv9IIsKPbLCVeiIzm5rMj\n",
      "assistant_id: asst_WnNOv9IIsKPbLCVeiIzm5rMj has been updated.\n",
      "income_statement_analyst properties in main dictionary has been updated.\n",
      "config/assistants.json file has been updated\n",
      "Assistant has been updated, name: balance_sheet_analyst, id: asst_Rpp16fFsU4bgEr3WBb4kMe0L\n",
      "assistant_id: asst_WnNOv9IIsKPbLCVeiIzm5rMj has been updated.\n",
      "income_statement_analyst properties in main dictionary has been updated.\n",
      "config/assistants.json file has been updated\n",
      "Assistant has been updated, name: cash_flow_analyst, id: asst_3HIEYeBkm6xXlHgPy2PdVK2n\n",
      "assistant_id: asst_3HIEYeBkm6xXlHgPy2PdVK2n has been updated.\n",
      "cash_flow_analyst properties in main dictionary has been updated.\n",
      "config/assistants.json file has been updated\n"
     ]
    }
   ],
   "source": [
    "## Set the Agents\n",
    "\n",
    "agent_thread_manager = AgentThreadManager()\n",
    "\n",
    "ag_ceo = AgentHandler(\n",
    "\tclient = client, \n",
    "\tnew=False,\n",
    "\tassistant_name = 'ceo',\n",
    "\tdic_file = dic_assistants\n",
    "\t)\n",
    "\n",
    "ag_market_research_manager = AgentHandler(\n",
    "\tclient = client,\n",
    "\tnew=False,\n",
    "\tassistant_name = 'market_research_manager',\n",
    "\tdic_file = dic_assistants\n",
    "\t)\n",
    "\n",
    "ag_industry_news_analyst = AgentHandler(\n",
    "\tclient = client,\n",
    "\tnew=False,\n",
    "\tassistant_name = 'industry_news_analyst',\n",
    "\tdic_file = dic_assistants\n",
    "\t)\n",
    "\n",
    "ag_company_news_analyst = AgentHandler(\n",
    "\tclient = client,\n",
    "\tnew=False,\n",
    "\tassistant_name = 'company_news_analyst',\n",
    "\tdic_file = dic_assistants\n",
    "\t)\n",
    "\n",
    "ag_press_release_analyst = AgentHandler(\n",
    "\tclient = client,\n",
    "\tnew=False,\n",
    "\tassistant_name = 'press_release_analyst',\n",
    "\tdic_file = dic_assistants\n",
    "\t)\n",
    "\n",
    "ag_stock_price_manager = AgentHandler(\n",
    "\tclient = client,\n",
    "\tnew=False,\n",
    "\tassistant_name = 'stock_price_manager',\n",
    "\tdic_file = dic_assistants\n",
    "\t)\n",
    "\n",
    "ag_stock_price_analyst = AgentHandler(\n",
    "\tclient = client,\n",
    "\tnew=False,\n",
    "\tassistant_name = 'stock_price_analyst',\n",
    "\tdic_file = dic_assistants\n",
    "\t)\n",
    "\n",
    "ag_stock_price_analyst.update_agent(\n",
    "\tagent_files=[dic_file_manager['price'].file_id]\n",
    ")\n",
    "\n",
    "ag_financial_data_manager = AgentHandler(\n",
    "\tclient = client,\n",
    "\tnew=False,\n",
    "\tassistant_name = 'financial_data_manager',\n",
    "\tdic_file = dic_assistants\n",
    "\t)\n",
    "\n",
    "ag_income_statement_analyst = AgentHandler(\n",
    "\tclient = client,\n",
    "\tnew=False,\n",
    "\tassistant_name = 'income_statement_analyst',\n",
    "\tdic_file = dic_assistants\n",
    "\t)\n",
    "\n",
    "ag_income_statement_analyst.update_agent(\n",
    "\tagent_files=[dic_file_manager['income_statement'].file_id]\n",
    ")\n",
    "\n",
    "ag_balance_sheet_analyst = AgentHandler(\n",
    "\tclient = client,\n",
    "\tnew=False,\n",
    "\tassistant_name = 'balance_sheet_analyst',\n",
    "\tdic_file = dic_assistants\n",
    "\t)\n",
    "\n",
    "ag_income_statement_analyst.update_agent(\n",
    "\tagent_files=[dic_file_manager['balance_sheet'].file_id]\n",
    ")\n",
    "\n",
    "ag_cash_flow_analyst = AgentHandler(\n",
    "\tclient = client,\n",
    "\tnew=False,\n",
    "\tassistant_name = 'cash_flow_analyst',\n",
    "\tdic_file = dic_assistants\n",
    "\t)\n",
    "\n",
    "ag_cash_flow_analyst.update_agent(\n",
    "\tagent_files=[dic_file_manager['cashflow'].file_id]\n",
    ")"
   ]
  },
  {
   "cell_type": "code",
   "execution_count": null,
   "metadata": {},
   "outputs": [],
   "source": [
    "## Set the nodes\n",
    "\n",
    "nd_market_research = SystemNode(\n",
    "\tclient=client,\n",
    "\tname='market_research',\n",
    "\tmain_agent=ag_market_research_manager,\n",
    "\tsub_agents=[ag_industry_news_analyst, ag_company_news_analyst, ag_press_release_analyst],\n",
    "\tagent_thread_manager=agent_thread_manager\n",
    "\t)\n",
    "\n",
    "nd_stock_price = SystemNode(\n",
    "\tclient=client,\n",
    "\tname='stock_price',\n",
    "\tmain_agent=ag_stock_price_manager,\n",
    "\tsub_agents=[ag_stock_price_analyst],\n",
    "\tagent_thread_manager=agent_thread_manager\n",
    "\t)\n",
    "\n",
    "nd_financial_data = SystemNode(\n",
    "\tclient=client,\n",
    "\tname='financial_data',\n",
    "\tmain_agent=ag_financial_data_manager,\n",
    "\tsub_agents=[ag_income_statement_analyst, ag_balance_sheet_analyst, ag_cash_flow_analyst],\n",
    "\tagent_thread_manager=agent_thread_manager\n",
    "\t)\n",
    "\n",
    "nd_management = SystemNode(\n",
    "\tclient=client,\n",
    "\tname='management',\n",
    "\tmain_agent=ag_ceo,\n",
    "\tsub_agents=[ag_market_research_manager, ag_stock_price_manager, ag_financial_data_manager],\n",
    "\tagent_thread_manager=agent_thread_manager\n",
    "\t)"
   ]
  },
  {
   "cell_type": "code",
   "execution_count": null,
   "metadata": {},
   "outputs": [],
   "source": [
    "## Set the controller\n",
    "\n",
    "multi_nodes_schema = {\n",
    "\tnd_management: set([nd_market_research, nd_stock_price, nd_financial_data]),\n",
    "\tnd_market_research: set(),\n",
    "\tnd_stock_price: set(),\n",
    "\tnd_financial_data: set()\n",
    "}\n",
    "\n",
    "nodes_manager = MultiNodeManager(schema=multi_nodes_schema, schema_depth=2)"
   ]
  },
  {
   "cell_type": "code",
   "execution_count": null,
   "metadata": {},
   "outputs": [],
   "source": [
    "## Run\n",
    "\n",
    "prompt = \"\"\"\n",
    "\tThis is a message from Client:\n",
    "\n",
    "\tI want your assessment on the stock ticker 'MSFT'\n",
    "\t\"\"\"\n",
    "\n",
    "output = nodes_manager.run(prompt=prompt)"
   ]
  }
 ],
 "metadata": {
  "kernelspec": {
   "display_name": "Python 3",
   "language": "python",
   "name": "python3"
  },
  "language_info": {
   "codemirror_mode": {
    "name": "ipython",
    "version": 3
   },
   "file_extension": ".py",
   "mimetype": "text/x-python",
   "name": "python",
   "nbconvert_exporter": "python",
   "pygments_lexer": "ipython3",
   "version": "3.9.13"
  }
 },
 "nbformat": 4,
 "nbformat_minor": 2
}
