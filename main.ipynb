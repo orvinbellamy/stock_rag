{
 "cells": [
  {
   "cell_type": "markdown",
   "metadata": {},
   "source": [
    "Stocks Rag\n",
    "\n",
    "Author: Orvin Bellamy (https://github.com/orvinbellamy)"
   ]
  },
  {
   "cell_type": "code",
   "execution_count": 56,
   "metadata": {},
   "outputs": [],
   "source": [
    "## Import libraries\n",
    "\n",
    "import yfinance as yf\n",
    "import pandas as pd\n",
    "import openai\n",
    "from openai import OpenAI\n",
    "import os\n",
    "import json\n",
    "import fs\n",
    "import time\n",
    "from dotenv import load_dotenv\n",
    "import logging as log\n",
    "from matplotlib import pyplot as plt\n",
    "from matplotlib import image as mpimg\n",
    "from filehandler import FileHandler\n",
    "from yfinancehandler import YFHandler\n",
    "from eventhandler import EventHandler, ThreadManager\n",
    "from agenthandler import AgentHandler"
   ]
  },
  {
   "cell_type": "code",
   "execution_count": null,
   "metadata": {},
   "outputs": [],
   "source": [
    "def check_run_status(client, thread_id: str, run_id: str, n_tries: int, wait_time):\n",
    "    \n",
    "    ## Wait until status is completed\n",
    "    for i in range(0, n_tries):\n",
    "\n",
    "        # Retrieve the latest run\n",
    "        run_retrieve = client.beta.threads.runs.retrieve(\n",
    "            thread_id=thread_id,\n",
    "            run_id=run_id\n",
    "        )\n",
    "\n",
    "        # Get the run status\n",
    "        run_status = run_retrieve.status\n",
    "\n",
    "        # Check run status\n",
    "        if run_status == 'completed':\n",
    "            print('Run is completed')\n",
    "            return f'Run is completed (run_id: {run_id}, thread_id {thread_id})'\n",
    "        elif run_status == 'in_progress':\n",
    "            print('Run is in progress')\n",
    "            pass\n",
    "        elif run_status == 'queued':\n",
    "            print('Run is queued')\n",
    "            pass\n",
    "        elif run_status == 'cancelling':\n",
    "            print('Run is cancelling')\n",
    "            pass\n",
    "        elif run_status == 'cancelled':\n",
    "            raise ValueError(f'Error: run is cancelled (run_id: {run_id}, thread_id {thread_id})')\n",
    "        elif run_status == 'failed':\n",
    "            raise ValueError(f'Error: run has failed (run_id: {run_id}, thread_id {thread_id})')\n",
    "        elif run_status == 'expired':\n",
    "            raise ValueError(f'Error: run has expired (run_id: {run_id}, thread_id {thread_id})')\n",
    "        elif run_status == 'requires_action':\n",
    "            print('Action is required')\n",
    "            return f'Action required (run_id: {run_id}, thread_id {thread_id})'\n",
    "\n",
    "        # Sleep to give time for the run to process\n",
    "        time.sleep(wait_time)"
   ]
  },
  {
   "cell_type": "code",
   "execution_count": 3,
   "metadata": {},
   "outputs": [],
   "source": [
    "## configruation\n",
    "\n",
    "FILE_PATH = 'openai_upload_files/'\n",
    "OPENAI_DIC_FILE_NAME = 'openai_files.json'\n",
    "\n",
    "# Set constants for loops\n",
    "NUM_TRIES = 12\n",
    "TIME_SLEEP = 5 # in seconds\n",
    "\n",
    "# load_dotenv('config.env')\n",
    "# OPEN_API_KEY = os.getenv('OPEN_API_KEY')\n",
    "\n",
    "# List of JSON files\n",
    "# json_files = [('income_stmt', 'df_income_stmt_columns.json'), ('cashflow', 'df_cashflow_columns.json'), ('stocks', 'df_stocks_columns.json')]\n",
    "\n",
    "# Load schemas from JSON file\n",
    "with open('dataframe_schemas.json', 'r') as f:\n",
    "    schemas = json.load(f)\n",
    "\n",
    "with open('config/config.json', 'r') as f:\n",
    "    dic_config = json.load(f)\n",
    "    OPEN_API_KEY = dic_config['OPEN_API_KEY']\n",
    "    FIN_ANALYST_ID = dic_config['fin_analyst_assistant']\n",
    "\n",
    "# Initialize an empty list to store the stocks\n",
    "stocks_list = []\n",
    "\n",
    "# Open the text file in read mode\n",
    "with open('stocks.txt', 'r') as file:\n",
    "    # Read each line of the file\n",
    "    for line in file:\n",
    "        # Strip any leading or trailing whitespace and append the line to the list\n",
    "        stocks_list.append(line.strip())\n",
    "\n",
    "df_portfolio = pd.read_csv('config/portfolio.csv')\n",
    "\n",
    "list_portfolio = list(df_portfolio['ticker'].unique())\n",
    "\n",
    "# Open dic_files\n",
    "with open(f'{FILE_PATH}{OPENAI_DIC_FILE_NAME}', 'r') as f:\n",
    "    dic_files = json.load(f)\n",
    "\n",
    "client = OpenAI(api_key=OPEN_API_KEY)"
   ]
  },
  {
   "cell_type": "markdown",
   "metadata": {},
   "source": [
    "### Stocks Data"
   ]
  },
  {
   "cell_type": "code",
   "execution_count": null,
   "metadata": {},
   "outputs": [],
   "source": [
    "stocks_list = ['MSFT', 'SHOP', 'AMD', 'NVDA', 'AAPL', 'OKTA', 'SHOP', 'AMAT', 'TTWO', 'SNOW', 'SOXX', 'BA', 'DOCN', 'MCD', 'LULU', 'CSCO', 'ORCL', 'AMZN', 'ASML']\n",
    "\n",
    "yf_handler = YFHandler(stock_list=stocks_list, schemas=schemas)\n",
    "\n",
    "df_stocks = yf_handler.import_stocks()\n",
    "df_cashflow = yf_handler.import_cashflow()\n",
    "df_income_stmt = yf_handler.import_income_stmt()\n",
    "\n",
    "# Write to CSV\n",
    "# Technically this will be done by the FileHandler but just to be safe\n",
    "df_stocks.to_csv('openai_upload_files/df_stocks.csv', index=False)\n",
    "df_cashflow.to_csv('openai_upload_files/df_cashflow.csv', index=False)\n",
    "df_income_stmt.to_csv('openai_upload_files/df_income_stmt.csv', index=False)\n",
    "\n",
    "file_stocks = FileHandler(\n",
    "    df=df_stocks,\n",
    "    dic_file=dic_files,\n",
    "    file_name='df_stocks.csv',\n",
    "    file_path=FILE_PATH,\n",
    "    client=client\n",
    ")\n",
    "\n",
    "file_cashflow = FileHandler(\n",
    "    df=df_cashflow,\n",
    "    dic_file=dic_files,\n",
    "    file_name='df_cashflow.csv',\n",
    "    file_path=FILE_PATH,\n",
    "    client=client\n",
    ")\n",
    "\n",
    "file_income_stmt = FileHandler(\n",
    "    df=df_income_stmt,\n",
    "    dic_file=dic_files,\n",
    "    file_name='df_income_stmt.csv',\n",
    "    file_path=FILE_PATH,\n",
    "    client=client\n",
    ")"
   ]
  },
  {
   "cell_type": "code",
   "execution_count": null,
   "metadata": {},
   "outputs": [],
   "source": [
    "# Update files\n",
    "file_stocks.update_openai_file(dic_file=dic_files, dic_file_name=OPENAI_DIC_FILE_NAME, dic_file_path=FILE_PATH)\n",
    "file_cashflow.update_openai_file(dic_file=dic_files, dic_file_name=OPENAI_DIC_FILE_NAME, dic_file_path=FILE_PATH)\n",
    "file_income_stmt.update_openai_file(dic_file=dic_files, dic_file_name=OPENAI_DIC_FILE_NAME, dic_file_path=FILE_PATH)"
   ]
  },
  {
   "cell_type": "code",
   "execution_count": 4,
   "metadata": {},
   "outputs": [
    {
     "name": "stdout",
     "output_type": "stream",
     "text": [
      "assistants.json file has been updated\n"
     ]
    }
   ],
   "source": [
    "with open('config/assistants.json', 'r') as json_file:\n",
    "    dic_assistants= json.load(json_file)\n",
    "\n",
    "# Have to manually update the tool_resources because the file_id can change\n",
    "dic_assistants['fin_analyst']['tool_resources'] = {\n",
    "    'code_interpreter': {'file_ids': [dic_files['df_stocks.csv']]}\n",
    "}\n",
    "\n",
    "with open('config/assistants.json', 'w') as json_file:\n",
    "    json.dump(dic_assistants, json_file)\n",
    "    print(f'assistants.json file has been updated')\n",
    "\n",
    "fin_analyst = AgentHandler(\n",
    "    client = client, \n",
    "    assistant_name = 'fin_analyst',\n",
    "    dic_agent = dic_assistants\n",
    "    )"
   ]
  },
  {
   "cell_type": "code",
   "execution_count": 5,
   "metadata": {},
   "outputs": [],
   "source": [
    "## Create thread\n",
    "thread = ThreadManager(\n",
    "    client=client,\n",
    "    messages=[\n",
    "        {\n",
    "            'role': 'user',\n",
    "            'content': 'Can you explain to me what the file I have attached is.',\n",
    "            'attachments': [\n",
    "                {\n",
    "                    'file_id': 'file-G8Scw9sLUsW5L6oyEAGb3O30',\n",
    "                    'tools': [{'type': 'code_interpreter'}]\n",
    "                }\n",
    "            ]\n",
    "        }\n",
    "    ]\n",
    ")\n"
   ]
  },
  {
   "cell_type": "code",
   "execution_count": 9,
   "metadata": {},
   "outputs": [
    {
     "name": "stdout",
     "output_type": "stream",
     "text": [
      "\n",
      "assistant > code_interpreter\n",
      "\n",
      "import matplotlib.pyplot as plt\n",
      "\n",
      "# Ensure the 'Date' column is in datetime format\n",
      "file_content['Date'] = pd.to_datetime(file_content['Date'])\n",
      "\n",
      "# Plotting the 'Close' price\n",
      "plt.figure(figsize=(14, 7))\n",
      "plt.plot(file_content['Date'], file_content['Close'], label='Close Price')\n",
      "plt.title('Microsoft (MSFT) Stock Close Price Over Time')\n",
      "plt.xlabel('Date')\n",
      "plt.ylabel('Close Price ($)')\n",
      "plt.legend()\n",
      "plt.grid(True)\n",
      "plt.show()\n",
      "\n",
      "output >\n",
      "\n",
      "assistant > The graph above displays the closing price of Microsoft (MSFT) stock over time. This visual representation helps to observe the stock's performance, trends, and fluctuations from the initial date in the dataset to the most recent date.\n",
      "\n",
      "The sharp increase in the stock price, particularly in the recent years, indicates significant growth. If you need a more detailed analysis or want to focus on a specific time period, please let me know!"
     ]
    },
    {
     "ename": "AttributeError",
     "evalue": "'ImageFileContentBlock' object has no attribute 'text'",
     "output_type": "error",
     "traceback": [
      "\u001b[1;31m---------------------------------------------------------------------------\u001b[0m",
      "\u001b[1;31mAttributeError\u001b[0m                            Traceback (most recent call last)",
      "Cell \u001b[1;32mIn[9], line 14\u001b[0m\n\u001b[0;32m      1\u001b[0m prompt \u001b[38;5;241m=\u001b[39m [\n\u001b[0;32m      2\u001b[0m \t{\n\u001b[0;32m      3\u001b[0m \t\t\u001b[38;5;124m'\u001b[39m\u001b[38;5;124mrole\u001b[39m\u001b[38;5;124m'\u001b[39m: \u001b[38;5;124m'\u001b[39m\u001b[38;5;124muser\u001b[39m\u001b[38;5;124m'\u001b[39m,\n\u001b[1;32m   (...)\u001b[0m\n\u001b[0;32m     11\u001b[0m \t}\n\u001b[0;32m     12\u001b[0m ]\n\u001b[1;32m---> 14\u001b[0m \u001b[43mthread\u001b[49m\u001b[38;5;241;43m.\u001b[39;49m\u001b[43mrun_thread\u001b[49m\u001b[43m(\u001b[49m\u001b[43massistant\u001b[49m\u001b[38;5;241;43m=\u001b[39;49m\u001b[43mfin_analyst\u001b[49m\u001b[43m,\u001b[49m\u001b[43m \u001b[49m\u001b[43mmessage\u001b[49m\u001b[38;5;241;43m=\u001b[39;49m\u001b[43mprompt\u001b[49m\u001b[43m)\u001b[49m\n",
      "File \u001b[1;32md:\\Documents\\Python Repo\\stock_rag\\eventhandler.py:106\u001b[0m, in \u001b[0;36mThreadManager.run_thread\u001b[1;34m(self, assistant, message)\u001b[0m\n\u001b[0;32m     98\u001b[0m \u001b[38;5;28;01mwith\u001b[39;00m \u001b[38;5;28mself\u001b[39m\u001b[38;5;241m.\u001b[39m_client\u001b[38;5;241m.\u001b[39mbeta\u001b[38;5;241m.\u001b[39mthreads\u001b[38;5;241m.\u001b[39mruns\u001b[38;5;241m.\u001b[39mstream(\n\u001b[0;32m     99\u001b[0m \tthread_id\u001b[38;5;241m=\u001b[39m\u001b[38;5;28mself\u001b[39m\u001b[38;5;241m.\u001b[39mthread_id,\n\u001b[0;32m    100\u001b[0m \tassistant_id\u001b[38;5;241m=\u001b[39massistant\u001b[38;5;241m.\u001b[39massistant_id,\n\u001b[0;32m    101\u001b[0m \tevent_handler\u001b[38;5;241m=\u001b[39mEventHandler(),\n\u001b[0;32m    102\u001b[0m \tadditional_messages\u001b[38;5;241m=\u001b[39mmessage,\n\u001b[0;32m    103\u001b[0m ) \u001b[38;5;28;01mas\u001b[39;00m stream:\n\u001b[0;32m    104\u001b[0m \tstream\u001b[38;5;241m.\u001b[39muntil_done()\n\u001b[1;32m--> 106\u001b[0m \u001b[38;5;28;43mself\u001b[39;49m\u001b[38;5;241;43m.\u001b[39;49m\u001b[43mget_last_message\u001b[49m\u001b[43m(\u001b[49m\u001b[43m)\u001b[49m\n",
      "File \u001b[1;32md:\\Documents\\Python Repo\\stock_rag\\eventhandler.py:81\u001b[0m, in \u001b[0;36mThreadManager.get_last_message\u001b[1;34m(self)\u001b[0m\n\u001b[0;32m     79\u001b[0m role \u001b[38;5;241m=\u001b[39m message\u001b[38;5;241m.\u001b[39mrole\n\u001b[0;32m     80\u001b[0m run_id \u001b[38;5;241m=\u001b[39m message\u001b[38;5;241m.\u001b[39mrun_id\n\u001b[1;32m---> 81\u001b[0m message_text \u001b[38;5;241m=\u001b[39m \u001b[43mmessage\u001b[49m\u001b[38;5;241;43m.\u001b[39;49m\u001b[43mcontent\u001b[49m\u001b[43m[\u001b[49m\u001b[38;5;241;43m0\u001b[39;49m\u001b[43m]\u001b[49m\u001b[38;5;241;43m.\u001b[39;49m\u001b[43mtext\u001b[49m\u001b[38;5;241m.\u001b[39mvalue \u001b[38;5;66;03m# this needs to be fixed because there can be multiple contents\u001b[39;00m\n\u001b[0;32m     83\u001b[0m dic_message \u001b[38;5;241m=\u001b[39m {\n\u001b[0;32m     84\u001b[0m \t\u001b[38;5;124m'\u001b[39m\u001b[38;5;124massistant_id\u001b[39m\u001b[38;5;124m'\u001b[39m: assistant_id, \n\u001b[0;32m     85\u001b[0m \t\u001b[38;5;124m'\u001b[39m\u001b[38;5;124mcreated_at\u001b[39m\u001b[38;5;124m'\u001b[39m: created_at,\n\u001b[1;32m   (...)\u001b[0m\n\u001b[0;32m     89\u001b[0m \t\u001b[38;5;124m'\u001b[39m\u001b[38;5;124mmessage_text\u001b[39m\u001b[38;5;124m'\u001b[39m: message_text\n\u001b[0;32m     90\u001b[0m \t}\n\u001b[0;32m     92\u001b[0m \u001b[38;5;28mself\u001b[39m\u001b[38;5;241m.\u001b[39mdic_thread[message_id] \u001b[38;5;241m=\u001b[39m dic_message\n",
      "File \u001b[1;32mc:\\Users\\Orvin\\AppData\\Local\\Programs\\Python\\Python39\\lib\\site-packages\\pydantic\\main.py:828\u001b[0m, in \u001b[0;36mBaseModel.__getattr__\u001b[1;34m(self, item)\u001b[0m\n\u001b[0;32m    825\u001b[0m     \u001b[38;5;28;01mreturn\u001b[39;00m \u001b[38;5;28msuper\u001b[39m()\u001b[38;5;241m.\u001b[39m\u001b[38;5;21m__getattribute__\u001b[39m(item)  \u001b[38;5;66;03m# Raises AttributeError if appropriate\u001b[39;00m\n\u001b[0;32m    826\u001b[0m \u001b[38;5;28;01melse\u001b[39;00m:\n\u001b[0;32m    827\u001b[0m     \u001b[38;5;66;03m# this is the current error\u001b[39;00m\n\u001b[1;32m--> 828\u001b[0m     \u001b[38;5;28;01mraise\u001b[39;00m \u001b[38;5;167;01mAttributeError\u001b[39;00m(\u001b[38;5;124mf\u001b[39m\u001b[38;5;124m'\u001b[39m\u001b[38;5;132;01m{\u001b[39;00m\u001b[38;5;28mtype\u001b[39m(\u001b[38;5;28mself\u001b[39m)\u001b[38;5;241m.\u001b[39m\u001b[38;5;18m__name__\u001b[39m\u001b[38;5;132;01m!r}\u001b[39;00m\u001b[38;5;124m object has no attribute \u001b[39m\u001b[38;5;132;01m{\u001b[39;00mitem\u001b[38;5;132;01m!r}\u001b[39;00m\u001b[38;5;124m'\u001b[39m)\n",
      "\u001b[1;31mAttributeError\u001b[0m: 'ImageFileContentBlock' object has no attribute 'text'"
     ]
    }
   ],
   "source": [
    "prompt = [\n",
    "\t{\n",
    "\t\t'role': 'user',\n",
    "\t\t'content': 'Can you make a graph of the stock price for me.',\n",
    "\t\t'attachments': [\n",
    "\t\t\t{\n",
    "\t\t\t\t'file_id': 'file-G8Scw9sLUsW5L6oyEAGb3O30',\n",
    "                'tools': [{'type': 'code_interpreter'}]\n",
    "\t\t\t}\n",
    "\t\t]\n",
    "\t}\n",
    "]\n",
    "\n",
    "thread.run_thread(assistant=fin_analyst, message=prompt)"
   ]
  },
  {
   "cell_type": "code",
   "execution_count": 79,
   "metadata": {},
   "outputs": [
    {
     "data": {
      "text/plain": [
       "{'msg_gQaBV1pTNanRilFe1bT0EcQa': {'assistant_id': None,\n",
       "  'created_at': 1722923855,\n",
       "  'file_ids': [Attachment(file_id='file-G8Scw9sLUsW5L6oyEAGb3O30', tools=[CodeInterpreterTool(type='code_interpreter')])],\n",
       "  'role': 'user',\n",
       "  'run_id': None,\n",
       "  'message_text': 'Can you explain to me what the file I have attached is.'},\n",
       " 'msg_ismTg7aO5zU6Cq0F61K2rMdc': {'assistant_id': 'asst_Mqf9cO1sDTOd4UMYwcFfIQrA',\n",
       "  'created_at': 1722923910,\n",
       "  'file_ids': [],\n",
       "  'role': 'assistant',\n",
       "  'run_id': 'run_hiwFbXRC4ZqDf0l30tUCnkLa',\n",
       "  'message_text': \"The file you have uploaded is a CSV file containing historical stock market data for Microsoft Corporation (MSFT). It includes the following columns:\\n\\n1. **Date**: The date of the trading day.\\n2. **Open**: The opening price of the stock on that day.\\n3. **High**: The highest price the stock reached on that day.\\n4. **Low**: The lowest price the stock reached on that day.\\n5. **Close**: The closing price of the stock on that day.\\n6. **Volume**: The number of shares traded on that day.\\n7. **Dividends**: Any dividends paid out on that day.\\n8. **Stock Splits**: Any stock splits that occurred on that day.\\n9. **Ticker**: The ticker symbol for the stock (MSFT).\\n10. **Capital Gains**: Any capital gains related to the stock on that day.\\n\\nWould you like a specific analysis based on this data, such as identifying trends or evaluating the stock's performance for a specific period? Let me know how you would like to proceed!\"}}"
      ]
     },
     "execution_count": 79,
     "metadata": {},
     "output_type": "execute_result"
    }
   ],
   "source": [
    "# thread.thread_id\n",
    "# messages = client.beta.threads.messages.list(thread_id=thread.thread_id).data\n",
    "# messages[0].content[0].image_file.file_id\n",
    "# file_id = 'file-ZGJobD95f0QsOKv03l2dTtUW'\n",
    "# file = client.files.content(file_id)\n",
    "thread.dic_thread"
   ]
  },
  {
   "cell_type": "code",
   "execution_count": 60,
   "metadata": {},
   "outputs": [
    {
     "data": {
      "image/png": "[encoded data removed]",
      "text/plain": [
       "<Figure size 640x480 with 1 Axes>"
      ]
     },
     "metadata": {},
     "output_type": "display_data"
    }
   ],
   "source": [
    "# file.write_to_file('test.png')\n",
    "type(file)\n",
    "image = mpimg.imread(\"test.png\")\n",
    "plt.imshow(image)\n",
    "plt.axis('off')\n",
    "plt.show()"
   ]
  },
  {
   "cell_type": "code",
   "execution_count": 80,
   "metadata": {},
   "outputs": [
    {
     "data": {
      "text/plain": [
       "False"
      ]
     },
     "execution_count": 80,
     "metadata": {},
     "output_type": "execute_result"
    }
   ],
   "source": [
    "# test = []\n",
    "test = test + ['test5']\n",
    "test == []"
   ]
  },
  {
   "cell_type": "code",
   "execution_count": null,
   "metadata": {},
   "outputs": [],
   "source": [
    "# Set ThreadManager to easily track messages in a single thread\n",
    "# thread\n",
    "# with client.beta.threads.runs.stream(\n",
    "#     thread_id=thread.id,\n",
    "#     assistant_id=FIN_ANALYST_ID,\n",
    "#     event_handler=EventHandler(),\n",
    "#     additional_messages= [\n",
    "#         {\n",
    "#             'role': 'user',\n",
    "#             'content': 'Can you give an assessment on how the stock is doing?',\n",
    "#             'attachments': [\n",
    "#                 {\n",
    "#                     'file_id': file_stocks.file_id,\n",
    "#                     'tools': [{'type': 'code_interpreter'}]\n",
    "#                 }\n",
    "#             ]\n",
    "#         }\n",
    "#     ]\n",
    "# ) as stream:\n",
    "#     stream.until_done()\n",
    "\n",
    "# thread_fin_analyst.get_last_message()\n",
    "\n",
    "# list_thread = client.beta.threads.messages.list(thread_id=thread_id).data\n",
    "list_thread[0].content\n",
    "\n",
    "# client.beta.threads.delete(thread_id=thread_id)"
   ]
  }
 ],
 "metadata": {
  "kernelspec": {
   "display_name": "Python 3",
   "language": "python",
   "name": "python3"
  },
  "language_info": {
   "codemirror_mode": {
    "name": "ipython",
    "version": 3
   },
   "file_extension": ".py",
   "mimetype": "text/x-python",
   "name": "python",
   "nbconvert_exporter": "python",
   "pygments_lexer": "ipython3",
   "version": "3.9.13"
  }
 },
 "nbformat": 4,
 "nbformat_minor": 2
}
