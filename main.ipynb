{
 "cells": [
  {
   "cell_type": "markdown",
   "metadata": {},
   "source": [
    "Stocks Rag\n",
    "\n",
    "Author: Orvin Bellamy (https://github.com/orvinbellamy)"
   ]
  },
  {
   "cell_type": "code",
   "execution_count": 1,
   "metadata": {},
   "outputs": [],
   "source": [
    "## Import libraries\n",
    "\n",
    "import yfinance as yf\n",
    "import pandas as pd\n",
    "import openai\n",
    "from openai import OpenAI\n",
    "import os\n",
    "import json\n",
    "import fs\n",
    "import time\n",
    "from dotenv import load_dotenv\n",
    "import logging as log\n",
    "from matplotlib import pyplot as plt\n",
    "from matplotlib import image as mpimg\n",
    "from filehandler import FileHandler\n",
    "from yfinancehandler import YFHandler\n",
    "from eventhandler import EventHandler, ThreadManager\n",
    "from agenthandler import AgentHandler\n",
    "from stockanalyzer import analyze_stock, stock_data_setup\n",
    "import importlib"
   ]
  },
  {
   "cell_type": "code",
   "execution_count": 2,
   "metadata": {},
   "outputs": [],
   "source": [
    "## configruation\n",
    "\n",
    "FILE_PATH = 'openai_upload_files/'\n",
    "OPENAI_DIC_FILE_NAME = 'openai_files.json'\n",
    "\n",
    "# Load schemas from JSON file\n",
    "with open('config/dataframe_schemas.json', 'r') as f:\n",
    "    schemas = json.load(f)\n",
    "\n",
    "# Initialize an empty list to store the stocks\n",
    "stocks_list = []\n",
    "\n",
    "# Open dic_files\n",
    "with open(f'{FILE_PATH}{OPENAI_DIC_FILE_NAME}', 'r') as f:\n",
    "    dic_files = json.load(f)\n",
    "\n",
    "with open('config/assistants.json', 'r') as json_file:\n",
    "    dic_assistants= json.load(json_file)"
   ]
  },
  {
   "cell_type": "markdown",
   "metadata": {},
   "source": [
    "### Stocks Data"
   ]
  },
  {
   "cell_type": "code",
   "execution_count": null,
   "metadata": {},
   "outputs": [],
   "source": [
    "analysis = analyze_stock(\n",
    "\tticker= ['MSFT'], \n",
    "\tdic_files=dic_files,\n",
    "\tdic_assistants=dic_assistants\n",
    ")"
   ]
  },
  {
   "cell_type": "code",
   "execution_count": 5,
   "metadata": {},
   "outputs": [
    {
     "ename": "NameError",
     "evalue": "name 'analysis' is not defined",
     "output_type": "error",
     "traceback": [
      "\u001b[1;31m---------------------------------------------------------------------------\u001b[0m",
      "\u001b[1;31mNameError\u001b[0m                                 Traceback (most recent call last)",
      "Cell \u001b[1;32mIn[5], line 1\u001b[0m\n\u001b[1;32m----> 1\u001b[0m \u001b[38;5;28mprint\u001b[39m(\u001b[43manalysis\u001b[49m)\n",
      "\u001b[1;31mNameError\u001b[0m: name 'analysis' is not defined"
     ]
    }
   ],
   "source": [
    "print(analysis)"
   ]
  },
  {
   "cell_type": "code",
   "execution_count": 3,
   "metadata": {},
   "outputs": [
    {
     "name": "stderr",
     "output_type": "stream",
     "text": [
      "d:\\Documents\\Python Repo\\stock_rag\\yfinancehandler.py:20: FutureWarning: The behavior of DataFrame concatenation with empty or all-NA entries is deprecated. In a future version, this will no longer exclude empty or all-NA columns when determining the result dtypes. To retain the old behavior, exclude the relevant entries before the concat operation.\n",
      "  df = pd.concat([df, df_plc], ignore_index=True)\n"
     ]
    },
    {
     "name": "stdout",
     "output_type": "stream",
     "text": [
      "file name: df_stocks.csv, file id: file-UpgCVvHFUMJSRs1f96BN1bZP has been deleted\n",
      "file name: df_stocks.csv is uploaded, new file id: file-5GywACxBfa8Cy7MV2WcYxTmG\n",
      "openai_upload_files/openai_files.json file has been updated\n"
     ]
    },
    {
     "name": "stderr",
     "output_type": "stream",
     "text": [
      "d:\\Documents\\Python Repo\\stock_rag\\yfinancehandler.py:34: FutureWarning: The behavior of DataFrame concatenation with empty or all-NA entries is deprecated. In a future version, this will no longer exclude empty or all-NA columns when determining the result dtypes. To retain the old behavior, exclude the relevant entries before the concat operation.\n",
      "  df = pd.concat([df, df_plc], ignore_index=True)\n"
     ]
    },
    {
     "name": "stdout",
     "output_type": "stream",
     "text": [
      "file name: df_cashflow.csv, file id: file-YPYRZH07u1bteWlFc4XvmqUm has been deleted\n",
      "file name: df_cashflow.csv is uploaded, new file id: file-7gS8ZTTWCfnb36afNOv2VYTZ\n",
      "openai_upload_files/openai_files.json file has been updated\n"
     ]
    },
    {
     "name": "stderr",
     "output_type": "stream",
     "text": [
      "d:\\Documents\\Python Repo\\stock_rag\\yfinancehandler.py:48: FutureWarning: The behavior of DataFrame concatenation with empty or all-NA entries is deprecated. In a future version, this will no longer exclude empty or all-NA columns when determining the result dtypes. To retain the old behavior, exclude the relevant entries before the concat operation.\n",
      "  df = pd.concat([df, df_plc], ignore_index=True)\n"
     ]
    },
    {
     "name": "stdout",
     "output_type": "stream",
     "text": [
      "file name: df_income_stmt.csv, file id: file-cOHsHPwNYXvVrvXsJ4QBV9hH has been deleted\n",
      "file name: df_income_stmt.csv is uploaded, new file id: file-GWhmoDFUCGWjmAzVuzu3cVBM\n",
      "openai_upload_files/openai_files.json file has been updated\n",
      "assistants.json file has been updated\n",
      "Assistant has been updated, name: fin_analyst, id: asst_Mqf9cO1sDTOd4UMYwcFfIQrA\n",
      "Assistant has been updated, name: fin_consultant, id: asst_mPlBQ4ZF8YIF238DWqWRhV4U\n"
     ]
    }
   ],
   "source": [
    "ticker = ['MRNA']\n",
    "\n",
    "client = OpenAI()\n",
    "\n",
    "file_stocks = stock_data_setup(client=client, ticker=ticker, type='price', dic_files=dic_files)\n",
    "file_cashflow = stock_data_setup(client=client, ticker=ticker, type='cash', dic_files=dic_files)\n",
    "file_income_stmt = stock_data_setup(client=client, ticker=ticker, type='income', dic_files=dic_files)\n",
    "\n",
    "# Have to manually update the tool_resources because the file_id can change\n",
    "dic_assistants['fin_analyst']['tool_resources'] = {\n",
    "\t'code_interpreter': {'file_ids': [dic_files['df_stocks.csv']]}\n",
    "}\n",
    "\n",
    "with open('config/assistants.json', 'w') as json_file:\n",
    "\tjson.dump(dic_assistants, json_file)\n",
    "\tprint(f'assistants.json file has been updated')\n",
    "\n",
    "fin_analyst = AgentHandler(\n",
    "\tclient = client, \n",
    "\tnew=False,\n",
    "\tassistant_name = 'fin_analyst',\n",
    "\tdic_file = dic_assistants,\n",
    "\tdic_file_name = 'assistants.json',\n",
    "\tdic_file_path='config/'\n",
    "\t)\n",
    "\n",
    "fin_consultant = AgentHandler(\n",
    "\tclient = client,\n",
    "\tnew=False,\n",
    "\tassistant_name = 'fin_consultant',\n",
    "\tdic_file = dic_assistants,\n",
    "\tdic_file_name = 'assistants.json',\n",
    "\tdic_file_path='config/'\n",
    "\t)"
   ]
  },
  {
   "cell_type": "code",
   "execution_count": 4,
   "metadata": {},
   "outputs": [
    {
     "name": "stdout",
     "output_type": "stream",
     "text": [
      "\n",
      "assistant > Here are the information gathered from the financial analyst: \n",
      "These are the stocks the client wants advice on:\n",
      "- MRNA\n",
      "\n",
      "I will now analyze the provided data. Let's start by examining the contents of the uploaded .csv file to understand what type of information is available.\n",
      "assistant > code_interpreter\n",
      "\n",
      "import pandas as pd\n",
      "\n",
      "# Load the uploaded CSV file\n",
      "file_path = '/mnt/data/file-5GywACxBfa8Cy7MV2WcYxTmG'\n",
      "data = pd.read_csv(file_path)\n",
      "\n",
      "# Display the first few rows and the column names of the CSV to understand its structure\n",
      "data.head(), data.columns\n",
      "assistant > Here are the information gathered from the financial analyst: \n",
      "These are the stocks the client wants advice on:\n",
      "- MRNA\n",
      "\n",
      "The dataset provided includes the following columns for MRNA:\n",
      "- Date\n",
      "- Open\n",
      "- High\n",
      "- Low\n",
      "- Close\n",
      "- Volume\n",
      "- Dividends\n",
      "- Stock Splits\n",
      "\n",
      "Let's analyze the historical price data, focusing on general trends, volatility, and key metrics like average closing price and volume.# Convert the 'Date' column to a datetime format for time-series analysis\n",
      "data['Date'] = pd.to_datetime(data['Date'])\n",
      "\n",
      "# Basic descriptive statistics for the 'Close' price\n",
      "close_price_stats = data['Close'].describe()\n",
      "\n",
      "# Calculate the average volume\n",
      "average_volume = data['Volume'].mean()\n",
      "\n",
      "# Determine the date range of the data\n",
      "date_range = data['Date'].min(), data['Date'].max()\n",
      "\n",
      "# Calculate the percentage change in closing price\n",
      "data['Pct_Change'] = data['Close'].pct_change()\n",
      "\n",
      "# Calculate the annualized volatility (standard deviation of returns)\n",
      "volatility = data['Pct_Change'].std() * (252**0.5)  # Annualizing since ~252 trading days in a year\n",
      "\n",
      "close_price_stats, average_volume, date_range, volatility\n",
      "assistant > Here are the information gathered from the financial analyst: \n",
      "These are the stocks the client wants advice on:\n",
      "- MRNA\n",
      "\n",
      "Here is the analysis of the provided data for MRNA:\n",
      "\n",
      "1. **Basic Descriptive Statistics for Closing Price**:\n",
      "    - **Count**: 1451 trading days\n",
      "    - **Mean Closing Price**: $118.85\n",
      "    - **Standard Deviation**: $88.50\n",
      "    - **Minimum Closing Price**: $12.26\n",
      "    - **25th Percentile**: $58.21\n",
      "    - **Median (50th Percentile)**: $115.99\n",
      "    - **75th Percentile**: $156.56\n",
      "    - **Maximum Closing Price**: $484.47\n",
      "\n",
      "2. **Average Trading Volume**:\n",
      "    - The average trading volume over the provided period is approximately 8,078,440 shares.\n",
      "\n",
      "3. **Date Range**:\n",
      "    - The dataset covers the period from December 7, 2018, to September 13, 2024.\n",
      "\n",
      "4. **Volatility**:\n",
      "    - The annualized volatility of the stock, based on daily percentage changes in closing price, is 73.42%.\n",
      "\n",
      "This summarized information indicates that MRNA has experienced significant price movements and volatility, particularly notable during the provided date range. As such, any recommendations could focus on the characteristics of its price behavior, significant volatility, and average volume active during the trading periods. \n",
      "\n",
      "Please let me know if further detailed analysis or specific metrics are required.get_last_message initiated\n",
      "asst_id = blank\n",
      "message.assistant_id == asst_id, proceed normally to collect message\n",
      "message.assistant_id == asst_id, proceed normally to collect message\n",
      "\n",
      "assistant > Based on the provided data and analysis, here is a concise assessment and recommendation for MRNA:\n",
      "\n",
      "**Stock Analysis for MRNA:**\n",
      "\n",
      "1. **Closing Price Statistics**:\n",
      "    - **Mean Closing Price**: $118.85\n",
      "    - **Median Closing Price**: $115.99\n",
      "    - **Standard Deviation**: $88.50 (indicative of high price volatility)\n",
      "    - **Price Range**: $12.26 (min) to $484.47 (max)\n",
      "    - **High Volatility**: Annualized volatility at 73.42%, suggesting significant price swings.\n",
      "\n",
      "2. **Trading Volume**:\n",
      "    - **Average Volume**: Approximately 8,078,440 shares, signaling high liquidity.\n",
      "\n",
      "3. **Date Range**:\n",
      "    - **Coverage**: From December 7, 2018, to September 13, 2024.\n",
      "\n",
      "**Strengths**:\n",
      "- **High Liquidity**: The large average trading volume ensures ease of buying and selling the stock.\n",
      "- **Growth Potential**: The wide price range and significant peaks suggest MRNA has historically had substantial growth episodes.\n",
      "\n",
      "**Weaknesses**:\n",
      "- **High Volatility**: The stock exhibits high volatility, which can lead to large, rapid changes in the stock price, posing higher risk.\n",
      "- **Historical Price Fluctuations**: The extreme variability may be reflective of market sentiment swings, which can be risky for conservative investors.\n",
      "\n",
      "**Recommendation**:\n",
      "- **Risk Tolerance**: Given its high volatility, MRNA stock is more suitable for investors with a higher risk tolerance.\n",
      "- **Investment Strategy**:\n",
      "  - ***Growth-Oriented Portfolio***: If the client is looking for potential high returns and can withstand significant price swings, MRNA can be a suitable candidate.\n",
      "  - ***Conservative Strategy***: For a more conservative strategy focused on stable returns and lower risk, MRNA might not be the ideal choice due to its volatility.\n",
      "\n",
      "In summary, MRNA offers significant growth opportunities but comes with high risk due to its volatility. It fits well into a growth-oriented portfolio but should be approached with caution by conservative investors. \n",
      "\n",
      "Please let me know if further detailed analysis or specific metrics are required.get_last_message initiated\n",
      "asst_id = blank\n",
      "message.assistant_id != asst_id, record previous message first\n"
     ]
    }
   ],
   "source": [
    "prompt_start = f\"This is the financial consultant.\\\n",
    "\tThe client wants advice on the following stocks.\\\n",
    "\tI need you to provide me your analysis on these stocks so I can provide the appropriate recommendations.\\\n",
    "\tYou will be provided with the data of these stocks in .csv format. Use them as you see fit.\\\n",
    "\tStocks: {ticker}\"\n",
    "\n",
    "thread = ThreadManager(\n",
    "\tclient=client,\n",
    "\tprompt=prompt_start\n",
    ")\n",
    "\n",
    "thread.run_thread(\n",
    "\tassistant=fin_analyst\n",
    "\t# prompt=prompt_start,\n",
    "\t# attachments=[file_stocks.file_id, file_cashflow.file_id, file_income_stmt.file_id]\n",
    ")\n",
    "\n",
    "next_prompt = thread.last_message\n",
    "\n",
    "thread.run_thread(\n",
    "\tassistant=fin_consultant,\n",
    "\tprompt=next_prompt\n",
    ")"
   ]
  },
  {
   "cell_type": "code",
   "execution_count": 9,
   "metadata": {},
   "outputs": [
    {
     "name": "stdout",
     "output_type": "stream",
     "text": [
      "This message is for testing. Can you give a short sample response.\n"
     ]
    }
   ],
   "source": [
    "next_prompt = 'This message is for testing. Can you give a short sample response.'\n",
    "\n",
    "thread.run_thread(\n",
    "\tassistant=fin_consultant,\n",
    "\tprompt=next_prompt\n",
    ")\n",
    "\n",
    "print(thread.last_message)"
   ]
  },
  {
   "cell_type": "code",
   "execution_count": 19,
   "metadata": {},
   "outputs": [
    {
     "data": {
      "text/plain": [
       "[Message(id='msg_4zwZaBySjeBDhBDOLAECICaH', assistant_id='asst_mPlBQ4ZF8YIF238DWqWRhV4U', attachments=[], completed_at=None, content=[TextContentBlock(text=Text(annotations=[], value='Based on the provided data and analysis, here is a concise assessment and recommendation for MRNA:\\n\\n**Stock Analysis for MRNA:**\\n\\n1. **Closing Price Statistics**:\\n    - **Mean Closing Price**: $118.85\\n    - **Median Closing Price**: $115.99\\n    - **Standard Deviation**: $88.50 (indicative of high price volatility)\\n    - **Price Range**: $12.26 (min) to $484.47 (max)\\n    - **High Volatility**: Annualized volatility at 73.42%, suggesting significant price swings.\\n\\n2. **Trading Volume**:\\n    - **Average Volume**: Approximately 8,078,440 shares, signaling high liquidity.\\n\\n3. **Date Range**:\\n    - **Coverage**: From December 7, 2018, to September 13, 2024.\\n\\n**Strengths**:\\n- **High Liquidity**: The large average trading volume ensures ease of buying and selling the stock.\\n- **Growth Potential**: The wide price range and significant peaks suggest MRNA has historically had substantial growth episodes.\\n\\n**Weaknesses**:\\n- **High Volatility**: The stock exhibits high volatility, which can lead to large, rapid changes in the stock price, posing higher risk.\\n- **Historical Price Fluctuations**: The extreme variability may be reflective of market sentiment swings, which can be risky for conservative investors.\\n\\n**Recommendation**:\\n- **Risk Tolerance**: Given its high volatility, MRNA stock is more suitable for investors with a higher risk tolerance.\\n- **Investment Strategy**:\\n  - ***Growth-Oriented Portfolio***: If the client is looking for potential high returns and can withstand significant price swings, MRNA can be a suitable candidate.\\n  - ***Conservative Strategy***: For a more conservative strategy focused on stable returns and lower risk, MRNA might not be the ideal choice due to its volatility.\\n\\nIn summary, MRNA offers significant growth opportunities but comes with high risk due to its volatility. It fits well into a growth-oriented portfolio but should be approached with caution by conservative investors. \\n\\nPlease let me know if further detailed analysis or specific metrics are required.'), type='text')], created_at=1726384596, incomplete_at=None, incomplete_details=None, metadata={}, object='thread.message', role='assistant', run_id='run_p1GUND2vR7gBPqxpYz4qQTz6', status=None, thread_id='thread_cDxajWPhimmDDAkA7M5ggqy8'),\n",
       " Message(id='msg_jTiUpnd6U6Ma5bTqAHOFP0bT', assistant_id=None, attachments=[], completed_at=None, content=[TextContentBlock(text=Text(annotations=[], value=\"Here are the information gathered from the financial analyst: \\nThese are the stocks the client wants advice on:\\n- MRNA\\n\\nI will now analyze the provided data. Let's start by examining the contents of the uploaded .csv file to understand what type of information is available.\\nHere are the information gathered from the financial analyst: \\nThese are the stocks the client wants advice on:\\n- MRNA\\n\\nThe dataset provided includes the following columns for MRNA:\\n- Date\\n- Open\\n- High\\n- Low\\n- Close\\n- Volume\\n- Dividends\\n- Stock Splits\\n\\nLet's analyze the historical price data, focusing on general trends, volatility, and key metrics like average closing price and volume.\\nHere are the information gathered from the financial analyst: \\nThese are the stocks the client wants advice on:\\n- MRNA\\n\\nHere is the analysis of the provided data for MRNA:\\n\\n1. **Basic Descriptive Statistics for Closing Price**:\\n    - **Count**: 1451 trading days\\n    - **Mean Closing Price**: $118.85\\n    - **Standard Deviation**: $88.50\\n    - **Minimum Closing Price**: $12.26\\n    - **25th Percentile**: $58.21\\n    - **Median (50th Percentile)**: $115.99\\n    - **75th Percentile**: $156.56\\n    - **Maximum Closing Price**: $484.47\\n\\n2. **Average Trading Volume**:\\n    - The average trading volume over the provided period is approximately 8,078,440 shares.\\n\\n3. **Date Range**:\\n    - The dataset covers the period from December 7, 2018, to September 13, 2024.\\n\\n4. **Volatility**:\\n    - The annualized volatility of the stock, based on daily percentage changes in closing price, is 73.42%.\\n\\nThis summarized information indicates that MRNA has experienced significant price movements and volatility, particularly notable during the provided date range. As such, any recommendations could focus on the characteristics of its price behavior, significant volatility, and average volume active during the trading periods. \\n\\nPlease let me know if further detailed analysis or specific metrics are required.\"), type='text')], created_at=1726384595, incomplete_at=None, incomplete_details=None, metadata={}, object='thread.message', role='user', run_id=None, status=None, thread_id='thread_cDxajWPhimmDDAkA7M5ggqy8'),\n",
       " Message(id='msg_KpqmZgDPFdOzFJOz23jua9Xv', assistant_id='asst_Mqf9cO1sDTOd4UMYwcFfIQrA', attachments=[], completed_at=None, content=[TextContentBlock(text=Text(annotations=[], value='Here are the information gathered from the financial analyst: \\nThese are the stocks the client wants advice on:\\n- MRNA\\n\\nHere is the analysis of the provided data for MRNA:\\n\\n1. **Basic Descriptive Statistics for Closing Price**:\\n    - **Count**: 1451 trading days\\n    - **Mean Closing Price**: $118.85\\n    - **Standard Deviation**: $88.50\\n    - **Minimum Closing Price**: $12.26\\n    - **25th Percentile**: $58.21\\n    - **Median (50th Percentile)**: $115.99\\n    - **75th Percentile**: $156.56\\n    - **Maximum Closing Price**: $484.47\\n\\n2. **Average Trading Volume**:\\n    - The average trading volume over the provided period is approximately 8,078,440 shares.\\n\\n3. **Date Range**:\\n    - The dataset covers the period from December 7, 2018, to September 13, 2024.\\n\\n4. **Volatility**:\\n    - The annualized volatility of the stock, based on daily percentage changes in closing price, is 73.42%.\\n\\nThis summarized information indicates that MRNA has experienced significant price movements and volatility, particularly notable during the provided date range. As such, any recommendations could focus on the characteristics of its price behavior, significant volatility, and average volume active during the trading periods. \\n\\nPlease let me know if further detailed analysis or specific metrics are required.'), type='text')], created_at=1726384585, incomplete_at=None, incomplete_details=None, metadata={}, object='thread.message', role='assistant', run_id='run_rSBdlsRdNyMmYuxMweLMuhnK', status=None, thread_id='thread_cDxajWPhimmDDAkA7M5ggqy8'),\n",
       " Message(id='msg_gdHuAl911SmEa9SZzpKTB6Cg', assistant_id='asst_Mqf9cO1sDTOd4UMYwcFfIQrA', attachments=[], completed_at=None, content=[TextContentBlock(text=Text(annotations=[], value=\"Here are the information gathered from the financial analyst: \\nThese are the stocks the client wants advice on:\\n- MRNA\\n\\nThe dataset provided includes the following columns for MRNA:\\n- Date\\n- Open\\n- High\\n- Low\\n- Close\\n- Volume\\n- Dividends\\n- Stock Splits\\n\\nLet's analyze the historical price data, focusing on general trends, volatility, and key metrics like average closing price and volume.\"), type='text')], created_at=1726384579, incomplete_at=None, incomplete_details=None, metadata={}, object='thread.message', role='assistant', run_id='run_rSBdlsRdNyMmYuxMweLMuhnK', status=None, thread_id='thread_cDxajWPhimmDDAkA7M5ggqy8'),\n",
       " Message(id='msg_eUnykbmbrLoPEfvDkYiF5kjg', assistant_id='asst_Mqf9cO1sDTOd4UMYwcFfIQrA', attachments=[], completed_at=None, content=[TextContentBlock(text=Text(annotations=[], value=\"Here are the information gathered from the financial analyst: \\nThese are the stocks the client wants advice on:\\n- MRNA\\n\\nI will now analyze the provided data. Let's start by examining the contents of the uploaded .csv file to understand what type of information is available.\"), type='text')], created_at=1726384574, incomplete_at=None, incomplete_details=None, metadata={}, object='thread.message', role='assistant', run_id='run_rSBdlsRdNyMmYuxMweLMuhnK', status=None, thread_id='thread_cDxajWPhimmDDAkA7M5ggqy8'),\n",
       " Message(id='msg_AzOPoV5hOiorLv16XqQ55HnA', assistant_id=None, attachments=[], completed_at=None, content=[TextContentBlock(text=Text(annotations=[], value=\"This is the financial consultant.\\tThe client wants advice on the following stocks.\\tI need you to provide me your analysis on these stocks so I can provide the appropriate recommendations.\\tYou will be provided with the data of these stocks in .csv format. Use them as you see fit.\\tStocks: ['MRNA']\"), type='text')], created_at=1726384573, incomplete_at=None, incomplete_details=None, metadata={}, object='thread.message', role='user', run_id=None, status=None, thread_id='thread_cDxajWPhimmDDAkA7M5ggqy8')]"
      ]
     },
     "execution_count": 19,
     "metadata": {},
     "output_type": "execute_result"
    }
   ],
   "source": [
    "thread.df_messages\n",
    "client.beta.threads.messages.list(thread_id=thread.thread_id).data\n",
    "# messages_data[0]\n",
    "# type(file_cashflow)"
   ]
  },
  {
   "cell_type": "code",
   "execution_count": 8,
   "metadata": {},
   "outputs": [
    {
     "name": "stdout",
     "output_type": "stream",
     "text": [
      "get_last_message initiated\n"
     ]
    },
    {
     "ename": "UnboundLocalError",
     "evalue": "local variable 'previous_message' referenced before assignment",
     "output_type": "error",
     "traceback": [
      "\u001b[1;31m---------------------------------------------------------------------------\u001b[0m",
      "\u001b[1;31mUnboundLocalError\u001b[0m                         Traceback (most recent call last)",
      "Cell \u001b[1;32mIn[8], line 1\u001b[0m\n\u001b[1;32m----> 1\u001b[0m \u001b[43mthread\u001b[49m\u001b[38;5;241;43m.\u001b[39;49m\u001b[43mget_last_message\u001b[49m\u001b[43m(\u001b[49m\u001b[43m)\u001b[49m\n",
      "File \u001b[1;32md:\\Documents\\Python Repo\\stock_rag\\eventhandler.py:234\u001b[0m, in \u001b[0;36mThreadManager.get_last_message\u001b[1;34m(self)\u001b[0m\n\u001b[0;32m    231\u001b[0m \tprevious_index \u001b[38;5;241m=\u001b[39m index \u001b[38;5;241m+\u001b[39m max_loc\n\u001b[0;32m    233\u001b[0m \u001b[38;5;66;03m# messages_combined = messages_combined[::-1]\u001b[39;00m\n\u001b[1;32m--> 234\u001b[0m dic_message \u001b[38;5;241m=\u001b[39m \u001b[38;5;28mself\u001b[39m\u001b[38;5;241m.\u001b[39m_combine_messages(message\u001b[38;5;241m=\u001b[39m\u001b[43mprevious_message\u001b[49m, messages_combined\u001b[38;5;241m=\u001b[39mmessages_combined, index\u001b[38;5;241m=\u001b[39mprevious_index)\n\u001b[0;32m    236\u001b[0m messages_append_placeholder\u001b[38;5;241m.\u001b[39mappend(dic_message)\n\u001b[0;32m    237\u001b[0m \u001b[38;5;28mself\u001b[39m\u001b[38;5;241m.\u001b[39mmessages \u001b[38;5;241m+\u001b[39m\u001b[38;5;241m=\u001b[39m messages_append_placeholder\n",
      "\u001b[1;31mUnboundLocalError\u001b[0m: local variable 'previous_message' referenced before assignment"
     ]
    }
   ],
   "source": [
    "thread.get_last_message()"
   ]
  },
  {
   "cell_type": "code",
   "execution_count": 17,
   "metadata": {},
   "outputs": [
    {
     "name": "stdout",
     "output_type": "stream",
     "text": [
      "get_last_message initiated\n"
     ]
    },
    {
     "ename": "UnboundLocalError",
     "evalue": "local variable 'previous_message' referenced before assignment",
     "output_type": "error",
     "traceback": [
      "\u001b[1;31m---------------------------------------------------------------------------\u001b[0m",
      "\u001b[1;31mUnboundLocalError\u001b[0m                         Traceback (most recent call last)",
      "Cell \u001b[1;32mIn[17], line 9\u001b[0m\n\u001b[0;32m      5\u001b[0m thread\u001b[38;5;241m.\u001b[39mmessages \u001b[38;5;241m=\u001b[39m []\n\u001b[0;32m      7\u001b[0m thread\u001b[38;5;241m.\u001b[39mmessages\u001b[38;5;241m.\u001b[39mappend(a)\n\u001b[1;32m----> 9\u001b[0m \u001b[43mthread\u001b[49m\u001b[38;5;241;43m.\u001b[39;49m\u001b[43mget_last_message\u001b[49m\u001b[43m(\u001b[49m\u001b[43m)\u001b[49m\n\u001b[0;32m     10\u001b[0m \u001b[38;5;66;03m# thread.messages[-1]\u001b[39;00m\n",
      "File \u001b[1;32md:\\Documents\\Python Repo\\stock_rag\\eventhandler.py:234\u001b[0m, in \u001b[0;36mThreadManager.get_last_message\u001b[1;34m(self)\u001b[0m\n\u001b[0;32m    231\u001b[0m \tprevious_index \u001b[38;5;241m=\u001b[39m index \u001b[38;5;241m+\u001b[39m max_loc\n\u001b[0;32m    233\u001b[0m \u001b[38;5;66;03m# messages_combined = messages_combined[::-1]\u001b[39;00m\n\u001b[1;32m--> 234\u001b[0m dic_message \u001b[38;5;241m=\u001b[39m \u001b[38;5;28mself\u001b[39m\u001b[38;5;241m.\u001b[39m_combine_messages(message\u001b[38;5;241m=\u001b[39m\u001b[43mprevious_message\u001b[49m, messages_combined\u001b[38;5;241m=\u001b[39mmessages_combined, index\u001b[38;5;241m=\u001b[39mprevious_index)\n\u001b[0;32m    236\u001b[0m messages_append_placeholder\u001b[38;5;241m.\u001b[39mappend(dic_message)\n\u001b[0;32m    237\u001b[0m \u001b[38;5;28mself\u001b[39m\u001b[38;5;241m.\u001b[39mmessages \u001b[38;5;241m+\u001b[39m\u001b[38;5;241m=\u001b[39m messages_append_placeholder\n",
      "\u001b[1;31mUnboundLocalError\u001b[0m: local variable 'previous_message' referenced before assignment"
     ]
    }
   ],
   "source": [
    "# existing_message_id = [dic['message_id'] for dic in thread.messages]\n",
    "\n",
    "a = thread.messages[0]\n",
    "\n",
    "thread.messages = []\n",
    "\n",
    "thread.messages.append(a)\n",
    "\n",
    "thread.get_last_message()\n",
    "# thread.messages[-1]"
   ]
  },
  {
   "cell_type": "code",
   "execution_count": 7,
   "metadata": {},
   "outputs": [
    {
     "name": "stdout",
     "output_type": "stream",
     "text": [
      "thread: thread_RYQYLhm5hagG6NkuutXZYPJG has been deleted.\n"
     ]
    }
   ],
   "source": [
    "thread.delete_thread()"
   ]
  },
  {
   "cell_type": "code",
   "execution_count": 15,
   "metadata": {},
   "outputs": [
    {
     "ename": "TypeError",
     "evalue": "slice indices must be integers or None or have an __index__ method",
     "output_type": "error",
     "traceback": [
      "\u001b[1;31m---------------------------------------------------------------------------\u001b[0m",
      "\u001b[1;31mTypeError\u001b[0m                                 Traceback (most recent call last)",
      "Cell \u001b[1;32mIn[15], line 2\u001b[0m\n\u001b[0;32m      1\u001b[0m test \u001b[38;5;241m=\u001b[39m [\u001b[38;5;241m0\u001b[39m, \u001b[38;5;241m1\u001b[39m, \u001b[38;5;241m2\u001b[39m, \u001b[38;5;241m3\u001b[39m, \u001b[38;5;241m4\u001b[39m]\n\u001b[1;32m----> 2\u001b[0m \u001b[43mtest\u001b[49m\u001b[43m[\u001b[49m\u001b[43mthread\u001b[49m\u001b[38;5;241;43m.\u001b[39;49m\u001b[43mdf_messages\u001b[49m\u001b[43m[\u001b[49m\u001b[38;5;124;43m'\u001b[39;49m\u001b[38;5;124;43m_msg_loc\u001b[39;49m\u001b[38;5;124;43m'\u001b[39;49m\u001b[43m]\u001b[49m\u001b[38;5;241;43m.\u001b[39;49m\u001b[43mmax\u001b[49m\u001b[43m(\u001b[49m\u001b[43m)\u001b[49m\u001b[38;5;241;43m+\u001b[39;49m\u001b[38;5;241;43m1\u001b[39;49m\u001b[43m:\u001b[49m\u001b[43m]\u001b[49m\n",
      "\u001b[1;31mTypeError\u001b[0m: slice indices must be integers or None or have an __index__ method"
     ]
    }
   ],
   "source": [
    "test = [0, 1, 2, 3, 4]\n",
    "test[thread.df_messages['_msg_loc'].max()+1:]"
   ]
  }
 ],
 "metadata": {
  "kernelspec": {
   "display_name": "Python 3",
   "language": "python",
   "name": "python3"
  },
  "language_info": {
   "codemirror_mode": {
    "name": "ipython",
    "version": 3
   },
   "file_extension": ".py",
   "mimetype": "text/x-python",
   "name": "python",
   "nbconvert_exporter": "python",
   "pygments_lexer": "ipython3",
   "version": "3.9.13"
  }
 },
 "nbformat": 4,
 "nbformat_minor": 2
}
