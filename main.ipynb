{
 "cells": [
  {
   "cell_type": "markdown",
   "metadata": {},
   "source": [
    "Stocks Rag\n",
    "\n",
    "Author: Orvin Bellamy (https://github.com/orvinbellamy)"
   ]
  },
  {
   "cell_type": "code",
   "execution_count": 1,
   "metadata": {},
   "outputs": [],
   "source": [
    "## Import libraries\n",
    "\n",
    "import yfinance as yf\n",
    "import pandas as pd\n",
    "import openai\n",
    "from openai import OpenAI\n",
    "import os\n",
    "import json\n",
    "import fs\n",
    "import re\n",
    "import time\n",
    "from dotenv import load_dotenv\n",
    "import logging as log\n",
    "# from matplotlib import pyplot as plt\n",
    "# from matplotlib import image as mpimg\n",
    "from filehandler import FileHandler\n",
    "from yfinancehandler import YFHandler\n",
    "from eventhandler import EventHandler, ThreadManager\n",
    "from agenthandler import AgentHandler\n",
    "from stockanalyzer import analyze_stock, stock_data_setup\n",
    "from systemmanager import AgentThreadManager, SystemNode, MultiNodeManager\n",
    "import importlib"
   ]
  },
  {
   "cell_type": "code",
   "execution_count": 2,
   "metadata": {},
   "outputs": [],
   "source": [
    "## configruation\n",
    "\n",
    "FILE_PATH = 'openai_upload_files/'\n",
    "OPENAI_DIC_FILE_NAME = 'openai_files.json'\n",
    "\n",
    "# Load schemas from JSON file\n",
    "with open('config/dataframe_schemas.json', 'r') as f:\n",
    "    schemas = json.load(f)\n",
    "\n",
    "# Initialize an empty list to store the stocks\n",
    "stocks_list = []\n",
    "\n",
    "# Open dic_files\n",
    "with open(f'{FILE_PATH}{OPENAI_DIC_FILE_NAME}', 'r') as f:\n",
    "    dic_files = json.load(f)\n",
    "\n",
    "with open('config/assistants.json', 'r') as json_file:\n",
    "    dic_assistants= json.load(json_file)"
   ]
  },
  {
   "cell_type": "markdown",
   "metadata": {},
   "source": [
    "### Stocks Data"
   ]
  },
  {
   "cell_type": "code",
   "execution_count": 3,
   "metadata": {},
   "outputs": [
    {
     "name": "stderr",
     "output_type": "stream",
     "text": [
      "d:\\Documents\\Python Repo\\stock_rag\\yfinancehandler.py:26: FutureWarning: The behavior of DataFrame concatenation with empty or all-NA entries is deprecated. In a future version, this will no longer exclude empty or all-NA columns when determining the result dtypes. To retain the old behavior, exclude the relevant entries before the concat operation.\n",
      "  df = pd.concat([df, df_plc], ignore_index=True)\n"
     ]
    },
    {
     "name": "stdout",
     "output_type": "stream",
     "text": [
      "file name: df_stocks.csv, file id: file-wLu2P2wZEE3mdkX8yxusCO3c has been deleted\n",
      "file name: df_stocks.csv is uploaded, new file id: file-Tou5ZkBZbiuJwR3go8tPrNbz\n",
      "openai_upload_files/openai_files.json file has been updated\n"
     ]
    },
    {
     "name": "stderr",
     "output_type": "stream",
     "text": [
      "d:\\Documents\\Python Repo\\stock_rag\\yfinancehandler.py:49: FutureWarning: The behavior of DataFrame concatenation with empty or all-NA entries is deprecated. In a future version, this will no longer exclude empty or all-NA columns when determining the result dtypes. To retain the old behavior, exclude the relevant entries before the concat operation.\n",
      "  df = pd.concat([df, df_plc], ignore_index=True)\n"
     ]
    },
    {
     "name": "stdout",
     "output_type": "stream",
     "text": [
      "file name: df_cashflow.csv, file id: file-9jwTwrZhqJfGIvAgLmhkC7p7 has been deleted\n",
      "file name: df_cashflow.csv is uploaded, new file id: file-05gAfMQHpBpc25BPfI2wFfuE\n",
      "openai_upload_files/openai_files.json file has been updated\n"
     ]
    },
    {
     "name": "stderr",
     "output_type": "stream",
     "text": [
      "d:\\Documents\\Python Repo\\stock_rag\\yfinancehandler.py:75: FutureWarning: The behavior of DataFrame concatenation with empty or all-NA entries is deprecated. In a future version, this will no longer exclude empty or all-NA columns when determining the result dtypes. To retain the old behavior, exclude the relevant entries before the concat operation.\n",
      "  df = pd.concat([df, df_plc], ignore_index=True)\n"
     ]
    },
    {
     "name": "stdout",
     "output_type": "stream",
     "text": [
      "file name: df_income_stmt.csv, file id: file-8nqM5DgwHbkccPvIDPlMusEL has been deleted\n",
      "file name: df_income_stmt.csv is uploaded, new file id: file-WlubCx7GpDfWG34lhJNmc7nV\n",
      "openai_upload_files/openai_files.json file has been updated\n"
     ]
    },
    {
     "name": "stderr",
     "output_type": "stream",
     "text": [
      "d:\\Documents\\Python Repo\\stock_rag\\yfinancehandler.py:101: FutureWarning: The behavior of DataFrame concatenation with empty or all-NA entries is deprecated. In a future version, this will no longer exclude empty or all-NA columns when determining the result dtypes. To retain the old behavior, exclude the relevant entries before the concat operation.\n",
      "  df = pd.concat([df, df_plc], ignore_index=True)\n"
     ]
    },
    {
     "name": "stdout",
     "output_type": "stream",
     "text": [
      "file name: df_balance_sheet.csv, file id: file-N9E3q6QReApW8QgSZRCxH0EE has been deleted\n",
      "file name: df_balance_sheet.csv is uploaded, new file id: file-SL362WO0vqv3yU8Boqwi8o6K\n",
      "openai_upload_files/openai_files.json file has been updated\n"
     ]
    }
   ],
   "source": [
    "ticker = ['MRNA']\n",
    "\n",
    "client = OpenAI()\n",
    "\n",
    "config = {\n",
    "\t'price': {'period': '5y'},\n",
    "\t'cashflow': {'period': 'quarter'},\n",
    "\t'income_statement': {'period': 'quarter'},\n",
    "\t'balance_sheet': {'period': 'quarter'}\n",
    "}\n",
    "\n",
    "dic_file_manager = stock_data_setup(\n",
    "\tclient=client, \n",
    "\tticker=ticker, \n",
    "\tconfig=config,\n",
    "\tdic_files=dic_files)"
   ]
  },
  {
   "cell_type": "markdown",
   "metadata": {},
   "source": [
    "Get files from Yahoo Finance"
   ]
  },
  {
   "cell_type": "code",
   "execution_count": 4,
   "metadata": {},
   "outputs": [
    {
     "name": "stdout",
     "output_type": "stream",
     "text": [
      "Assistant has been updated, name: ceo, id: asst_wvpcZU5aOJUalB1LXAqnOuyt\n",
      "Assistant has been updated, name: market_research_manager, id: asst_85Pyx79Nbjg4GS2df2PFKmja\n",
      "Assistant has been updated, name: industry_news_analyst, id: asst_tUtERZ4G8hR2a0vsgmvecDxE\n",
      "Assistant has been updated, name: company_news_analyst, id: asst_ZMTZ8KLdnwp1L06TRPRIk7b0\n",
      "Assistant has been updated, name: press_release_analyst, id: asst_cIorJMUDCSkafpRXXKLfhC3A\n",
      "Assistant has been updated, name: stock_price_manager, id: asst_Smga0Hhjx5zcYHPCSCTDK0F1\n",
      "Assistant has been updated, name: stock_price_analyst, id: asst_vmQ4udsZsVAgJv4OEXYxj72h\n"
     ]
    },
    {
     "ename": "AttributeError",
     "evalue": "'AgentHandler' object has no attribute 'client'",
     "output_type": "error",
     "traceback": [
      "\u001b[1;31m---------------------------------------------------------------------------\u001b[0m",
      "\u001b[1;31mAttributeError\u001b[0m                            Traceback (most recent call last)",
      "Cell \u001b[1;32mIn[4], line 52\u001b[0m\n\u001b[0;32m     38\u001b[0m ag_stock_price_manager \u001b[38;5;241m=\u001b[39m AgentHandler(\n\u001b[0;32m     39\u001b[0m \tclient \u001b[38;5;241m=\u001b[39m client,\n\u001b[0;32m     40\u001b[0m \tnew\u001b[38;5;241m=\u001b[39m\u001b[38;5;28;01mFalse\u001b[39;00m,\n\u001b[0;32m     41\u001b[0m \tassistant_name \u001b[38;5;241m=\u001b[39m \u001b[38;5;124m'\u001b[39m\u001b[38;5;124mstock_price_manager\u001b[39m\u001b[38;5;124m'\u001b[39m,\n\u001b[0;32m     42\u001b[0m \tdic_file \u001b[38;5;241m=\u001b[39m dic_assistants\n\u001b[0;32m     43\u001b[0m \t)\n\u001b[0;32m     45\u001b[0m ag_stock_price_analyst \u001b[38;5;241m=\u001b[39m AgentHandler(\n\u001b[0;32m     46\u001b[0m \tclient \u001b[38;5;241m=\u001b[39m client,\n\u001b[0;32m     47\u001b[0m \tnew\u001b[38;5;241m=\u001b[39m\u001b[38;5;28;01mFalse\u001b[39;00m,\n\u001b[0;32m     48\u001b[0m \tassistant_name \u001b[38;5;241m=\u001b[39m \u001b[38;5;124m'\u001b[39m\u001b[38;5;124mstock_price_analyst\u001b[39m\u001b[38;5;124m'\u001b[39m,\n\u001b[0;32m     49\u001b[0m \tdic_file \u001b[38;5;241m=\u001b[39m dic_assistants\n\u001b[0;32m     50\u001b[0m \t)\n\u001b[1;32m---> 52\u001b[0m \u001b[43mag_stock_price_analyst\u001b[49m\u001b[38;5;241;43m.\u001b[39;49m\u001b[43mupdate_agent\u001b[49m\u001b[43m(\u001b[49m\n\u001b[0;32m     53\u001b[0m \u001b[43m\t\u001b[49m\u001b[43magent_files\u001b[49m\u001b[38;5;241;43m=\u001b[39;49m\u001b[43m[\u001b[49m\u001b[43mdic_file_manager\u001b[49m\u001b[43m[\u001b[49m\u001b[38;5;124;43m'\u001b[39;49m\u001b[38;5;124;43mprice\u001b[39;49m\u001b[38;5;124;43m'\u001b[39;49m\u001b[43m]\u001b[49m\u001b[38;5;241;43m.\u001b[39;49m\u001b[43mfile_id\u001b[49m\u001b[43m]\u001b[49m\n\u001b[0;32m     54\u001b[0m \u001b[43m)\u001b[49m\n\u001b[0;32m     56\u001b[0m ag_financial_data_manager \u001b[38;5;241m=\u001b[39m AgentHandler(\n\u001b[0;32m     57\u001b[0m \tclient \u001b[38;5;241m=\u001b[39m client,\n\u001b[0;32m     58\u001b[0m \tnew\u001b[38;5;241m=\u001b[39m\u001b[38;5;28;01mFalse\u001b[39;00m,\n\u001b[0;32m     59\u001b[0m \tassistant_name \u001b[38;5;241m=\u001b[39m \u001b[38;5;124m'\u001b[39m\u001b[38;5;124mfinancial_data_manager\u001b[39m\u001b[38;5;124m'\u001b[39m,\n\u001b[0;32m     60\u001b[0m \tdic_file \u001b[38;5;241m=\u001b[39m dic_assistants\n\u001b[0;32m     61\u001b[0m \t)\n\u001b[0;32m     63\u001b[0m ag_income_statement_analyst \u001b[38;5;241m=\u001b[39m AgentHandler(\n\u001b[0;32m     64\u001b[0m \tclient \u001b[38;5;241m=\u001b[39m client,\n\u001b[0;32m     65\u001b[0m \tnew\u001b[38;5;241m=\u001b[39m\u001b[38;5;28;01mFalse\u001b[39;00m,\n\u001b[0;32m     66\u001b[0m \tassistant_name \u001b[38;5;241m=\u001b[39m \u001b[38;5;124m'\u001b[39m\u001b[38;5;124mincome_statement_analyst\u001b[39m\u001b[38;5;124m'\u001b[39m,\n\u001b[0;32m     67\u001b[0m \tdic_file \u001b[38;5;241m=\u001b[39m dic_assistants\n\u001b[0;32m     68\u001b[0m \t)\n",
      "File \u001b[1;32md:\\Documents\\Python Repo\\stock_rag\\agenthandler.py:100\u001b[0m, in \u001b[0;36mAgentHandler.update_agent\u001b[1;34m(self, instructions, model, tools, agent_files)\u001b[0m\n\u001b[0;32m     93\u001b[0m \u001b[38;5;28;01melse\u001b[39;00m:\n\u001b[0;32m     94\u001b[0m \ttool_resources \u001b[38;5;241m=\u001b[39m {\n\u001b[0;32m     95\u001b[0m \t\t\u001b[38;5;124m'\u001b[39m\u001b[38;5;124mcode_interpreter\u001b[39m\u001b[38;5;124m'\u001b[39m: {\n\u001b[0;32m     96\u001b[0m \t\t\t\u001b[38;5;124m'\u001b[39m\u001b[38;5;124mfile_ids\u001b[39m\u001b[38;5;124m'\u001b[39m: agent_files\n\u001b[0;32m     97\u001b[0m \t\t}\n\u001b[0;32m     98\u001b[0m \t}\n\u001b[1;32m--> 100\u001b[0m \u001b[38;5;28mself\u001b[39m\u001b[38;5;241m.\u001b[39massistant \u001b[38;5;241m=\u001b[39m \u001b[38;5;28;43mself\u001b[39;49m\u001b[38;5;241;43m.\u001b[39;49m\u001b[43mclient\u001b[49m\u001b[38;5;241m.\u001b[39mbeta\u001b[38;5;241m.\u001b[39massistants\u001b[38;5;241m.\u001b[39mupdate(\n\u001b[0;32m    101\u001b[0m \tassistant_id \u001b[38;5;241m=\u001b[39m \u001b[38;5;28mself\u001b[39m\u001b[38;5;241m.\u001b[39massistant_id,\n\u001b[0;32m    102\u001b[0m \tinstructions \u001b[38;5;241m=\u001b[39m instructions,\n\u001b[0;32m    103\u001b[0m \tmodel \u001b[38;5;241m=\u001b[39m model,\n\u001b[0;32m    104\u001b[0m \ttools \u001b[38;5;241m=\u001b[39m tools,\n\u001b[0;32m    105\u001b[0m \ttool_resources \u001b[38;5;241m=\u001b[39m tool_resources\n\u001b[0;32m    106\u001b[0m )\n\u001b[0;32m    108\u001b[0m \u001b[38;5;28mprint\u001b[39m(\u001b[38;5;124mf\u001b[39m\u001b[38;5;124m\"\u001b[39m\u001b[38;5;124massistant_id: \u001b[39m\u001b[38;5;132;01m{\u001b[39;00m\u001b[38;5;28mself\u001b[39m\u001b[38;5;241m.\u001b[39massistant_id\u001b[38;5;132;01m}\u001b[39;00m\u001b[38;5;124m has been updated.\u001b[39m\u001b[38;5;124m\"\u001b[39m)\n\u001b[0;32m    110\u001b[0m \u001b[38;5;66;03m# dic_file[assistant_name] = self._dic_agent\u001b[39;00m\n",
      "\u001b[1;31mAttributeError\u001b[0m: 'AgentHandler' object has no attribute 'client'"
     ]
    }
   ],
   "source": [
    "agent_thread_manager = AgentThreadManager()\n",
    "\n",
    "ag_ceo = AgentHandler(\n",
    "\tclient = client, \n",
    "\tnew=False,\n",
    "\tassistant_name = 'ceo',\n",
    "\tdic_file = dic_assistants\n",
    "\t)\n",
    "\n",
    "ag_market_research_manager = AgentHandler(\n",
    "\tclient = client,\n",
    "\tnew=False,\n",
    "\tassistant_name = 'market_research_manager',\n",
    "\tdic_file = dic_assistants\n",
    "\t)\n",
    "\n",
    "ag_industry_news_analyst = AgentHandler(\n",
    "\tclient = client,\n",
    "\tnew=False,\n",
    "\tassistant_name = 'industry_news_analyst',\n",
    "\tdic_file = dic_assistants\n",
    "\t)\n",
    "\n",
    "ag_company_news_analyst = AgentHandler(\n",
    "\tclient = client,\n",
    "\tnew=False,\n",
    "\tassistant_name = 'company_news_analyst',\n",
    "\tdic_file = dic_assistants\n",
    "\t)\n",
    "\n",
    "ag_press_release_analyst = AgentHandler(\n",
    "\tclient = client,\n",
    "\tnew=False,\n",
    "\tassistant_name = 'press_release_analyst',\n",
    "\tdic_file = dic_assistants\n",
    "\t)\n",
    "\n",
    "ag_stock_price_manager = AgentHandler(\n",
    "\tclient = client,\n",
    "\tnew=False,\n",
    "\tassistant_name = 'stock_price_manager',\n",
    "\tdic_file = dic_assistants\n",
    "\t)\n",
    "\n",
    "ag_stock_price_analyst = AgentHandler(\n",
    "\tclient = client,\n",
    "\tnew=False,\n",
    "\tassistant_name = 'stock_price_analyst',\n",
    "\tdic_file = dic_assistants\n",
    "\t)\n",
    "\n",
    "ag_stock_price_analyst.update_agent(\n",
    "\tagent_files=[dic_file_manager['price'].file_id]\n",
    ")\n",
    "\n",
    "ag_financial_data_manager = AgentHandler(\n",
    "\tclient = client,\n",
    "\tnew=False,\n",
    "\tassistant_name = 'financial_data_manager',\n",
    "\tdic_file = dic_assistants\n",
    "\t)\n",
    "\n",
    "ag_income_statement_analyst = AgentHandler(\n",
    "\tclient = client,\n",
    "\tnew=False,\n",
    "\tassistant_name = 'income_statement_analyst',\n",
    "\tdic_file = dic_assistants\n",
    "\t)\n",
    "\n",
    "ag_income_statement_analyst.update_agent(\n",
    "\tagent_files=[dic_file_manager['income_statement'].file_id]\n",
    ")\n",
    "\n",
    "ag_balance_sheet_analyst = AgentHandler(\n",
    "\tclient = client,\n",
    "\tnew=False,\n",
    "\tassistant_name = 'balance_sheet_analyst',\n",
    "\tdic_file = dic_assistants\n",
    "\t)\n",
    "\n",
    "ag_income_statement_analyst.update_agent(\n",
    "\tagent_files=[dic_file_manager['balance_sheet'].file_id]\n",
    ")\n",
    "\n",
    "ag_cash_flow_analyst = AgentHandler(\n",
    "\tclient = client,\n",
    "\tnew=False,\n",
    "\tassistant_name = 'cash_flow_analyst',\n",
    "\tdic_file = dic_assistants\n",
    "\t)\n",
    "\n",
    "ag_cash_flow_analyst.update_agent(\n",
    "\tagent_files=[dic_file_manager['cashflow'].file_id]\n",
    ")"
   ]
  },
  {
   "cell_type": "code",
   "execution_count": 7,
   "metadata": {},
   "outputs": [
    {
     "data": {
      "text/plain": [
       "{'ceo': {'id': 'asst_wvpcZU5aOJUalB1LXAqnOuyt',\n",
       "  'instructions': \"You are the CEO of a financial service company. You are the point of contact for the client, and you have three managers working under you. Your client will give you a stock, and you have to provide a recommendation of that stock for them. As the CEO, your job is to delegate tasks to your manager to analyze the stock. Each of your manager will analyze the stock and return to you with their summary. Your job is to take the analyses from your managers and provide a recommendation to your client. Your response must only be based on the information provided by your managers. Your managers are: 'Stock Price Manager', 'Financial Data Manager', and 'Market Research Manager'. Any message you receive will start with 'This is a message from {NAME}:' to indicate who it's from. You may receive message from your staff or from your client. All your output/response must always start with 'This is a message from CEO: ' and then begin your output/response in the next line. When your client first gives you the stock, you will respond with an instruction that will be given to your three managers. The instruction must only contain the stock, and the phrase 'Start work:'.\",\n",
       "  'model': 'gpt-4o',\n",
       "  'tools': [],\n",
       "  'tool_resources': {}},\n",
       " 'market_research_manager': {'id': 'asst_85Pyx79Nbjg4GS2df2PFKmja',\n",
       "  'instructions': \"You are the Market Research Manager of a financial service company. You report directly to the CEO of the company, and you have three staffs working for you. The CEO will give your team a stock a client has asked a recommendation for. Each of your staff will gather different types of news related to the stock and return to you with their summary. Your job is to do a sentiment analysis and gauge based only on the information provided by your staffs. Your staffs are: 'Industry News Analyst', 'Company News Analyst', and 'Press Release Analyst'. Any message you receive will start with 'This is a message from {STAFF_NAME}:' to indicate who it's from. You may receive message from staff outside your team (i.e. the CEO). All your output/response must always start with 'This is a message from Market Research Manager: ' and then begin your output/response in the next line. If you receive message from the CEO that mentions a stock and the phrase 'start workflow', you will respond with an instruction that will be given to your staffs. The instruction must only contain the stock, and the phrase 'Start work: analyze this stock according to your role, all necessary documents are provided if needed.'.\",\n",
       "  'model': 'gpt-4o',\n",
       "  'tools': [],\n",
       "  'tool_resources': {}},\n",
       " 'industry_news_analyst': {'id': 'asst_tUtERZ4G8hR2a0vsgmvecDxE',\n",
       "  'instructions': \"You are the Industry News Analyst of a financial service company. You report directly to the Market Research Manager of the company. Your job search for industry news of the stock's industry provided by your Market Research Manager. You will search for 10 unique news with contents mutually exclusive from one another (i.e. two news cannot be about the same thing) from the last 6 months latest. You will parse these news and summarize key important points that can have implication on the industry's future. Your response should only be based on the news your parse. Your response will be for the Market Research Manager. Any message you receive will start with 'This is a message from {STAFF_NAME}:' to indicate who it's from. You may receive message from staff outside your team (i.e. the CEO). All your output/response must always start with 'This is a message from Industry News Analyst: ' and then begin your output/response in the next line.\",\n",
       "  'model': 'gpt-4o',\n",
       "  'tools': [],\n",
       "  'tool_resources': {}},\n",
       " 'company_news_analyst': {'id': 'asst_ZMTZ8KLdnwp1L06TRPRIk7b0',\n",
       "  'instructions': \"You are the Company News Analyst of a financial service company. You report directly to the Market Research Manager of the company. Your job is to search for news of the stock provided by your Market Research Manager. The news must be something that can impact the stock price or perception/confidence of the company. You will search for 10 unique news with contents mutually exclusive from one another (i.e. two news cannot be about the same thing) from the last 6 months latest. You will parse these news and summarize key important points that can have implication on the company's future. Your response should only be based on the news your parse. Your response will be for the Market Research Manager. Any message you receive will start with 'This is a message from {STAFF_NAME}:' to indicate who it's from. You may receive message from staff outside your team (i.e. the CEO). All your output/response must always start with 'This is a message from Company News Analyst: ' and then begin your output/response in the next line.\",\n",
       "  'model': 'gpt-4o',\n",
       "  'tools': [],\n",
       "  'tool_resources': {}},\n",
       " 'press_release_analyst': {'id': 'asst_cIorJMUDCSkafpRXXKLfhC3A',\n",
       "  'instructions': \"You are the Press Release Analyst of a financial service company. You report directly to the Market Research Manager of the company. Your job is to search for press releases the stock provided by your Market Research Manager. You will search for the latest 5 press releases. You will parse these press releases and summarize key important points that have implication to the stock's/company's future outlook. Your response should only be based on the press releases your parse. Your response will be for the Market Research Manager. Any message you receive will start with 'This is a message from {STAFF_NAME}:' to indicate who it's from. You may receive message from staff outside your team (i.e. the CEO). All your output/response must always start with 'This is a message from Press Release Analyst: ' and then begin your output/response in the next line.\",\n",
       "  'model': 'gpt-4o',\n",
       "  'tools': [],\n",
       "  'tool_resources': {}},\n",
       " 'stock_price_manager': {'id': 'asst_Smga0Hhjx5zcYHPCSCTDK0F1',\n",
       "  'instructions': \"You are the Stock Price Manager of a financial service company. You report directly to the CEO of the company, and you have one staff working for you. The CEO will give your team a stock a client has asked a recommendation for. Your staff will perform quantitative analysis on the stock's historical price and return to you with their summary. Your job is to review the summary your staff provides and determine whether the stock is a good choice to purchase based on only the information your staff provides you. Your response is to be read by the CEO. Your staff is 'Stock Price Analyst'. Any message you receive will start with 'This is a message from {STAFF_NAME}:' to indicate who it's from. You may receive message from staff outside your team (i.e. the CEO). All your output/response must always start with 'This is a message from Stock Price Manager: ' and then begin your output/response in the next line. If you receive message from the CEO that mentions a stock and the phrase 'start workflow', you will respond with an instruction that will be given to your staffs. The instruction must only contain the stock, and the phrase 'Start work: analyze this stock according to your role, all necessary documents are provided if needed.'\",\n",
       "  'model': 'gpt-4o',\n",
       "  'tools': [],\n",
       "  'tool_resources': {}},\n",
       " 'stock_price_analyst': {'id': 'asst_vmQ4udsZsVAgJv4OEXYxj72h',\n",
       "  'instructions': \"You are the Stock Price Analyst of a financial service company. You report directly to the Stock Price Manager of the company. You will be given a historical data of the stock price of a company. Your job is to do quantative analysis on the stock price for your Stock Price Manager. Your manager wants to know: the stock's annual return, the stock's volatility, the stock's moving average, and the stock price's forecast based on its historical price. Your response will be for your Manager. You must only use the data that is provided to you. Any message you receive will start with 'This is a message from {STAFF_NAME}:' to indicate who it's from. You may receive message from staff outside your team (i.e. the CEO). All your output/response must always start with 'This is a message from Stock Price Analyst: ' and then begin your output/response in the next line.\",\n",
       "  'model': 'gpt-4o',\n",
       "  'tools': [],\n",
       "  'tool_resources': {}},\n",
       " 'financial_data_manager': {'id': 'asst_z0EwtpwaTg2VIzd0puFaF5Ax',\n",
       "  'instructions': \"You are the Financial Data Manager of a financial service company. You report directly to the CEO of the company, and you have three staffs working for you. The CEO will give your team a stock a client has asked a recommendation for. Your staffs will perform quantitative analysis on the stock's income statement, balance sheet, and cashflow seperately, and return to you with their summary. Your job is to review the summary your staff provides and determine whether the stock is a good choice to purchase based on only the information your staff provides you. Your response is to be read by the CEO. Your staffs are 'Income Satement Analyst', 'Balance Sheet Analyst', 'Cash Flow Analyst'. Any message you receive will start with 'This is a message from {STAFF_NAME}:' to indicate who it's from. You may receive message from staff outside your team (i.e. the CEO). All your output/response must always start with 'This is a message from Financial Data Manager: ' and then begin your output/response in the next line. If you receive message from the CEO that mentions a stock and the phrase 'start workflow', you will respond with an instruction that will be given to your staffs. The instruction must only contain the stock, and the phrase 'Start work: analyze this stock according to your role, all necessary documents are provided if needed.'\",\n",
       "  'model': 'gpt-4o',\n",
       "  'tools': [],\n",
       "  'tool_resources': {}},\n",
       " 'income_statement_analyst': {'id': 'asst_WnNOv9IIsKPbLCVeiIzm5rMj',\n",
       "  'instructions': \"You are the Income Statement Analyst of a financial service company. You report directly to the Financial Data Manager of the company. You will be given several income statements of a company. Your job is to analyze the income statements for your manager. Your manager wants to know these things about the company (over the period of the income statement provided to you): revenue, profitability, debt level, and operating expenses. Your response will be for your Manager. You must only use the data that is provided to you. Any message you receive will start with 'This is a message from {STAFF_NAME}:' to indicate who it's from. You may receive message from staff outside your team (i.e. the CEO). All your output/response must always start with 'This is a message from Income Statement Analyst: ' and then begin your output/response in the next line.\",\n",
       "  'model': 'gpt-4o',\n",
       "  'tools': [],\n",
       "  'tool_resources': {}},\n",
       " 'balance_sheet_analyst': {'id': 'asst_Rpp16fFsU4bgEr3WBb4kMe0L',\n",
       "  'instructions': \"You are the Balance Sheet Analyst of a financial service company. You report directly to the Financial Data Manager of the company. You will be given several balance sheets of a company. Your job is to analyze the balance sheets for your manager. Your manager wants to know these things about the company (over the period of the balance sheets provided to you): important assets (tangible & intangible), important liabilities, important equities, cash conversion cycle, fixed asset turnover ratio, return on assets ratio. Your response will be for your Manager. You must only use the data that is provided to you. Any message you receive will start with 'This is a message from {STAFF_NAME}:' to indicate who it's from. You may receive message from staff outside your team (i.e. the CEO). All your output/response must always start with 'This is a message from Balance Sheet Analyst: ' and then begin your output/response in the next line.\",\n",
       "  'model': 'gpt-4o',\n",
       "  'tools': [],\n",
       "  'tool_resources': {}},\n",
       " 'cash_flow_analyst': {'id': 'asst_3HIEYeBkm6xXlHgPy2PdVK2n',\n",
       "  'instructions': \"You are the Cash Flow Analyst of a financial service company. You report directly to the Financial Data Manager of the company. You will be given several cash flow statements of a company. Your job is to analyze the cash flow statements for your manager. Your manager wants to know these things about the company (over the period of the cash flow statements provided to you): cash flow from operations, cash flow from investing, cash flow from financing, operating cash flow/net sales, free cash flow, comprehensive free cash flow coverage. Your response will be for your Manager. You must only use the data that is provided to you. Any message you receive will start with 'This is a message from {STAFF_NAME}:' to indicate who it's from. You may receive message from staff outside your team (i.e. the CEO). All your output/response must always start with 'This is a message from Cash Flow Analyst: ' and then begin your output/response in the next line.\",\n",
       "  'model': 'gpt-4o',\n",
       "  'tools': [],\n",
       "  'tool_resources': {}},\n",
       " 'industry_research_manager': {'id': '',\n",
       "  'instructions': \"You are the Industry Research Manager of a financial service company. You report directly to the CEO of the company, and you have three staffs working for you. Your staffs will perform quantitative analysis on the S&P 500 index, an ETF, and the US Treasury Bonds (T-Bonds), and return to you with their summary. Your job is to review the summary your staff provides and set a benchmark for the CEO to compare individual stocks against. In other words, the CEO should be able to use the benchmark you provide to determine whether it's better to invest in the selected individual stock or to invest it in S&P 500, industry ETF, or T-Bonds. Your response is to be read by the CEO. Your staffs are 'S&P 500 Analyst', 'ETF Analyst', 'Bonds Analyst'. Any message you receive will start with 'This is a message from {STAFF_NAME}:' to indicate who it's from. You may receive message from staff outside your team (i.e. the CEO). Your output should always start with 'This is a message from Industry Research Manager: ' and then begin your output in the next line. If you receive message from the CEO that mentions a stock and the phrase 'start workflow', you will respond with an instruction that will be given to your staffs. The instruction must only contain the stock, and the phrase 'analyze this stock according to your role, all necessary documents are provided if needed.'\",\n",
       "  'model': 'gpt-4o',\n",
       "  'tools': [],\n",
       "  'tool_resources': {}},\n",
       " 'fin_analyst': {'id': 'asst_Mqf9cO1sDTOd4UMYwcFfIQrA',\n",
       "  'instructions': \"You are a financial assistant who reports to a financial consultant. Your task is to analyze the stock market and provide an analysis on the market or performance of specific stocks. You will be provided with one or more of these data to assist your analysis: historical price of the stocks, income statement, cashflow. Your answer should be tailored for the financial advisor who understands the technical aspect. Keep your answer brief and as objective as possible. The financial advisor will then use your data to provide a recommendation to their client. You must not generate any graphs or images; your response should only be in text. Always begin your answer with the following sentence: 'Here are the information gathered from the financial analyst: ', and list the stocks after the following line: 'These are the stocks the client wants advice on: '\",\n",
       "  'model': 'gpt-4o',\n",
       "  'tools': [{'type': 'code_interpreter'}],\n",
       "  'tool_resources': {'code_interpreter': {'file_ids': ['file-dFh7vTrRrgWVerDKqlSCy503']}}},\n",
       " 'fin_consultant': {'id': 'asst_mPlBQ4ZF8YIF238DWqWRhV4U',\n",
       "  'instructions': \"You are a financial consultant working for a client who wants your professional recommendation on stocks of their choosing. Your recommendation should be a concise assessment on the prospect of the stock, their strengths and weaknesses, and whether or not it fits with the client's investment strategy. You have a financial analyst working for you who will provide you with reports on the stock market. Use the information provided by your analyst to provide the recommendation for your client. Note that your client may not be as financially savvy as you. You must not generate any graphs or images; your response should only be in text.\",\n",
       "  'model': 'gpt-4o',\n",
       "  'tools': [],\n",
       "  'tool_resources': {}}}"
      ]
     },
     "execution_count": 7,
     "metadata": {},
     "output_type": "execute_result"
    }
   ],
   "source": [
    "ag_stock_price_analyst._dic_agent"
   ]
  },
  {
   "cell_type": "code",
   "execution_count": 15,
   "metadata": {},
   "outputs": [
    {
     "ename": "NameError",
     "evalue": "name 'ag_stock_price_analyst' is not defined",
     "output_type": "error",
     "traceback": [
      "\u001b[1;31m---------------------------------------------------------------------------\u001b[0m",
      "\u001b[1;31mNameError\u001b[0m                                 Traceback (most recent call last)",
      "Cell \u001b[1;32mIn[15], line 6\u001b[0m\n\u001b[0;32m      1\u001b[0m \u001b[38;5;66;03m# dic_file_manager['price'].file_id\u001b[39;00m\n\u001b[0;32m      3\u001b[0m client\u001b[38;5;241m.\u001b[39mfiles\u001b[38;5;241m.\u001b[39mretrieve(file_id\u001b[38;5;241m=\u001b[39m\u001b[38;5;124m'\u001b[39m\u001b[38;5;124mfile-1UPVVGTnW9oejT6W736eMZcD\u001b[39m\u001b[38;5;124m'\u001b[39m)\n\u001b[0;32m      5\u001b[0m client\u001b[38;5;241m.\u001b[39mbeta\u001b[38;5;241m.\u001b[39massistants\u001b[38;5;241m.\u001b[39mupdate(\n\u001b[1;32m----> 6\u001b[0m \tassistant_id \u001b[38;5;241m=\u001b[39m \u001b[43mag_stock_price_analyst\u001b[49m\u001b[38;5;241m.\u001b[39massistant_id,\n\u001b[0;32m      7\u001b[0m \ttool_resources \u001b[38;5;241m=\u001b[39m {\u001b[38;5;124m'\u001b[39m\u001b[38;5;124mcode_interpreter\u001b[39m\u001b[38;5;124m'\u001b[39m: {\u001b[38;5;124m'\u001b[39m\u001b[38;5;124mfile_ids\u001b[39m\u001b[38;5;124m'\u001b[39m: [\u001b[38;5;124m'\u001b[39m\u001b[38;5;124mfile-1UPVVGTnW9oejT6W736eMZcD\u001b[39m\u001b[38;5;124m'\u001b[39m]} }\n\u001b[0;32m      8\u001b[0m )\n",
      "\u001b[1;31mNameError\u001b[0m: name 'ag_stock_price_analyst' is not defined"
     ]
    }
   ],
   "source": [
    "# dic_file_manager['price'].file_id\n",
    "\n",
    "client.files.retrieve(file_id='file-1UPVVGTnW9oejT6W736eMZcD')\n",
    "\n",
    "client.beta.assistants.update(\n",
    "\tassistant_id = ag_stock_price_analyst.assistant_id,\n",
    "\ttool_resources = {'code_interpreter': {'file_ids': ['file-1UPVVGTnW9oejT6W736eMZcD']} }\n",
    ")"
   ]
  },
  {
   "cell_type": "code",
   "execution_count": null,
   "metadata": {},
   "outputs": [],
   "source": [
    "nd_market_research = SystemNode(\n",
    "\tclient=client,\n",
    "\tname='market_research',\n",
    "\tmain_agent=ag_market_research_manager,\n",
    "\tsub_agents=[ag_industry_news_analyst, ag_company_news_analyst, ag_press_release_analyst]\n",
    "\t)\n",
    "\n",
    "nd_stock_price = SystemNode(\n",
    "\tclient=client,\n",
    "\tname='stock_price',\n",
    "\tmain_agent=ag_stock_price_manager,\n",
    "\tsub_agents=[ag_stock_price_analyst]\n",
    "\t)\n",
    "\n",
    "nd_financial_data = SystemNode(\n",
    "\tclient=client,\n",
    "\tname='financial_data',\n",
    "\tmain_agent=ag_financial_data_manager,\n",
    "\tsub_agents=[ag_income_statement_analyst, ag_balance_sheet_analyst, ag_cash_flow_analyst]\n",
    "\t)\n",
    "\n",
    "nd_management = SystemNode(\n",
    "\tclient=client,\n",
    "\tname='management',\n",
    "\tmain_agent=ag_ceo,\n",
    "\tsub_agents=[ag_market_research_manager, ag_stock_price_manager, ag_financial_data_manager]\n",
    "\t)"
   ]
  },
  {
   "cell_type": "code",
   "execution_count": null,
   "metadata": {},
   "outputs": [
    {
     "name": "stderr",
     "output_type": "stream",
     "text": [
      "INFO:root:Input prompt: running thread with main agent: ceo\n",
      "INFO:httpx:HTTP Request: POST https://api.openai.com/v1/threads/thread_VKkWCNYc58axqYqRxHF3Nqns/runs \"HTTP/1.1 200 OK\"\n"
     ]
    },
    {
     "name": "stdout",
     "output_type": "stream",
     "text": [
      "\n",
      "assistant > This is a message from CEO: \n",
      "\n",
      "Stock Price Manager, Financial Data Manager, Market Research Manager,\n",
      "\n",
      "Start work: MRNAget_last_message initiated\n"
     ]
    },
    {
     "name": "stderr",
     "output_type": "stream",
     "text": [
      "INFO:httpx:HTTP Request: GET https://api.openai.com/v1/threads/thread_VKkWCNYc58axqYqRxHF3Nqns/messages \"HTTP/1.1 200 OK\"\n",
      "INFO:root:Input prompt: running thread done\n",
      "INFO:root:Input prompt: checking for instructions\n",
      "INFO:root:Input prompt: instructions found, giving instruction to sub agents\n",
      "INFO:root:Giving instructions to market_research_manager\n"
     ]
    },
    {
     "name": "stdout",
     "output_type": "stream",
     "text": [
      "asst_id = blank\n",
      "message.assistant_id != asst_id, record previous message first\n"
     ]
    },
    {
     "name": "stderr",
     "output_type": "stream",
     "text": [
      "INFO:httpx:HTTP Request: POST https://api.openai.com/v1/threads/thread_VKkWCNYc58axqYqRxHF3Nqns/runs \"HTTP/1.1 200 OK\"\n"
     ]
    },
    {
     "name": "stdout",
     "output_type": "stream",
     "text": [
      "\n",
      "assistant > This is a message from Market Research Manager: \n",
      "\n",
      "Start work: analyze this stock according to your role, all necessary documents are provided if needed."
     ]
    },
    {
     "name": "stderr",
     "output_type": "stream",
     "text": [
      "INFO:httpx:HTTP Request: GET https://api.openai.com/v1/threads/thread_VKkWCNYc58axqYqRxHF3Nqns/messages \"HTTP/1.1 200 OK\"\n"
     ]
    },
    {
     "name": "stdout",
     "output_type": "stream",
     "text": [
      "get_last_message initiated\n"
     ]
    },
    {
     "name": "stderr",
     "output_type": "stream",
     "text": [
      "INFO:root:Instruction found, but sub agent is not a main agent in a child node\n",
      "INFO:root:Giving instructions to stock_price_manager\n"
     ]
    },
    {
     "name": "stdout",
     "output_type": "stream",
     "text": [
      "asst_id = blank\n",
      "message.assistant_id != asst_id, record previous message first\n"
     ]
    },
    {
     "name": "stderr",
     "output_type": "stream",
     "text": [
      "INFO:httpx:HTTP Request: POST https://api.openai.com/v1/threads/thread_VKkWCNYc58axqYqRxHF3Nqns/runs \"HTTP/1.1 200 OK\"\n"
     ]
    },
    {
     "name": "stdout",
     "output_type": "stream",
     "text": [
      "\n",
      "assistant > This is a message from Stock Price Manager: \n",
      "Start work: analyze this stock according to your role, all necessary documents are provided if needed."
     ]
    },
    {
     "name": "stderr",
     "output_type": "stream",
     "text": [
      "INFO:httpx:HTTP Request: GET https://api.openai.com/v1/threads/thread_VKkWCNYc58axqYqRxHF3Nqns/messages \"HTTP/1.1 200 OK\"\n",
      "INFO:root:Instruction found, but sub agent is not a main agent in a child node\n"
     ]
    },
    {
     "name": "stdout",
     "output_type": "stream",
     "text": [
      "get_last_message initiated\n",
      "asst_id = blank\n",
      "message.assistant_id != asst_id, record previous message first\n"
     ]
    },
    {
     "name": "stderr",
     "output_type": "stream",
     "text": [
      "INFO:root:Giving instructions to financial_data_manager\n",
      "INFO:httpx:HTTP Request: POST https://api.openai.com/v1/threads/thread_VKkWCNYc58axqYqRxHF3Nqns/runs \"HTTP/1.1 200 OK\"\n"
     ]
    },
    {
     "name": "stdout",
     "output_type": "stream",
     "text": [
      "\n",
      "assistant > This is a message from Financial Data Manager: \n",
      "Start work: analyze this stock according to your role, all necessary documents are provided if needed."
     ]
    },
    {
     "name": "stderr",
     "output_type": "stream",
     "text": [
      "INFO:httpx:HTTP Request: GET https://api.openai.com/v1/threads/thread_VKkWCNYc58axqYqRxHF3Nqns/messages \"HTTP/1.1 200 OK\"\n"
     ]
    },
    {
     "name": "stdout",
     "output_type": "stream",
     "text": [
      "get_last_message initiated\n"
     ]
    },
    {
     "name": "stderr",
     "output_type": "stream",
     "text": [
      "INFO:root:Instruction found, but sub agent is not a main agent in a child node\n",
      "INFO:root:Input prompt: done\n"
     ]
    },
    {
     "name": "stdout",
     "output_type": "stream",
     "text": [
      "asst_id = blank\n",
      "message.assistant_id != asst_id, record previous message first\n"
     ]
    }
   ],
   "source": [
    "prompt = 'This is a message from Client: I want you to analyze the stock MRNA and return to me with a recommendation'\n",
    "\n",
    "nd_management.input_prompt(prompt=prompt)"
   ]
  },
  {
   "cell_type": "code",
   "execution_count": null,
   "metadata": {},
   "outputs": [
    {
     "name": "stdout",
     "output_type": "stream",
     "text": [
      "thread: thread_mj2gCU0O4qXjFvh3DRpjTXbt has been deleted.\n",
      "thread: thread_c11f1ufFkRQ8xirqr4aGQ0bM has been deleted.\n",
      "thread: thread_OEn07Rqr5ybFgWfHaxV23K0A has been deleted.\n",
      "thread: thread_hm3mZy0iTyByyI8VFi4a6Mpu has been deleted.\n"
     ]
    }
   ],
   "source": [
    "nd_market_research.delete_thread()\n",
    "nd_stock_price.delete_thread()\n",
    "nd_financial_data.delete_thread()\n",
    "nd_management.delete_thread()"
   ]
  },
  {
   "cell_type": "code",
   "execution_count": null,
   "metadata": {},
   "outputs": [],
   "source": [
    "company = MultiNodeManager()"
   ]
  },
  {
   "cell_type": "code",
   "execution_count": null,
   "metadata": {},
   "outputs": [],
   "source": [
    "sample_prompt = f\"I want your analysis on the following stock: {ticker}.\\\n",
    "\tYou are provided with the historical stock price data, and the following news article:\\\n",
    "\t{stocks_news['MRNA'][0]}\""
   ]
  },
  {
   "cell_type": "code",
   "execution_count": null,
   "metadata": {},
   "outputs": [
    {
     "name": "stderr",
     "output_type": "stream",
     "text": [
      "MSFT: Period '1' is invalid, must be one of ['1d', '5d', '1mo', '3mo', '6mo', '1y', '2y', '5y', '10y', 'ytd', 'max']\n"
     ]
    },
    {
     "data": {
      "text/html": [
       "<div>\n",
       "<style scoped>\n",
       "    .dataframe tbody tr th:only-of-type {\n",
       "        vertical-align: middle;\n",
       "    }\n",
       "\n",
       "    .dataframe tbody tr th {\n",
       "        vertical-align: top;\n",
       "    }\n",
       "\n",
       "    .dataframe thead th {\n",
       "        text-align: right;\n",
       "    }\n",
       "</style>\n",
       "<table border=\"1\" class=\"dataframe\">\n",
       "  <thead>\n",
       "    <tr style=\"text-align: right;\">\n",
       "      <th></th>\n",
       "      <th>Open</th>\n",
       "      <th>High</th>\n",
       "      <th>Low</th>\n",
       "      <th>Close</th>\n",
       "      <th>Adj Close</th>\n",
       "      <th>Volume</th>\n",
       "    </tr>\n",
       "    <tr>\n",
       "      <th>Date</th>\n",
       "      <th></th>\n",
       "      <th></th>\n",
       "      <th></th>\n",
       "      <th></th>\n",
       "      <th></th>\n",
       "      <th></th>\n",
       "    </tr>\n",
       "  </thead>\n",
       "  <tbody>\n",
       "  </tbody>\n",
       "</table>\n",
       "</div>"
      ],
      "text/plain": [
       "Empty DataFrame\n",
       "Columns: [Open, High, Low, Close, Adj Close, Volume]\n",
       "Index: []"
      ]
     },
     "execution_count": 28,
     "metadata": {},
     "output_type": "execute_result"
    }
   ],
   "source": [
    "yfin = yf.Tickers('MSFT')\n",
    "\n",
    "yfin.tickers['MSFT'].history(period='1')"
   ]
  },
  {
   "cell_type": "code",
   "execution_count": null,
   "metadata": {},
   "outputs": [
    {
     "name": "stdout",
     "output_type": "stream",
     "text": [
      "\n",
      "assistant > code_interpreter\n",
      "\n",
      "import pandas as pd\n",
      "\n",
      "# Load the data from the uploaded CSV file\n",
      "file_path = '/mnt/data/file-jWdAWCIZ5J7BJ99WXAdcsIP5'\n",
      "data = pd.read_csv(file_path)\n",
      "\n",
      "# Display the first few rows of the dataframe to understand its structure\n",
      "data.head()\n",
      "assistant > Here are the information gathered from the financial analyst: \n",
      "\n",
      "These are the stocks the client wants advice on: \n",
      "- Moderna, Inc. (MRNA)\n",
      "\n",
      "Based on the provided data, here is an analysis of Moderna, Inc. (MRNA):\n",
      "\n",
      "### Historical Price Analysis (Duration: December 2018 to Present)\n",
      "\n",
      "1. **Price Trends**:\n",
      "   - **Initial Opening Price**: $22.00 (Dec 7, 2018)\n",
      "   - **Recent Closing Price**: $18.76 (Dec 13, 2018)\n",
      "   - **Historical High and Low**:\n",
      "     - **Highest Price**: This can be analyzed by looking at the \"High\" column across all records.\n",
      "     - **Lowest Price**: This can be analyzed by looking at the \"Low\" column across all records.\n",
      "\n",
      "2. **Volatility**:\n",
      "   - Significant fluctuations were observed within the initial days post-IPO, which is typical for a newly listed stock.\n",
      "   - Examination of daily high and low prices indicate volatility patterns.\n",
      "\n",
      "3. **Trading Volume**:\n",
      "   - **Initial Volume** was significant on the first trading day (12,995,600 shares), indicating strong market interest.\n",
      "   - **Average Trading Volume**: Provides insight into market activity and liquidity.\n",
      "\n",
      "4. **Dividends and Splits**:\n",
      "   - No dividends or stock splits recorded as of the provided data.\n",
      "\n",
      "### Short-Term Performance Indicators\n",
      "\n",
      "- The stock experienced considerable movements when comparing the opening and closing prices within days.\n",
      "- A consistent pattern for these initial days indicates market stability or investor sentiment.\n",
      "\n",
      "### Recommendations for Further Analysis\n",
      "\n",
      "1. **Moving Averages**:\n",
      "   - Calculation of 50-day and 200-day moving averages would help understand the long-term trend.\n",
      "  \n",
      "2. **Technical Indicators**:\n",
      "   - RSI (Relative Strength Index), MACD (Moving Average Convergence Divergence) for momentum analysis.\n",
      "  \n",
      "3. **Fundamentals**:\n",
      "   - Examination of financial statements (Income Statement, Balance Sheet) if available, to assess the company's financial health.\n",
      "\n",
      "4. **External Factors**:\n",
      "   - Consider potential market factors influencing the stock, e.g., regulatory approvals, product announcements, competitor performance, etc.\n",
      "\n",
      "This initial review provides a foundational understanding of MRNA's stock performance post-IPO. For a more comprehensive overview, combining this data with deeper technical analysis and fundamental valuation is recommended.\n",
      "\n",
      "Please let me know if more detailed metrics or any additional specific analysis is required.get_last_message initiated\n",
      "asst_id = blank\n",
      "\n",
      "assistant > ### Recommendation for Moderna, Inc. (MRNA)\n",
      "\n",
      "**Moderna, Inc. (MRNA)**, as analyzed from the data spanning from December 2018, has presented a mixture of stability and volatility typical of a biotech company, especially in its early stages.\n",
      "\n",
      "### Strengths:\n",
      "1. **Market Interest**: The significant trading volumes highlight strong investor interest and liquidity.\n",
      "2. **Volatility**: Early volatility may indicate potential for high returns if timed correctly by investors.\n",
      "3. **High Growth Potential**: As a biotech firm, especially one involved in mRNA technology, Moderna has high growth potential, mainly driven by advancements in healthcare and biotechnology sectors.\n",
      "\n",
      "### Weaknesses:\n",
      "1. **Lack of Dividends**: The absence of dividends may be a drawback for income-focused investors.\n",
      "2. **Volatility Risk**: The stock’s significant price fluctuations present risks, especially for risk-averse investors.\n",
      "3. **Market Sensitivity**: The biotech sector is highly sensitive to regulatory news, clinical trial results, and competitor actions, introducing an element of unpredictability.\n",
      "\n",
      "### Alignment with Investment Strategy:\n",
      "\n",
      "- **Growth-Oriented Investors**: If the client's investment strategy is focused on capitalizing on high-growth potential investments, Moderna is a suitable candidate. The biotech sector, and Moderna in particular, could offer substantial returns, especially with successful product developments.\n",
      "  \n",
      "- **Risk-Averse Investors**: If the client prioritizes stability and lower risk, they might want to be cautious. Given the stock’s volatility and market sensitivity, it may not align well with a conservative investment strategy.\n",
      "\n",
      "- **Income-Focused Investors**: Since Moderna currently doesn’t offer dividends, it might not fit if the client's strategy relies on dividend income.\n",
      "\n",
      "### Final Recommendation:\n",
      "\n",
      "Considering the given data and potential growth prospects, I recommend Moderna, Inc. (MRNA) for clients with a higher risk tolerance and a focus on future growth rather than immediate returns. This stock aligns well with a growth strategy but might require diversification to mitigate inherent risks.\n",
      "\n",
      "For a more informed decision, it may be beneficial to conduct additional analysis using moving averages, technical indicators, and a deeper dive into Moderna’s financial health and market factors.\n",
      "\n",
      "Please let me know if you need further details or specific additional analyses.get_last_message initiated\n",
      "asst_id = blank\n",
      "message.assistant_id != asst_id, record previous message first\n"
     ]
    }
   ],
   "source": [
    "prompt_start = f\"This is the financial consultant.\\\n",
    "\tThe client wants advice on the following stocks.\\\n",
    "\tI need you to provide me your analysis on these stocks so I can provide the appropriate recommendations.\\\n",
    "\tYou will be provided with the data of these stocks in .csv format. Use them as you see fit.\\\n",
    "\tStocks: {ticker}\"\n",
    "\n",
    "thread = ThreadManager(\n",
    "\tclient=client,\n",
    "\tprompt=prompt_start\n",
    ")\n",
    "\n",
    "thread.run_thread(\n",
    "\tassistant=fin_analyst\n",
    "\t# prompt=prompt_start,\n",
    "\t# attachments=[file_stocks.file_id, file_cashflow.file_id, file_income_stmt.file_id]\n",
    ")\n",
    "\n",
    "next_prompt = thread.last_message\n",
    "\n",
    "thread.run_thread(\n",
    "\tassistant=fin_consultant,\n",
    "\tprompt=next_prompt\n",
    ")"
   ]
  },
  {
   "cell_type": "code",
   "execution_count": null,
   "metadata": {},
   "outputs": [
    {
     "name": "stdout",
     "output_type": "stream",
     "text": [
      "\n",
      "assistant > Sure, here's a short sample response:\n",
      "\n",
      "---\n",
      "\n",
      "### Recommendation for Moderna, Inc. (MRNA)\n",
      "\n",
      "**Strengths**:\n",
      "1. **High Growth Potential**: Strong involvement in mRNA technology.\n",
      "2. **Significant Market Interest**: High trading volumes indicate investor confidence.\n",
      "\n",
      "**Weaknesses**:\n",
      "1. **Volatility**: Significant price fluctuations present higher risk.\n",
      "2. **No Dividends**: Not suitable for income-focused investors.\n",
      "\n",
      "**Fit with Strategy**:\n",
      "- **Growth-Oriented Investors**: Suitable due to high growth potential.\n",
      "- **Risk-Averse Investors**: Caution advised due to volatility.\n",
      "- **Income-Focused Investors**: Not recommended since it doesn’t offer dividends.\n",
      "\n",
      "### Final Recommendation:\n",
      "Moderna, Inc. (MRNA) is recommended for growth-oriented investors with higher risk tolerance. Not ideal for conservative or income-focused strategies.\n",
      "\n",
      "---\n",
      "\n",
      "Please let me know if you need any further details!get_last_message initiated\n",
      "asst_id = blank\n",
      "message.assistant_id != asst_id, record previous message first\n",
      "Sure, here's a short sample response:\n",
      "\n",
      "---\n",
      "\n",
      "### Recommendation for Moderna, Inc. (MRNA)\n",
      "\n",
      "**Strengths**:\n",
      "1. **High Growth Potential**: Strong involvement in mRNA technology.\n",
      "2. **Significant Market Interest**: High trading volumes indicate investor confidence.\n",
      "\n",
      "**Weaknesses**:\n",
      "1. **Volatility**: Significant price fluctuations present higher risk.\n",
      "2. **No Dividends**: Not suitable for income-focused investors.\n",
      "\n",
      "**Fit with Strategy**:\n",
      "- **Growth-Oriented Investors**: Suitable due to high growth potential.\n",
      "- **Risk-Averse Investors**: Caution advised due to volatility.\n",
      "- **Income-Focused Investors**: Not recommended since it doesn’t offer dividends.\n",
      "\n",
      "### Final Recommendation:\n",
      "Moderna, Inc. (MRNA) is recommended for growth-oriented investors with higher risk tolerance. Not ideal for conservative or income-focused strategies.\n",
      "\n",
      "---\n",
      "\n",
      "Please let me know if you need any further details!\n"
     ]
    }
   ],
   "source": [
    "next_prompt = 'This message is for testing. Can you give a short sample response.'\n",
    "\n",
    "thread.run_thread(\n",
    "\tassistant=fin_consultant,\n",
    "\tprompt=next_prompt\n",
    ")\n",
    "\n",
    "print(thread.last_message)"
   ]
  },
  {
   "cell_type": "code",
   "execution_count": null,
   "metadata": {},
   "outputs": [
    {
     "data": {
      "text/html": [
       "<div>\n",
       "<style scoped>\n",
       "    .dataframe tbody tr th:only-of-type {\n",
       "        vertical-align: middle;\n",
       "    }\n",
       "\n",
       "    .dataframe tbody tr th {\n",
       "        vertical-align: top;\n",
       "    }\n",
       "\n",
       "    .dataframe thead th {\n",
       "        text-align: right;\n",
       "    }\n",
       "</style>\n",
       "<table border=\"1\" class=\"dataframe\">\n",
       "  <thead>\n",
       "    <tr style=\"text-align: right;\">\n",
       "      <th></th>\n",
       "      <th>message_id</th>\n",
       "      <th>assistant_id</th>\n",
       "      <th>created_at</th>\n",
       "      <th>file_ids</th>\n",
       "      <th>role</th>\n",
       "      <th>run_id</th>\n",
       "      <th>message_text</th>\n",
       "      <th>_msg_loc</th>\n",
       "    </tr>\n",
       "  </thead>\n",
       "  <tbody>\n",
       "    <tr>\n",
       "      <th>0</th>\n",
       "      <td>msg_ix1bKCixCKmonpOUUcwEA1ma</td>\n",
       "      <td>None</td>\n",
       "      <td>1727333036</td>\n",
       "      <td>[]</td>\n",
       "      <td>user</td>\n",
       "      <td>None</td>\n",
       "      <td>This is the financial consultant.\\tThe client ...</td>\n",
       "      <td>0</td>\n",
       "    </tr>\n",
       "    <tr>\n",
       "      <th>1</th>\n",
       "      <td>msg_av7UCA1kgMGRZ01gCpv4Ury6</td>\n",
       "      <td>asst_Mqf9cO1sDTOd4UMYwcFfIQrA</td>\n",
       "      <td>1727333042</td>\n",
       "      <td>[]</td>\n",
       "      <td>assistant</td>\n",
       "      <td>run_E0zS7pImG3gCfk5W0euE7UG2</td>\n",
       "      <td>Here are the information gathered from the fin...</td>\n",
       "      <td>1</td>\n",
       "    </tr>\n",
       "    <tr>\n",
       "      <th>2</th>\n",
       "      <td>msg_MV1Z4VnNef62FVL3JloElTIk</td>\n",
       "      <td>None</td>\n",
       "      <td>1727333054</td>\n",
       "      <td>[]</td>\n",
       "      <td>user</td>\n",
       "      <td>None</td>\n",
       "      <td>Here are the information gathered from the fin...</td>\n",
       "      <td>2</td>\n",
       "    </tr>\n",
       "    <tr>\n",
       "      <th>3</th>\n",
       "      <td>msg_lSPZOxGoeUugyaV1yrokW6Ey</td>\n",
       "      <td>asst_mPlBQ4ZF8YIF238DWqWRhV4U</td>\n",
       "      <td>1727333055</td>\n",
       "      <td>[]</td>\n",
       "      <td>assistant</td>\n",
       "      <td>run_XvEl5sGLSsT7me9d5BFLU4d8</td>\n",
       "      <td>### Recommendation for Moderna, Inc. (MRNA)\\n\\...</td>\n",
       "      <td>3</td>\n",
       "    </tr>\n",
       "    <tr>\n",
       "      <th>4</th>\n",
       "      <td>msg_YtXAmLTidZAAWuOaWWswUtLE</td>\n",
       "      <td>None</td>\n",
       "      <td>1727333074</td>\n",
       "      <td>[]</td>\n",
       "      <td>user</td>\n",
       "      <td>None</td>\n",
       "      <td>This message is for testing. Can you give a sh...</td>\n",
       "      <td>4</td>\n",
       "    </tr>\n",
       "    <tr>\n",
       "      <th>5</th>\n",
       "      <td>msg_RVGjKzoJzEA545GR4csDTgKz</td>\n",
       "      <td>asst_mPlBQ4ZF8YIF238DWqWRhV4U</td>\n",
       "      <td>1727333075</td>\n",
       "      <td>[]</td>\n",
       "      <td>assistant</td>\n",
       "      <td>run_KHvUeX1f2U5WBrtgA2BwTDoc</td>\n",
       "      <td>Sure, here's a short sample response:\\n\\n---\\n...</td>\n",
       "      <td>5</td>\n",
       "    </tr>\n",
       "  </tbody>\n",
       "</table>\n",
       "</div>"
      ],
      "text/plain": [
       "                     message_id                   assistant_id  created_at  \\\n",
       "0  msg_ix1bKCixCKmonpOUUcwEA1ma                           None  1727333036   \n",
       "1  msg_av7UCA1kgMGRZ01gCpv4Ury6  asst_Mqf9cO1sDTOd4UMYwcFfIQrA  1727333042   \n",
       "2  msg_MV1Z4VnNef62FVL3JloElTIk                           None  1727333054   \n",
       "3  msg_lSPZOxGoeUugyaV1yrokW6Ey  asst_mPlBQ4ZF8YIF238DWqWRhV4U  1727333055   \n",
       "4  msg_YtXAmLTidZAAWuOaWWswUtLE                           None  1727333074   \n",
       "5  msg_RVGjKzoJzEA545GR4csDTgKz  asst_mPlBQ4ZF8YIF238DWqWRhV4U  1727333075   \n",
       "\n",
       "  file_ids       role                        run_id  \\\n",
       "0       []       user                          None   \n",
       "1       []  assistant  run_E0zS7pImG3gCfk5W0euE7UG2   \n",
       "2       []       user                          None   \n",
       "3       []  assistant  run_XvEl5sGLSsT7me9d5BFLU4d8   \n",
       "4       []       user                          None   \n",
       "5       []  assistant  run_KHvUeX1f2U5WBrtgA2BwTDoc   \n",
       "\n",
       "                                        message_text  _msg_loc  \n",
       "0  This is the financial consultant.\\tThe client ...         0  \n",
       "1  Here are the information gathered from the fin...         1  \n",
       "2  Here are the information gathered from the fin...         2  \n",
       "3  ### Recommendation for Moderna, Inc. (MRNA)\\n\\...         3  \n",
       "4  This message is for testing. Can you give a sh...         4  \n",
       "5  Sure, here's a short sample response:\\n\\n---\\n...         5  "
      ]
     },
     "execution_count": 6,
     "metadata": {},
     "output_type": "execute_result"
    }
   ],
   "source": [
    "thread.df_messages\n",
    "\n",
    "df_max_date = df.groupby('assistant_id').agg({'_msg_loc': 'max'}).reset_index()\n",
    "df_last_messages = pd.merge(df_max_date, df[['assistant_id', '_msg_loc', 'message_text']], how='inner', on=['assistant_id', '_msg_loc'])"
   ]
  },
  {
   "cell_type": "code",
   "execution_count": null,
   "metadata": {},
   "outputs": [
    {
     "data": {
      "text/html": [
       "<div>\n",
       "<style scoped>\n",
       "    .dataframe tbody tr th:only-of-type {\n",
       "        vertical-align: middle;\n",
       "    }\n",
       "\n",
       "    .dataframe tbody tr th {\n",
       "        vertical-align: top;\n",
       "    }\n",
       "\n",
       "    .dataframe thead th {\n",
       "        text-align: right;\n",
       "    }\n",
       "</style>\n",
       "<table border=\"1\" class=\"dataframe\">\n",
       "  <thead>\n",
       "    <tr style=\"text-align: right;\">\n",
       "      <th></th>\n",
       "      <th>message_id</th>\n",
       "      <th>assistant_id</th>\n",
       "      <th>created_at</th>\n",
       "      <th>file_ids</th>\n",
       "      <th>role</th>\n",
       "      <th>run_id</th>\n",
       "      <th>message_text</th>\n",
       "      <th>_msg_loc</th>\n",
       "    </tr>\n",
       "  </thead>\n",
       "  <tbody>\n",
       "    <tr>\n",
       "      <th>0</th>\n",
       "      <td>msg_jNKhekiTCZtm8w4FPvX15gAj</td>\n",
       "      <td>None</td>\n",
       "      <td>1726556528</td>\n",
       "      <td>[]</td>\n",
       "      <td>user</td>\n",
       "      <td>None</td>\n",
       "      <td>This is the financial consultant.\\tThe client ...</td>\n",
       "      <td>0</td>\n",
       "    </tr>\n",
       "    <tr>\n",
       "      <th>1</th>\n",
       "      <td>msg_ZnRQdMDKHoD1H5rtlXqHchrD</td>\n",
       "      <td>asst_Mqf9cO1sDTOd4UMYwcFfIQrA</td>\n",
       "      <td>1726556533</td>\n",
       "      <td>[]</td>\n",
       "      <td>assistant</td>\n",
       "      <td>run_SUXZgjKFGQXWadJINBkRKVKT</td>\n",
       "      <td>Here are the information gathered from the fin...</td>\n",
       "      <td>1</td>\n",
       "    </tr>\n",
       "    <tr>\n",
       "      <th>2</th>\n",
       "      <td>msg_Uk5Nu4x58DtDkKMAq2hD1caL</td>\n",
       "      <td>None</td>\n",
       "      <td>1726556545</td>\n",
       "      <td>[]</td>\n",
       "      <td>user</td>\n",
       "      <td>None</td>\n",
       "      <td>Here are the information gathered from the fin...</td>\n",
       "      <td>2</td>\n",
       "    </tr>\n",
       "    <tr>\n",
       "      <th>3</th>\n",
       "      <td>msg_OeTIVYGnagoJeGndj95UJJFG</td>\n",
       "      <td>asst_mPlBQ4ZF8YIF238DWqWRhV4U</td>\n",
       "      <td>1726556546</td>\n",
       "      <td>[]</td>\n",
       "      <td>assistant</td>\n",
       "      <td>run_e3Wu9olqlU7Ts7zIrWRpeAoY</td>\n",
       "      <td>### Recommendation for Moderna Inc. (MRNA)\\n\\n...</td>\n",
       "      <td>3</td>\n",
       "    </tr>\n",
       "    <tr>\n",
       "      <th>4</th>\n",
       "      <td>msg_2oqodrxs428y1uKMA8I38ikI</td>\n",
       "      <td>None</td>\n",
       "      <td>1726556574</td>\n",
       "      <td>[]</td>\n",
       "      <td>user</td>\n",
       "      <td>None</td>\n",
       "      <td>This message is for testing. Can you give a sh...</td>\n",
       "      <td>4</td>\n",
       "    </tr>\n",
       "    <tr>\n",
       "      <th>5</th>\n",
       "      <td>msg_tXf7w2DLQf3jXx2Vihici8De</td>\n",
       "      <td>asst_mPlBQ4ZF8YIF238DWqWRhV4U</td>\n",
       "      <td>1726556575</td>\n",
       "      <td>[]</td>\n",
       "      <td>assistant</td>\n",
       "      <td>run_zhpjoi5bMscVc2i6fZWGL35t</td>\n",
       "      <td>### Recommendation for Moderna Inc. (MRNA)\\n\\n...</td>\n",
       "      <td>5</td>\n",
       "    </tr>\n",
       "  </tbody>\n",
       "</table>\n",
       "</div>"
      ],
      "text/plain": [
       "                     message_id                   assistant_id  created_at  \\\n",
       "0  msg_jNKhekiTCZtm8w4FPvX15gAj                           None  1726556528   \n",
       "1  msg_ZnRQdMDKHoD1H5rtlXqHchrD  asst_Mqf9cO1sDTOd4UMYwcFfIQrA  1726556533   \n",
       "2  msg_Uk5Nu4x58DtDkKMAq2hD1caL                           None  1726556545   \n",
       "3  msg_OeTIVYGnagoJeGndj95UJJFG  asst_mPlBQ4ZF8YIF238DWqWRhV4U  1726556546   \n",
       "4  msg_2oqodrxs428y1uKMA8I38ikI                           None  1726556574   \n",
       "5  msg_tXf7w2DLQf3jXx2Vihici8De  asst_mPlBQ4ZF8YIF238DWqWRhV4U  1726556575   \n",
       "\n",
       "  file_ids       role                        run_id  \\\n",
       "0       []       user                          None   \n",
       "1       []  assistant  run_SUXZgjKFGQXWadJINBkRKVKT   \n",
       "2       []       user                          None   \n",
       "3       []  assistant  run_e3Wu9olqlU7Ts7zIrWRpeAoY   \n",
       "4       []       user                          None   \n",
       "5       []  assistant  run_zhpjoi5bMscVc2i6fZWGL35t   \n",
       "\n",
       "                                        message_text  _msg_loc  \n",
       "0  This is the financial consultant.\\tThe client ...         0  \n",
       "1  Here are the information gathered from the fin...         1  \n",
       "2  Here are the information gathered from the fin...         2  \n",
       "3  ### Recommendation for Moderna Inc. (MRNA)\\n\\n...         3  \n",
       "4  This message is for testing. Can you give a sh...         4  \n",
       "5  ### Recommendation for Moderna Inc. (MRNA)\\n\\n...         5  "
      ]
     },
     "execution_count": 35,
     "metadata": {},
     "output_type": "execute_result"
    }
   ],
   "source": [
    "thread.df_messages"
   ]
  },
  {
   "cell_type": "code",
   "execution_count": null,
   "metadata": {},
   "outputs": [
    {
     "name": "stdout",
     "output_type": "stream",
     "text": [
      "thread: thread_mPIjTp06Kua0Y9HZvV0eUdh3 has been deleted.\n"
     ]
    }
   ],
   "source": [
    "thread.delete_thread()"
   ]
  },
  {
   "cell_type": "code",
   "execution_count": null,
   "metadata": {},
   "outputs": [],
   "source": [
    "yfin = YFHandler(stock_list=['MSFT'],schemas=dic_files)"
   ]
  },
  {
   "cell_type": "code",
   "execution_count": null,
   "metadata": {},
   "outputs": [],
   "source": [
    "dic_links, dic_articles = yfin.get_stock_news(max_links=5)\n",
    "# type(dic_links)"
   ]
  },
  {
   "cell_type": "code",
   "execution_count": null,
   "metadata": {},
   "outputs": [
    {
     "name": "stdout",
     "output_type": "stream",
     "text": [
      "Lumen Technologies (NYSE: LUMN), the telecom company formerly known as CenturyLink, seemed to be in dire straits just a few years ago. Its revenue was declining, it was racking up steep losses, and it suspended its dividend in 2022.\n",
      "But over the past 12 months, Lumen's stock soared 374% as a new AI infrastructure deal with Microsoft breathed fresh life into its business. Could those tailwinds propel its stock even higher over the next year?\n",
      "Lumen is one of the largest wireline service providers in the United States. Unlike AT&T and Verizon, which expanded their wireless networks to reduce their dependence on wireline connections, Lumen shunned the wireless market and expanded its wireline business through a series of mergers and acquisitions.\n",
      "Lumen expected to generate slow but steady growth as economies of scale kicked in. It also expanded its faster fiber networks and bundled more cloud, security, and collaboration services into its business wireline plans.\n",
      "Lumen's smaller fiber business grew, but that growth was offset by the persistent decline of its business wireline segment. As a result, its annual revenue fell for the past five consecutive years. Over the past two years, its adjusted earnings before interest, taxes, depreciation, and amortization (EBITDA) margins shrank and it racked up steep losses.\n",
      "Metric\n",
      "2020\n",
      "2021\n",
      "2022\n",
      "2023\n",
      "Total Revenue\n",
      "$20.71B\n",
      "$19.69B\n",
      "$17.48B\n",
      "$14.56B\n",
      "Revenue Growth\n",
      "(4%)\n",
      "(5%)\n",
      "(11%)\n",
      "(17%)\n",
      "Adjusted EBITDA Margin*\n",
      "41.8%\n",
      "42.9%\n",
      "39.2%\n",
      "31.8%\n",
      "Net Income (Loss)\n",
      "($1.23B)\n",
      "$2.03B\n",
      "($1.55B)\n",
      "($10.30B)\n",
      "Data source: Lumen Technologies. *Excluding special items.\n",
      "That's why Lumen's stock dropped below $1 this June. But in July, its stock soared after Microsoft, which owns Azure, the world's second largest cloud infrastructure platform, signed a new networking and fiber deal with Lumen. Through that partnership, Lumen will upgrade Azure's infrastructure to support the future growth of its cloud and AI services. Lumen also signed a deal with Corning to secure a steady supply of fiber optic cables for those sweeping upgrades.\n",
      "In early August, Lumen claimed it had secured $5 billion in new contracts (including the Microsoft deal) related to the AI connectivity market. It also said it was in \"active discussions\" to \"secure another $7 billion in sales opportunities\" and would aim to \"more than double its intercity network miles over the next five years.\"\n",
      "Based on those statements, Lumen could potentially generate $5 to $12 billion in revenue over the next five years ($1 to $2.4 billion annually) from its new AI-related contracts. That would be equivalent to 7% to 16% of its revenue in 2023, but it's unclear if those tailwinds can fully offset the secular decline of its non-AI business wireline segment.\n",
      "Analysts expect Lumen's revenue to decline 11% to $13 billion in 2024, followed by a milder 4% dip to $12.4 billion in 2025 as the macro environment warms up, it expands its fiber business, and it recognizes more revenue from its AI contracts.\n",
      "However, Lumen plans to \"pull forward\" some of its planned spending for 2026 and 2027 to 2025 to fulfill those new AI data center deals. As a result, it expects its adjusted EBITDA to decline from $4.6 billion in 2023 to $3.9 to $4 billion in 2024. Analysts expect its adjusted EBITDA to drop to $3.9 billion in 2024 and slip to $3.7 billion in 2025.\n",
      "Those lackluster expectations indicate Lumen's business won't experience a rapid recovery over the next year. It's also still saddled with $18.4 billion in long-term debt and a staggering debt-to-equity ratio of 70. However, it expects its new contracts to boost its free cash flow (FCF) from negative $878 million in 2023 to positive $1 to $1.2 billion in 2024. It also still had $1.5 billion in cash and equivalents at the end of its latest quarter.\n",
      "Lumen won't go bankrupt anytime soon, and its stock still looks undervalued relative to its peers. With an enterprise value of $23.4 billion (which includes all of its long-term debt), it trades at just 1.8 times this year's sales and 6 times its adjusted EBITDA. By the same measure, AT&T and Verizon trade at 6.3 and 6.8 times this year's sales, respectively.\n",
      "Yet Lumen's stock can only be considered cheap if it actually grows its revenue, keeps its FCF positive, and turns profitable again. We probably won't know if it can achieve all of those goals within the next four quarters.\n",
      "So for now, I expect Lumen's stock to mainly trade on the short-term news regarding its AI-oriented businesses and the broader AI market. Its downside potential might be limited by investors' hopes for its future growth, but its upside potential could also be capped by concerns about its persistent losses, shrinking margins, and high debt. Therefore, I still expect Lumen's stock to trade sideways and likely underperform its more profitable industry peers over the next year.\n",
      "Before you buy stock in Lumen Technologies, consider this:\n",
      "The Motley Fool Stock Advisor analyst team just identified what they believe are the 10 best stocks for investors to buy now… and Lumen Technologies wasn’t one of them. The 10 stocks that made the cut could produce monster returns in the coming years.\n",
      "Consider when Nvidia made this list on April 15, 2005... if you invested $1,000 at the time of our recommendation, you’d have $765,523!*\n",
      "Stock Advisor provides investors with an easy-to-follow blueprint for success, including guidance on building a portfolio, regular updates from analysts, and two new stock picks each month. The Stock Advisor service has more than quadrupled the return of S&P 500 since 2002*.\n",
      "See the 10 stocks »\n",
      "*Stock Advisor returns as of September 30, 2024\n",
      "Leo Sun has positions in AT&T. The Motley Fool has positions in and recommends Microsoft. The Motley Fool recommends Corning and Verizon Communications and recommends the following options: long January 2026 $395 calls on Microsoft and short January 2026 $405 calls on Microsoft. The Motley Fool has a disclosure policy.\n",
      "Where Will Lumen Technologies Stock Be in 1 Year? was originally published by The Motley Fool\n"
     ]
    }
   ],
   "source": [
    "# print(dic_articles['MSFT'][0])\n",
    "dic_links\n",
    "print(dic_articles['MSFT'][2])"
   ]
  }
 ],
 "metadata": {
  "kernelspec": {
   "display_name": "Python 3",
   "language": "python",
   "name": "python3"
  },
  "language_info": {
   "codemirror_mode": {
    "name": "ipython",
    "version": 3
   },
   "file_extension": ".py",
   "mimetype": "text/x-python",
   "name": "python",
   "nbconvert_exporter": "python",
   "pygments_lexer": "ipython3",
   "version": "3.9.13"
  }
 },
 "nbformat": 4,
 "nbformat_minor": 2
}
